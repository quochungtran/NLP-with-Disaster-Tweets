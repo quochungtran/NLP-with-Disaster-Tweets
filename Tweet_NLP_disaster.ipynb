{
  "metadata": {
    "kernelspec": {
      "language": "python",
      "display_name": "Python 3",
      "name": "python3"
    },
    "language_info": {
      "pygments_lexer": "ipython3",
      "nbconvert_exporter": "python",
      "version": "3.6.4",
      "file_extension": ".py",
      "codemirror_mode": {
        "name": "ipython",
        "version": 3
      },
      "name": "python",
      "mimetype": "text/x-python"
    },
    "colab": {
      "provenance": [],
      "toc_visible": true,
      "include_colab_link": true
    }
  },
  "nbformat_minor": 0,
  "nbformat": 4,
  "cells": [
    {
      "cell_type": "markdown",
      "metadata": {
        "id": "view-in-github",
        "colab_type": "text"
      },
      "source": [
        "<a href=\"https://colab.research.google.com/github/quochungtran/NLP-with-Disaster-Tweets/blob/master/Tweet_NLP_disaster.ipynb\" target=\"_parent\"><img src=\"https://colab.research.google.com/assets/colab-badge.svg\" alt=\"Open In Colab\"/></a>"
      ]
    },
    {
      "cell_type": "markdown",
      "source": [
        "# **Mout with gg drive**"
      ],
      "metadata": {
        "id": "n6K9qpYUrboz"
      }
    },
    {
      "cell_type": "code",
      "source": [
        "# connect gitlab to drive to be a place to store data\n",
        "from google.colab import drive\n",
        "drive.mount(\"/content/drive\")"
      ],
      "metadata": {
        "colab": {
          "base_uri": "https://localhost:8080/"
        },
        "id": "Vd-XbzhwtHmb",
        "outputId": "c4becb4f-aa3f-4cec-9951-eff97c837325"
      },
      "execution_count": 7,
      "outputs": [
        {
          "output_type": "stream",
          "name": "stdout",
          "text": [
            "Drive already mounted at /content/drive; to attempt to forcibly remount, call drive.mount(\"/content/drive\", force_remount=True).\n"
          ]
        }
      ]
    },
    {
      "cell_type": "code",
      "source": [
        "cd /content/drive/MyDrive/NLP-with-Disaster-Tweets\n"
      ],
      "metadata": {
        "colab": {
          "base_uri": "https://localhost:8080/"
        },
        "id": "2KQFMW2QtU5l",
        "outputId": "e75dbf9e-c3f3-42b4-c962-662273d39ebc"
      },
      "execution_count": 8,
      "outputs": [
        {
          "output_type": "stream",
          "name": "stdout",
          "text": [
            "/content/drive/MyDrive/NLP-with-Disaster-Tweets\n"
          ]
        }
      ]
    },
    {
      "cell_type": "markdown",
      "source": [
        "# **Setting up** "
      ],
      "metadata": {
        "id": "mjijFXCxrzse"
      }
    },
    {
      "cell_type": "code",
      "source": [
        "#Importing the required libraries to read,visualize and model the givn dataset files\n",
        "import pandas as pd\n",
        "import numpy as np\n",
        "import seaborn as sns\n",
        "import matplotlib.pyplot as plt\n",
        "import plotly.graph_objects as go\n",
        "import plotly.express as px\n",
        "import missingno as msno \n",
        "import warnings\n",
        "import os\n",
        "\n",
        "warnings.filterwarnings(\"ignore\")\n",
        "import re\n",
        "import re\n",
        "import string\n",
        "import nltk\n",
        "from nltk.corpus import stopwords\n",
        "from sklearn import model_selection\n",
        "from sklearn.feature_extraction.text import CountVectorizer,TfidfVectorizer\n",
        "from sklearn.model_selection import train_test_split,GridSearchCV\n",
        "from sklearn.naive_bayes import MultinomialNB\n",
        "from sklearn.metrics import f1_score\n",
        "from sklearn.metrics import classification_report, confusion_matrix, accuracy_score\n",
        "from sklearn.pipeline import Pipeline\n",
        "from sklearn.feature_extraction.text import TfidfTransformer\n",
        "from sklearn.linear_model import LogisticRegression\n",
        "from sklearn.svm import SVC\n",
        "from sklearn.neighbors import KNeighborsClassifier\n",
        "from sklearn.tree import DecisionTreeClassifier\n",
        "from sklearn.ensemble import RandomForestClassifier\n",
        "from sklearn.multioutput import MultiOutputClassifier\n",
        "from sklearn.model_selection import RepeatedStratifiedKFold\n",
        "import nltk\n",
        "from nltk.tokenize import word_tokenize,RegexpTokenizer\n",
        "from nltk.stem import WordNetLemmatizer\n",
        "from platform import python_version\n",
        "print (python_version())"
      ],
      "metadata": {
        "colab": {
          "base_uri": "https://localhost:8080/"
        },
        "id": "CemHaPrJrbyD",
        "outputId": "7cc3238d-31e4-4204-d8bd-53485adf2012"
      },
      "execution_count": 15,
      "outputs": [
        {
          "output_type": "stream",
          "name": "stdout",
          "text": [
            "3.9.16\n"
          ]
        }
      ]
    },
    {
      "cell_type": "markdown",
      "source": [
        "# **Prolem statement** \n",
        "\n",
        "1. Data exploratory analysis: This section will cover the basics of data exploration. \n",
        "\n",
        "\n",
        "2. Data preprocessing: This section will cover the basics of data cleaning and preparation, such as removing missing values and splitting the data into train and test sets.\n",
        "\n",
        "3. Text processing and feature extraction: This section will cover the basics of text processing and feature extraction using NLP techniques, such as tokenization, stopword removal, and stemming. It will also introduce the concept of feature engineering, such as creating new features based on existing data.\n",
        "\n",
        "4. Machine learning model selection: This section will cover the basics of selecting a machine learning model and evaluating its performance, such as using different models, hyperparameter tuning, and model selection based on performance metrics.\n",
        "\n",
        "5. Model evaluation and performance: This section will cover the basics of evaluating the performance of a machine learning model, such as using metrics like accuracy, precision, recall, and F1-score, and understanding the trade-offs between different metrics."
      ],
      "metadata": {
        "id": "Qhg054v3u-wr"
      }
    },
    {
      "cell_type": "code",
      "source": [
        "# defining path \n",
        "\n",
        "DATA_FOLDER   = \"./data\"\n",
        "TRAINING_PATH = \"./data/train.csv\"\n",
        "TESTING_PATH  = \"./data/test.csv\" "
      ],
      "metadata": {
        "id": "lrYwWbU-qVWC"
      },
      "execution_count": 10,
      "outputs": []
    },
    {
      "cell_type": "code",
      "source": [
        "for dir_name, _,filenames in os.walk(DATA_FOLDER):\n",
        "  for filename in filenames:\n",
        "    print(os.path.join(dir_name, filename))"
      ],
      "metadata": {
        "colab": {
          "base_uri": "https://localhost:8080/"
        },
        "id": "NXH-XcIYqSkF",
        "outputId": "03d28345-3ea9-4956-c43c-8c5035130060"
      },
      "execution_count": 17,
      "outputs": [
        {
          "output_type": "stream",
          "name": "stdout",
          "text": [
            "./data/train.csv\n",
            "./data/test.csv\n",
            "./data/sample_submission.csv\n"
          ]
        }
      ]
    },
    {
      "cell_type": "code",
      "source": [
        "df_train = pd.read_csv(TRAINING_PATH)\n",
        "df_test  = pd.read_csv(TESTING_PATH)"
      ],
      "metadata": {
        "id": "7qLY4wphu9Pw"
      },
      "execution_count": 53,
      "outputs": []
    },
    {
      "cell_type": "code",
      "source": [
        "df_train.head()"
      ],
      "metadata": {
        "colab": {
          "base_uri": "https://localhost:8080/",
          "height": 206
        },
        "id": "yyvjBCoArb2a",
        "outputId": "e2addd08-3ed0-4083-e2b4-5ddf24467e0d"
      },
      "execution_count": 19,
      "outputs": [
        {
          "output_type": "execute_result",
          "data": {
            "text/plain": [
              "   id keyword location                                               text  \\\n",
              "0   1     NaN      NaN  Our Deeds are the Reason of this #earthquake M...   \n",
              "1   4     NaN      NaN             Forest fire near La Ronge Sask. Canada   \n",
              "2   5     NaN      NaN  All residents asked to 'shelter in place' are ...   \n",
              "3   6     NaN      NaN  13,000 people receive #wildfires evacuation or...   \n",
              "4   7     NaN      NaN  Just got sent this photo from Ruby #Alaska as ...   \n",
              "\n",
              "   target  \n",
              "0       1  \n",
              "1       1  \n",
              "2       1  \n",
              "3       1  \n",
              "4       1  "
            ],
            "text/html": [
              "\n",
              "  <div id=\"df-8e443260-2620-47a1-b321-34b566ed7429\">\n",
              "    <div class=\"colab-df-container\">\n",
              "      <div>\n",
              "<style scoped>\n",
              "    .dataframe tbody tr th:only-of-type {\n",
              "        vertical-align: middle;\n",
              "    }\n",
              "\n",
              "    .dataframe tbody tr th {\n",
              "        vertical-align: top;\n",
              "    }\n",
              "\n",
              "    .dataframe thead th {\n",
              "        text-align: right;\n",
              "    }\n",
              "</style>\n",
              "<table border=\"1\" class=\"dataframe\">\n",
              "  <thead>\n",
              "    <tr style=\"text-align: right;\">\n",
              "      <th></th>\n",
              "      <th>id</th>\n",
              "      <th>keyword</th>\n",
              "      <th>location</th>\n",
              "      <th>text</th>\n",
              "      <th>target</th>\n",
              "    </tr>\n",
              "  </thead>\n",
              "  <tbody>\n",
              "    <tr>\n",
              "      <th>0</th>\n",
              "      <td>1</td>\n",
              "      <td>NaN</td>\n",
              "      <td>NaN</td>\n",
              "      <td>Our Deeds are the Reason of this #earthquake M...</td>\n",
              "      <td>1</td>\n",
              "    </tr>\n",
              "    <tr>\n",
              "      <th>1</th>\n",
              "      <td>4</td>\n",
              "      <td>NaN</td>\n",
              "      <td>NaN</td>\n",
              "      <td>Forest fire near La Ronge Sask. Canada</td>\n",
              "      <td>1</td>\n",
              "    </tr>\n",
              "    <tr>\n",
              "      <th>2</th>\n",
              "      <td>5</td>\n",
              "      <td>NaN</td>\n",
              "      <td>NaN</td>\n",
              "      <td>All residents asked to 'shelter in place' are ...</td>\n",
              "      <td>1</td>\n",
              "    </tr>\n",
              "    <tr>\n",
              "      <th>3</th>\n",
              "      <td>6</td>\n",
              "      <td>NaN</td>\n",
              "      <td>NaN</td>\n",
              "      <td>13,000 people receive #wildfires evacuation or...</td>\n",
              "      <td>1</td>\n",
              "    </tr>\n",
              "    <tr>\n",
              "      <th>4</th>\n",
              "      <td>7</td>\n",
              "      <td>NaN</td>\n",
              "      <td>NaN</td>\n",
              "      <td>Just got sent this photo from Ruby #Alaska as ...</td>\n",
              "      <td>1</td>\n",
              "    </tr>\n",
              "  </tbody>\n",
              "</table>\n",
              "</div>\n",
              "      <button class=\"colab-df-convert\" onclick=\"convertToInteractive('df-8e443260-2620-47a1-b321-34b566ed7429')\"\n",
              "              title=\"Convert this dataframe to an interactive table.\"\n",
              "              style=\"display:none;\">\n",
              "        \n",
              "  <svg xmlns=\"http://www.w3.org/2000/svg\" height=\"24px\"viewBox=\"0 0 24 24\"\n",
              "       width=\"24px\">\n",
              "    <path d=\"M0 0h24v24H0V0z\" fill=\"none\"/>\n",
              "    <path d=\"M18.56 5.44l.94 2.06.94-2.06 2.06-.94-2.06-.94-.94-2.06-.94 2.06-2.06.94zm-11 1L8.5 8.5l.94-2.06 2.06-.94-2.06-.94L8.5 2.5l-.94 2.06-2.06.94zm10 10l.94 2.06.94-2.06 2.06-.94-2.06-.94-.94-2.06-.94 2.06-2.06.94z\"/><path d=\"M17.41 7.96l-1.37-1.37c-.4-.4-.92-.59-1.43-.59-.52 0-1.04.2-1.43.59L10.3 9.45l-7.72 7.72c-.78.78-.78 2.05 0 2.83L4 21.41c.39.39.9.59 1.41.59.51 0 1.02-.2 1.41-.59l7.78-7.78 2.81-2.81c.8-.78.8-2.07 0-2.86zM5.41 20L4 18.59l7.72-7.72 1.47 1.35L5.41 20z\"/>\n",
              "  </svg>\n",
              "      </button>\n",
              "      \n",
              "  <style>\n",
              "    .colab-df-container {\n",
              "      display:flex;\n",
              "      flex-wrap:wrap;\n",
              "      gap: 12px;\n",
              "    }\n",
              "\n",
              "    .colab-df-convert {\n",
              "      background-color: #E8F0FE;\n",
              "      border: none;\n",
              "      border-radius: 50%;\n",
              "      cursor: pointer;\n",
              "      display: none;\n",
              "      fill: #1967D2;\n",
              "      height: 32px;\n",
              "      padding: 0 0 0 0;\n",
              "      width: 32px;\n",
              "    }\n",
              "\n",
              "    .colab-df-convert:hover {\n",
              "      background-color: #E2EBFA;\n",
              "      box-shadow: 0px 1px 2px rgba(60, 64, 67, 0.3), 0px 1px 3px 1px rgba(60, 64, 67, 0.15);\n",
              "      fill: #174EA6;\n",
              "    }\n",
              "\n",
              "    [theme=dark] .colab-df-convert {\n",
              "      background-color: #3B4455;\n",
              "      fill: #D2E3FC;\n",
              "    }\n",
              "\n",
              "    [theme=dark] .colab-df-convert:hover {\n",
              "      background-color: #434B5C;\n",
              "      box-shadow: 0px 1px 3px 1px rgba(0, 0, 0, 0.15);\n",
              "      filter: drop-shadow(0px 1px 2px rgba(0, 0, 0, 0.3));\n",
              "      fill: #FFFFFF;\n",
              "    }\n",
              "  </style>\n",
              "\n",
              "      <script>\n",
              "        const buttonEl =\n",
              "          document.querySelector('#df-8e443260-2620-47a1-b321-34b566ed7429 button.colab-df-convert');\n",
              "        buttonEl.style.display =\n",
              "          google.colab.kernel.accessAllowed ? 'block' : 'none';\n",
              "\n",
              "        async function convertToInteractive(key) {\n",
              "          const element = document.querySelector('#df-8e443260-2620-47a1-b321-34b566ed7429');\n",
              "          const dataTable =\n",
              "            await google.colab.kernel.invokeFunction('convertToInteractive',\n",
              "                                                     [key], {});\n",
              "          if (!dataTable) return;\n",
              "\n",
              "          const docLinkHtml = 'Like what you see? Visit the ' +\n",
              "            '<a target=\"_blank\" href=https://colab.research.google.com/notebooks/data_table.ipynb>data table notebook</a>'\n",
              "            + ' to learn more about interactive tables.';\n",
              "          element.innerHTML = '';\n",
              "          dataTable['output_type'] = 'display_data';\n",
              "          await google.colab.output.renderOutput(dataTable, element);\n",
              "          const docLink = document.createElement('div');\n",
              "          docLink.innerHTML = docLinkHtml;\n",
              "          element.appendChild(docLink);\n",
              "        }\n",
              "      </script>\n",
              "    </div>\n",
              "  </div>\n",
              "  "
            ]
          },
          "metadata": {},
          "execution_count": 19
        }
      ]
    },
    {
      "cell_type": "markdown",
      "source": [
        "## **Data exploratory analysis**\n",
        "\n"
      ],
      "metadata": {
        "id": "TKMihPUuyKb5"
      }
    },
    {
      "cell_type": "code",
      "source": [
        "# data peeking \n",
        "print(f'Shape of the File : {df_train.shape}\\n')\n",
        "print(f'All the Columns of the Dataframe : \\n\\n{df_train.columns.values}')\n",
        "# values methods save data under list form "
      ],
      "metadata": {
        "colab": {
          "base_uri": "https://localhost:8080/"
        },
        "id": "Oz0gS1Jrx0Jn",
        "outputId": "0d0002f2-3221-40d9-abb9-68355b3afb0a"
      },
      "execution_count": 20,
      "outputs": [
        {
          "output_type": "stream",
          "name": "stdout",
          "text": [
            "Shape of the File : (7613, 5)\n",
            "\n",
            "All the Columns of the Dataframe : \n",
            "\n",
            "['id' 'keyword' 'location' 'text' 'target']\n"
          ]
        }
      ]
    },
    {
      "cell_type": "markdown",
      "source": [
        "### Data description\n",
        "\n",
        "- id - a unique identifier for each tweet\n",
        "\n",
        "- text - the text of the tweet\n",
        "\n",
        "- location - the location the tweet was sent from (may be blank)\n",
        "\n",
        "- keyword - a particular keyword from the tweet (may be blank)\n",
        "\n",
        "- target - in train.csv only, this denotes whether a tweet is about a real disaster (1) or not (0)"
      ],
      "metadata": {
        "id": "y_a9HFDmDjKn"
      }
    },
    {
      "cell_type": "code",
      "source": [
        "# ploting class distribution between train and test set\n",
        "fig = plt.figure(figsize=(10,8))\n",
        "ax = df_train['target'].value_counts().sort_values().plot(kind=\"bar\")\n",
        "ax.grid(axis=\"y\")\n",
        "ax.set_title(\"Target Value Counts in training data set\", fontsize=20)"
      ],
      "metadata": {
        "colab": {
          "base_uri": "https://localhost:8080/",
          "height": 517
        },
        "id": "JS32BzDOE9ET",
        "outputId": "e7de8863-db37-4ef0-de54-95b0cfae4b60"
      },
      "execution_count": 21,
      "outputs": [
        {
          "output_type": "execute_result",
          "data": {
            "text/plain": [
              "Text(0.5, 1.0, 'Target Value Counts in training data set')"
            ]
          },
          "metadata": {},
          "execution_count": 21
        },
        {
          "output_type": "display_data",
          "data": {
            "text/plain": [
              "<Figure size 720x576 with 1 Axes>"
            ],
            "image/png": "[encoded data removed]"
          },
          "metadata": {
            "needs_background": "light"
          }
        }
      ]
    },
    {
      "cell_type": "code",
      "source": [
        "# missing data\n",
        "def missing_values(df) :\n",
        "    print(\"Number of data points in data set  : \", df.shape[0])\n",
        "    print(\"Number of missing data for column keyword : \", df['keyword'].isna().sum())\n",
        "    print(\"Number of missing data for column location: \", df['location'].isna().sum())\n",
        "    print(f\"{round(df.keyword.isnull().sum()/(df.shape[0])*100,2)} %  of missing keywork values in entire of data\")\n",
        "    print(f\"{round(df.location.isnull().sum()/(df.shape[0])*100,2)} % of missing location values in entire of data\")"
      ],
      "metadata": {
        "id": "k2MMjaF7JHut"
      },
      "execution_count": 22,
      "outputs": []
    },
    {
      "cell_type": "code",
      "source": [
        "missing_values(df_train)"
      ],
      "metadata": {
        "colab": {
          "base_uri": "https://localhost:8080/"
        },
        "id": "_Fx8XbLCPvnt",
        "outputId": "fd7f2dec-80e5-496d-9a62-655deb30ddd9"
      },
      "execution_count": 32,
      "outputs": [
        {
          "output_type": "stream",
          "name": "stdout",
          "text": [
            "Number of data points in data set  :  7613\n",
            "Number of missing data for column keyword :  61\n",
            "Number of missing data for column location:  2533\n",
            "0.8 %  of missing keywork values in entire of data\n",
            "33.27 % of missing location values in entire of data\n"
          ]
        }
      ]
    },
    {
      "cell_type": "code",
      "source": [
        "missing_values(df_test)"
      ],
      "metadata": {
        "colab": {
          "base_uri": "https://localhost:8080/"
        },
        "id": "baeSiyThP3Qi",
        "outputId": "0832edb1-7b23-4d53-b00c-c3d6963d4314"
      },
      "execution_count": 24,
      "outputs": [
        {
          "output_type": "stream",
          "name": "stdout",
          "text": [
            "Number of data points in data set  :  3263\n",
            "Number of missing data for column keyword :  26\n",
            "Number of missing data for column location:  1105\n",
            "0.8 %  of missing keywork values in entire of data\n",
            "33.86 % of missing location values in entire of data\n"
          ]
        }
      ]
    },
    {
      "cell_type": "code",
      "source": [
        "# fill missing value to indicate \n",
        "for df in [df_train, df_test]:\n",
        "    for col in [\"keyword\", \"location\"]:\n",
        "        df[col] = df[col].fillna(f\"no_{col}\")\n"
      ],
      "metadata": {
        "id": "4F12AoMxwZAb"
      },
      "execution_count": 55,
      "outputs": []
    },
    {
      "cell_type": "code",
      "source": [
        "# check duplicate data \n",
        "print(df_train.duplicated().sum())\n",
        "print(df_test.duplicated().sum())"
      ],
      "metadata": {
        "colab": {
          "base_uri": "https://localhost:8080/"
        },
        "id": "LbjiVX2pNglF",
        "outputId": "3cb21bc4-b406-4811-c1c8-3d81d0a6755e"
      },
      "execution_count": 37,
      "outputs": [
        {
          "output_type": "stream",
          "name": "stdout",
          "text": [
            "0\n",
            "0\n"
          ]
        }
      ]
    },
    {
      "cell_type": "markdown",
      "source": [
        "### Keyword features"
      ],
      "metadata": {
        "id": "ob1O_mD-RO7j"
      }
    },
    {
      "cell_type": "code",
      "source": [
        "plt.hist(df_train[\"keyword\"].value_counts())"
      ],
      "metadata": {
        "colab": {
          "base_uri": "https://localhost:8080/",
          "height": 317
        },
        "id": "7_QZSTmNRsBv",
        "outputId": "ece4f86f-1915-4dad-98f7-82408971d8e2"
      },
      "execution_count": 26,
      "outputs": [
        {
          "output_type": "execute_result",
          "data": {
            "text/plain": [
              "(array([ 4.,  0.,  1.,  1.,  3., 18., 80., 70., 41.,  3.]),\n",
              " array([ 9. , 12.6, 16.2, 19.8, 23.4, 27. , 30.6, 34.2, 37.8, 41.4, 45. ]),\n",
              " <BarContainer object of 10 artists>)"
            ]
          },
          "metadata": {},
          "execution_count": 26
        },
        {
          "output_type": "display_data",
          "data": {
            "text/plain": [
              "<Figure size 432x288 with 1 Axes>"
            ],
            "image/png": "[encoded data removed]"
          },
          "metadata": {
            "needs_background": "light"
          }
        }
      ]
    },
    {
      "cell_type": "code",
      "source": [
        "# the most commently keyword appeared in our data set\n",
        "\n",
        "feat=df_train['keyword'].value_counts()\n",
        "print(feat.head())\n",
        "fig = px.scatter(feat, x=feat.values, y=feat.index,size=feat.values)\n",
        "fig.show()"
      ],
      "metadata": {
        "colab": {
          "base_uri": "https://localhost:8080/",
          "height": 646
        },
        "id": "UVjQwM6CQeQp",
        "outputId": "e33a82d4-601c-4151-963f-9324c7d6d406"
      },
      "execution_count": 38,
      "outputs": [
        {
          "output_type": "stream",
          "name": "stdout",
          "text": [
            "no_keyword    61\n",
            "fatalities    45\n",
            "deluge        42\n",
            "armageddon    42\n",
            "sinking       41\n",
            "Name: keyword, dtype: int64\n"
          ]
        },
        {
          "output_type": "display_data",
          "data": {
            "text/html": [
              "<html>\n",
              "<head><meta charset=\"utf-8\" /></head>\n",
              "<body>\n",
              "    <div>            <script src=\"https://cdnjs.cloudflare.com/ajax/libs/mathjax/2.7.5/MathJax.js?config=TeX-AMS-MML_SVG\"></script><script type=\"text/javascript\">if (window.MathJax) {MathJax.Hub.Config({SVG: {font: \"STIX-Web\"}});}</script>                <script type=\"text/javascript\">window.PlotlyConfig = {MathJaxConfig: 'local'};</script>\n",
              "        <script src=\"https://cdn.plot.ly/plotly-2.8.3.min.js\"></script>                <div id=\"19b06123-51e1-40fa-8c0d-d585894e375f\" class=\"plotly-graph-div\" style=\"height:525px; width:100%;\"></div>            <script type=\"text/javascript\">                                    window.PLOTLYENV=window.PLOTLYENV || {};                                    if (document.getElementById(\"19b06123-51e1-40fa-8c0d-d585894e375f\")) {                    Plotly.newPlot(                        \"19b06123-51e1-40fa-8c0d-d585894e375f\",                        [{\"hovertemplate\":\"x=%{x}<br>index=%{y}<br>size=%{marker.size}<extra></extra>\",\"legendgroup\":\"\",\"marker\":{\"color\":\"#636efa\",\"size\":[61,45,42,42,41,41,41,41,40,40,40,40,40,40,40,39,39,39,39,39,39,39,39,39,39,39,39,39,39,38,38,38,38,38,38,38,38,38,38,38,38,38,38,38,38,37,37,37,37,37,37,37,37,37,37,37,37,37,37,37,37,37,37,37,36,36,36,36,36,36,36,36,36,36,36,36,36,36,36,36,36,36,36,36,35,35,35,35,35,35,35,35,35,35,35,35,35,35,35,35,35,35,35,35,35,35,35,35,35,35,35,35,35,35,35,34,34,34,34,34,34,34,34,34,34,34,34,34,34,34,34,34,34,34,34,34,34,34,34,34,34,34,34,34,34,33,33,33,33,33,33,33,33,33,33,33,33,33,33,33,33,33,33,33,33,33,33,33,33,33,33,32,32,32,32,32,32,32,32,32,32,32,32,32,32,32,31,31,31,31,31,31,31,31,31,30,30,30,30,30,30,29,29,29,29,29,29,29,29,28,28,27,27,26,25,24,22,19,12,11,10,9],\"sizemode\":\"area\",\"sizeref\":0.1525,\"symbol\":\"circle\"},\"mode\":\"markers\",\"name\":\"\",\"orientation\":\"h\",\"showlegend\":false,\"x\":[61,45,42,42,41,41,41,41,40,40,40,40,40,40,40,39,39,39,39,39,39,39,39,39,39,39,39,39,39,38,38,38,38,38,38,38,38,38,38,38,38,38,38,38,38,37,37,37,37,37,37,37,37,37,37,37,37,37,37,37,37,37,37,37,36,36,36,36,36,36,36,36,36,36,36,36,36,36,36,36,36,36,36,36,35,35,35,35,35,35,35,35,35,35,35,35,35,35,35,35,35,35,35,35,35,35,35,35,35,35,35,35,35,35,35,34,34,34,34,34,34,34,34,34,34,34,34,34,34,34,34,34,34,34,34,34,34,34,34,34,34,34,34,34,34,33,33,33,33,33,33,33,33,33,33,33,33,33,33,33,33,33,33,33,33,33,33,33,33,33,33,32,32,32,32,32,32,32,32,32,32,32,32,32,32,32,31,31,31,31,31,31,31,31,31,30,30,30,30,30,30,29,29,29,29,29,29,29,29,28,28,27,27,26,25,24,22,19,12,11,10,9],\"xaxis\":\"x\",\"y\":[\"no_keyword\",\"fatalities\",\"deluge\",\"armageddon\",\"sinking\",\"damage\",\"harm\",\"body%20bags\",\"evacuate\",\"fear\",\"outbreak\",\"siren\",\"twister\",\"windstorm\",\"collided\",\"sinkhole\",\"sunk\",\"hellfire\",\"weapon\",\"weapons\",\"famine\",\"explosion\",\"whirlwind\",\"earthquake\",\"derailment\",\"wreckage\",\"collision\",\"flames\",\"wrecked\",\"ambulance\",\"injury\",\"hurricane\",\"flooding\",\"fire\",\"fatal\",\"blaze\",\"explode\",\"drowned\",\"thunder\",\"derailed\",\"typhoon\",\"deaths\",\"upheaval\",\"oil%20spill\",\"bombed\",\"emergency\",\"pandemonium\",\"hostages\",\"wounded\",\"debris\",\"ruin\",\"burning%20buildings\",\"sandstorm\",\"wreck\",\"blizzard\",\"curfew\",\"crush\",\"fatality\",\"bioterror\",\"mudslide\",\"quarantined\",\"police\",\"destroy\",\"panic\",\"floods\",\"displaced\",\"devastation\",\"screaming\",\"nuclear%20reactor\",\"dust%20storm\",\"ablaze\",\"attack\",\"engulfed\",\"evacuated\",\"evacuation\",\"detonate\",\"tragedy\",\"death\",\"desolation\",\"cliff%20fall\",\"massacre\",\"refugees\",\"catastrophe\",\"danger\",\"accident\",\"bridge%20collapse\",\"razed\",\"rescued\",\"inundated\",\"hazardous\",\"hail\",\"rescuers\",\"flood\",\"injured\",\"rioting\",\"hijacker\",\"attacked\",\"screams\",\"buildings%20burning\",\"storm\",\"suicide%20bomb\",\"structural%20failure\",\"bleeding\",\"demolition\",\"derail\",\"traumatised\",\"tornado\",\"casualties\",\"disaster\",\"drought\",\"bloody\",\"blood\",\"collapsed\",\"emergency%20plan\",\"airplane%20accident\",\"loud%20bang\",\"lava\",\"riot\",\"rainstorm\",\"collide\",\"crashed\",\"annihilated\",\"casualty\",\"aftershock\",\"bomb\",\"quarantine\",\"collapse\",\"tsunami\",\"heat%20wave\",\"demolish\",\"flattened\",\"blazing\",\"nuclear%20disaster\",\"smoke\",\"electrocuted\",\"army\",\"arsonist\",\"drowning\",\"natural%20disaster\",\"terrorism\",\"burning\",\"screamed\",\"destruction\",\"hazard\",\"military\",\"panicking\",\"wildfire\",\"stretcher\",\"suicide%20bombing\",\"survived\",\"thunderstorm\",\"trouble\",\"violent%20storm\",\"wounds\",\"body%20bag\",\"emergency%20services\",\"injuries\",\"blown%20up\",\"buildings%20on%20fire\",\"burned\",\"chemical%20emergency\",\"crash\",\"blew%20up\",\"exploded\",\"fire%20truck\",\"body%20bagging\",\"hijack\",\"lightning\",\"meltdown\",\"landslide\",\"mass%20murder\",\"destroyed\",\"survive\",\"electrocute\",\"drown\",\"cyclone\",\"eyewitness\",\"detonation\",\"mass%20murderer\",\"apocalypse\",\"hijacking\",\"arson\",\"blight\",\"trapped\",\"forest%20fires\",\"hailstorm\",\"devastated\",\"hostage\",\"trauma\",\"suicide%20bomber\",\"terrorist\",\"obliterated\",\"crushed\",\"wild%20fires\",\"obliterate\",\"survivors\",\"avalanche\",\"dead\",\"bioterrorism\",\"catastrophic\",\"mayhem\",\"annihilation\",\"bombing\",\"obliteration\",\"desolate\",\"seismic\",\"first%20responders\",\"snowstorm\",\"sirens\",\"demolished\",\"rubble\",\"deluged\",\"volcano\",\"battle\",\"bush%20fires\",\"war%20zone\",\"rescue\",\"forest%20fire\",\"epicentre\",\"threat\",\"inundation\",\"radiation%20emergency\"],\"yaxis\":\"y\",\"type\":\"scatter\"}],                        {\"template\":{\"data\":{\"bar\":[{\"error_x\":{\"color\":\"#2a3f5f\"},\"error_y\":{\"color\":\"#2a3f5f\"},\"marker\":{\"line\":{\"color\":\"#E5ECF6\",\"width\":0.5},\"pattern\":{\"fillmode\":\"overlay\",\"size\":10,\"solidity\":0.2}},\"type\":\"bar\"}],\"barpolar\":[{\"marker\":{\"line\":{\"color\":\"#E5ECF6\",\"width\":0.5},\"pattern\":{\"fillmode\":\"overlay\",\"size\":10,\"solidity\":0.2}},\"type\":\"barpolar\"}],\"carpet\":[{\"aaxis\":{\"endlinecolor\":\"#2a3f5f\",\"gridcolor\":\"white\",\"linecolor\":\"white\",\"minorgridcolor\":\"white\",\"startlinecolor\":\"#2a3f5f\"},\"baxis\":{\"endlinecolor\":\"#2a3f5f\",\"gridcolor\":\"white\",\"linecolor\":\"white\",\"minorgridcolor\":\"white\",\"startlinecolor\":\"#2a3f5f\"},\"type\":\"carpet\"}],\"choropleth\":[{\"colorbar\":{\"outlinewidth\":0,\"ticks\":\"\"},\"type\":\"choropleth\"}],\"contour\":[{\"colorbar\":{\"outlinewidth\":0,\"ticks\":\"\"},\"colorscale\":[[0.0,\"#0d0887\"],[0.1111111111111111,\"#46039f\"],[0.2222222222222222,\"#7201a8\"],[0.3333333333333333,\"#9c179e\"],[0.4444444444444444,\"#bd3786\"],[0.5555555555555556,\"#d8576b\"],[0.6666666666666666,\"#ed7953\"],[0.7777777777777778,\"#fb9f3a\"],[0.8888888888888888,\"#fdca26\"],[1.0,\"#f0f921\"]],\"type\":\"contour\"}],\"contourcarpet\":[{\"colorbar\":{\"outlinewidth\":0,\"ticks\":\"\"},\"type\":\"contourcarpet\"}],\"heatmap\":[{\"colorbar\":{\"outlinewidth\":0,\"ticks\":\"\"},\"colorscale\":[[0.0,\"#0d0887\"],[0.1111111111111111,\"#46039f\"],[0.2222222222222222,\"#7201a8\"],[0.3333333333333333,\"#9c179e\"],[0.4444444444444444,\"#bd3786\"],[0.5555555555555556,\"#d8576b\"],[0.6666666666666666,\"#ed7953\"],[0.7777777777777778,\"#fb9f3a\"],[0.8888888888888888,\"#fdca26\"],[1.0,\"#f0f921\"]],\"type\":\"heatmap\"}],\"heatmapgl\":[{\"colorbar\":{\"outlinewidth\":0,\"ticks\":\"\"},\"colorscale\":[[0.0,\"#0d0887\"],[0.1111111111111111,\"#46039f\"],[0.2222222222222222,\"#7201a8\"],[0.3333333333333333,\"#9c179e\"],[0.4444444444444444,\"#bd3786\"],[0.5555555555555556,\"#d8576b\"],[0.6666666666666666,\"#ed7953\"],[0.7777777777777778,\"#fb9f3a\"],[0.8888888888888888,\"#fdca26\"],[1.0,\"#f0f921\"]],\"type\":\"heatmapgl\"}],\"histogram\":[{\"marker\":{\"pattern\":{\"fillmode\":\"overlay\",\"size\":10,\"solidity\":0.2}},\"type\":\"histogram\"}],\"histogram2d\":[{\"colorbar\":{\"outlinewidth\":0,\"ticks\":\"\"},\"colorscale\":[[0.0,\"#0d0887\"],[0.1111111111111111,\"#46039f\"],[0.2222222222222222,\"#7201a8\"],[0.3333333333333333,\"#9c179e\"],[0.4444444444444444,\"#bd3786\"],[0.5555555555555556,\"#d8576b\"],[0.6666666666666666,\"#ed7953\"],[0.7777777777777778,\"#fb9f3a\"],[0.8888888888888888,\"#fdca26\"],[1.0,\"#f0f921\"]],\"type\":\"histogram2d\"}],\"histogram2dcontour\":[{\"colorbar\":{\"outlinewidth\":0,\"ticks\":\"\"},\"colorscale\":[[0.0,\"#0d0887\"],[0.1111111111111111,\"#46039f\"],[0.2222222222222222,\"#7201a8\"],[0.3333333333333333,\"#9c179e\"],[0.4444444444444444,\"#bd3786\"],[0.5555555555555556,\"#d8576b\"],[0.6666666666666666,\"#ed7953\"],[0.7777777777777778,\"#fb9f3a\"],[0.8888888888888888,\"#fdca26\"],[1.0,\"#f0f921\"]],\"type\":\"histogram2dcontour\"}],\"mesh3d\":[{\"colorbar\":{\"outlinewidth\":0,\"ticks\":\"\"},\"type\":\"mesh3d\"}],\"parcoords\":[{\"line\":{\"colorbar\":{\"outlinewidth\":0,\"ticks\":\"\"}},\"type\":\"parcoords\"}],\"pie\":[{\"automargin\":true,\"type\":\"pie\"}],\"scatter\":[{\"marker\":{\"colorbar\":{\"outlinewidth\":0,\"ticks\":\"\"}},\"type\":\"scatter\"}],\"scatter3d\":[{\"line\":{\"colorbar\":{\"outlinewidth\":0,\"ticks\":\"\"}},\"marker\":{\"colorbar\":{\"outlinewidth\":0,\"ticks\":\"\"}},\"type\":\"scatter3d\"}],\"scattercarpet\":[{\"marker\":{\"colorbar\":{\"outlinewidth\":0,\"ticks\":\"\"}},\"type\":\"scattercarpet\"}],\"scattergeo\":[{\"marker\":{\"colorbar\":{\"outlinewidth\":0,\"ticks\":\"\"}},\"type\":\"scattergeo\"}],\"scattergl\":[{\"marker\":{\"colorbar\":{\"outlinewidth\":0,\"ticks\":\"\"}},\"type\":\"scattergl\"}],\"scattermapbox\":[{\"marker\":{\"colorbar\":{\"outlinewidth\":0,\"ticks\":\"\"}},\"type\":\"scattermapbox\"}],\"scatterpolar\":[{\"marker\":{\"colorbar\":{\"outlinewidth\":0,\"ticks\":\"\"}},\"type\":\"scatterpolar\"}],\"scatterpolargl\":[{\"marker\":{\"colorbar\":{\"outlinewidth\":0,\"ticks\":\"\"}},\"type\":\"scatterpolargl\"}],\"scatterternary\":[{\"marker\":{\"colorbar\":{\"outlinewidth\":0,\"ticks\":\"\"}},\"type\":\"scatterternary\"}],\"surface\":[{\"colorbar\":{\"outlinewidth\":0,\"ticks\":\"\"},\"colorscale\":[[0.0,\"#0d0887\"],[0.1111111111111111,\"#46039f\"],[0.2222222222222222,\"#7201a8\"],[0.3333333333333333,\"#9c179e\"],[0.4444444444444444,\"#bd3786\"],[0.5555555555555556,\"#d8576b\"],[0.6666666666666666,\"#ed7953\"],[0.7777777777777778,\"#fb9f3a\"],[0.8888888888888888,\"#fdca26\"],[1.0,\"#f0f921\"]],\"type\":\"surface\"}],\"table\":[{\"cells\":{\"fill\":{\"color\":\"#EBF0F8\"},\"line\":{\"color\":\"white\"}},\"header\":{\"fill\":{\"color\":\"#C8D4E3\"},\"line\":{\"color\":\"white\"}},\"type\":\"table\"}]},\"layout\":{\"annotationdefaults\":{\"arrowcolor\":\"#2a3f5f\",\"arrowhead\":0,\"arrowwidth\":1},\"autotypenumbers\":\"strict\",\"coloraxis\":{\"colorbar\":{\"outlinewidth\":0,\"ticks\":\"\"}},\"colorscale\":{\"diverging\":[[0,\"#8e0152\"],[0.1,\"#c51b7d\"],[0.2,\"#de77ae\"],[0.3,\"#f1b6da\"],[0.4,\"#fde0ef\"],[0.5,\"#f7f7f7\"],[0.6,\"#e6f5d0\"],[0.7,\"#b8e186\"],[0.8,\"#7fbc41\"],[0.9,\"#4d9221\"],[1,\"#276419\"]],\"sequential\":[[0.0,\"#0d0887\"],[0.1111111111111111,\"#46039f\"],[0.2222222222222222,\"#7201a8\"],[0.3333333333333333,\"#9c179e\"],[0.4444444444444444,\"#bd3786\"],[0.5555555555555556,\"#d8576b\"],[0.6666666666666666,\"#ed7953\"],[0.7777777777777778,\"#fb9f3a\"],[0.8888888888888888,\"#fdca26\"],[1.0,\"#f0f921\"]],\"sequentialminus\":[[0.0,\"#0d0887\"],[0.1111111111111111,\"#46039f\"],[0.2222222222222222,\"#7201a8\"],[0.3333333333333333,\"#9c179e\"],[0.4444444444444444,\"#bd3786\"],[0.5555555555555556,\"#d8576b\"],[0.6666666666666666,\"#ed7953\"],[0.7777777777777778,\"#fb9f3a\"],[0.8888888888888888,\"#fdca26\"],[1.0,\"#f0f921\"]]},\"colorway\":[\"#636efa\",\"#EF553B\",\"#00cc96\",\"#ab63fa\",\"#FFA15A\",\"#19d3f3\",\"#FF6692\",\"#B6E880\",\"#FF97FF\",\"#FECB52\"],\"font\":{\"color\":\"#2a3f5f\"},\"geo\":{\"bgcolor\":\"white\",\"lakecolor\":\"white\",\"landcolor\":\"#E5ECF6\",\"showlakes\":true,\"showland\":true,\"subunitcolor\":\"white\"},\"hoverlabel\":{\"align\":\"left\"},\"hovermode\":\"closest\",\"mapbox\":{\"style\":\"light\"},\"paper_bgcolor\":\"white\",\"plot_bgcolor\":\"#E5ECF6\",\"polar\":{\"angularaxis\":{\"gridcolor\":\"white\",\"linecolor\":\"white\",\"ticks\":\"\"},\"bgcolor\":\"#E5ECF6\",\"radialaxis\":{\"gridcolor\":\"white\",\"linecolor\":\"white\",\"ticks\":\"\"}},\"scene\":{\"xaxis\":{\"backgroundcolor\":\"#E5ECF6\",\"gridcolor\":\"white\",\"gridwidth\":2,\"linecolor\":\"white\",\"showbackground\":true,\"ticks\":\"\",\"zerolinecolor\":\"white\"},\"yaxis\":{\"backgroundcolor\":\"#E5ECF6\",\"gridcolor\":\"white\",\"gridwidth\":2,\"linecolor\":\"white\",\"showbackground\":true,\"ticks\":\"\",\"zerolinecolor\":\"white\"},\"zaxis\":{\"backgroundcolor\":\"#E5ECF6\",\"gridcolor\":\"white\",\"gridwidth\":2,\"linecolor\":\"white\",\"showbackground\":true,\"ticks\":\"\",\"zerolinecolor\":\"white\"}},\"shapedefaults\":{\"line\":{\"color\":\"#2a3f5f\"}},\"ternary\":{\"aaxis\":{\"gridcolor\":\"white\",\"linecolor\":\"white\",\"ticks\":\"\"},\"baxis\":{\"gridcolor\":\"white\",\"linecolor\":\"white\",\"ticks\":\"\"},\"bgcolor\":\"#E5ECF6\",\"caxis\":{\"gridcolor\":\"white\",\"linecolor\":\"white\",\"ticks\":\"\"}},\"title\":{\"x\":0.05},\"xaxis\":{\"automargin\":true,\"gridcolor\":\"white\",\"linecolor\":\"white\",\"ticks\":\"\",\"title\":{\"standoff\":15},\"zerolinecolor\":\"white\",\"zerolinewidth\":2},\"yaxis\":{\"automargin\":true,\"gridcolor\":\"white\",\"linecolor\":\"white\",\"ticks\":\"\",\"title\":{\"standoff\":15},\"zerolinecolor\":\"white\",\"zerolinewidth\":2}}},\"xaxis\":{\"anchor\":\"y\",\"domain\":[0.0,1.0],\"title\":{\"text\":\"x\"}},\"yaxis\":{\"anchor\":\"x\",\"domain\":[0.0,1.0],\"title\":{\"text\":\"index\"}},\"legend\":{\"tracegroupgap\":0,\"itemsizing\":\"constant\"},\"margin\":{\"t\":60}},                        {\"responsive\": true}                    ).then(function(){\n",
              "                            \n",
              "var gd = document.getElementById('19b06123-51e1-40fa-8c0d-d585894e375f');\n",
              "var x = new MutationObserver(function (mutations, observer) {{\n",
              "        var display = window.getComputedStyle(gd).display;\n",
              "        if (!display || display === 'none') {{\n",
              "            console.log([gd, 'removed!']);\n",
              "            Plotly.purge(gd);\n",
              "            observer.disconnect();\n",
              "        }}\n",
              "}});\n",
              "\n",
              "// Listen for the removal of the full notebook cells\n",
              "var notebookContainer = gd.closest('#notebook-container');\n",
              "if (notebookContainer) {{\n",
              "    x.observe(notebookContainer, {childList: true});\n",
              "}}\n",
              "\n",
              "// Listen for the clearing of the current output cell\n",
              "var outputEl = gd.closest('.output');\n",
              "if (outputEl) {{\n",
              "    x.observe(outputEl, {childList: true});\n",
              "}}\n",
              "\n",
              "                        })                };                            </script>        </div>\n",
              "</body>\n",
              "</html>"
            ]
          },
          "metadata": {}
        }
      ]
    },
    {
      "cell_type": "code",
      "source": [
        "\n",
        "most_count_keyword = df_train[\"keyword\"].value_counts().keys()[1:20]\n",
        "df_count_most_values = df_train[df_train.keyword.isin(most_count_keyword)]\n",
        "grouped = df_count_most_values.groupby(['keyword', 'target']).size().reset_index(name='Count')\n",
        "pivot_table = grouped.pivot(index='keyword', columns='target', values='Count')\n",
        "\n",
        "# Create a new figure object with a larger size\n",
        "fig, ax = plt.subplots(figsize=(12, 8))\n",
        "pivot_table.plot.bar(stacked=True, ax=ax)\n",
        "\n",
        "# Adjust the subplot spacing\n",
        "fig.subplots_adjust(left=0.1, right=0.9, bottom=0.1, top=0.9, wspace=0.2, hspace=0.2)\n",
        "\n",
        "plt.show()"
      ],
      "metadata": {
        "colab": {
          "base_uri": "https://localhost:8080/",
          "height": 583
        },
        "id": "ewWes07XQbI4",
        "outputId": "0c53a339-a473-4ad6-bb0f-682368cdc868"
      },
      "execution_count": 104,
      "outputs": [
        {
          "output_type": "display_data",
          "data": {
            "text/plain": [
              "<Figure size 864x576 with 1 Axes>"
            ],
            "image/png": "[encoded data removed]"
          },
          "metadata": {
            "needs_background": "light"
          }
        }
      ]
    },
    {
      "cell_type": "markdown",
      "source": [
        "Remark:\n",
        "In data set:\n",
        "- **outbreak** consided to be \"real-disaster\" word. \n",
        "- **amargedon, body%20bag, harm, sinking, twister** tend to \"non-disaster\" word "
      ],
      "metadata": {
        "id": "swZWBQTDhtp_"
      }
    },
    {
      "cell_type": "markdown",
      "source": [
        "### Location features"
      ],
      "metadata": {
        "id": "vkMqPsiCtiar"
      }
    },
    {
      "cell_type": "code",
      "source": [
        "df_train['location'].value_counts()"
      ],
      "metadata": {
        "colab": {
          "base_uri": "https://localhost:8080/"
        },
        "id": "jkKDogsApW05",
        "outputId": "c8e575c1-3560-457c-ff57-886fbe4442d4"
      },
      "execution_count": 109,
      "outputs": [
        {
          "output_type": "execute_result",
          "data": {
            "text/plain": [
              "no_location                     2533\n",
              "USA                              445\n",
              "UK                               118\n",
              "Africa                            51\n",
              "India                             46\n",
              "                                ... \n",
              "Surulere Lagos,Home Of Swagg       1\n",
              "MontrÌ©al, QuÌ©bec                 1\n",
              "Montreal                           1\n",
              "ÌÏT: 6.4682,3.18287                1\n",
              "Lincoln                            1\n",
              "Name: location, Length: 3313, dtype: int64"
            ]
          },
          "metadata": {},
          "execution_count": 109
        }
      ]
    },
    {
      "cell_type": "code",
      "source": [
        "# missing value are not visualized in the graph\n",
        "\n",
        "feat=df_train['location'].value_counts()\n",
        "print(feat.head())\n",
        "fig = px.scatter(feat, x=feat.values, y=feat.index,size=feat.values)\n",
        "fig.show()"
      ],
      "metadata": {
        "colab": {
          "base_uri": "https://localhost:8080/",
          "height": 646
        },
        "id": "aNtE9-lzt379",
        "outputId": "b9866836-00be-494a-eed0-cc790982728c"
      },
      "execution_count": 49,
      "outputs": [
        {
          "output_type": "stream",
          "name": "stdout",
          "text": [
            "no_location      2533\n",
            "USA               104\n",
            "New York           71\n",
            "United States      50\n",
            "London             45\n",
            "Name: location, dtype: int64\n"
          ]
        },
        {
          "output_type": "display_data",
          "data": {
            "text/html": [
              "<html>\n",
              "<head><meta charset=\"utf-8\" /></head>\n",
              "<body>\n",
              "    <div>            <script src=\"https://cdnjs.cloudflare.com/ajax/libs/mathjax/2.7.5/MathJax.js?config=TeX-AMS-MML_SVG\"></script><script type=\"text/javascript\">if (window.MathJax) {MathJax.Hub.Config({SVG: {font: \"STIX-Web\"}});}</script>                <script type=\"text/javascript\">window.PlotlyConfig = {MathJaxConfig: 'local'};</script>\n",
              "        <script src=\"https://cdn.plot.ly/plotly-2.8.3.min.js\"></script>                <div id=\"5da09205-9fdf-4261-b8d0-37ba659f65e8\" class=\"plotly-graph-div\" style=\"height:525px; width:100%;\"></div>            <script type=\"text/javascript\">                                    window.PLOTLYENV=window.PLOTLYENV || {};                                    if (document.getElementById(\"5da09205-9fdf-4261-b8d0-37ba659f65e8\")) {                    Plotly.newPlot(                        \"5da09205-9fdf-4261-b8d0-37ba659f65e8\",                        [{\"hovertemplate\":\"x=%{x}<br>index=%{y}<br>size=%{marker.size}<extra></extra>\",\"legendgroup\":\"\",\"marker\":{\"color\":\"#636efa\",\"size\":[2533,104,71,50,45,29,28,27,26,24,22,21,20,19,18,18,17,15,15,15,14,14,14,13,13,13,12,12,12,11,11,11,11,10,10,10,10,10,10,10,9,9,9,9,9,9,9,9,8,8,8,7,7,7,7,7,7,7,7,6,6,6,6,6,6,6,6,6,6,6,6,6,6,6,6,6,6,5,5,5,5,5,5,5,5,5,5,5,5,5,5,5,5,5,5,5,5,5,5,5,5,5,5,5,5,5,5,5,4,4,4,4,4,4,4,4,4,4,4,4,4,4,4,4,4,4,4,4,4,4,4,4,4,4,4,4,4,4,4,4,4,4,4,4,4,4,4,4,4,4,4,4,4,4,4,4,4,4,3,3,3,3,3,3,3,3,3,3,3,3,3,3,3,3,3,3,3,3,3,3,3,3,3,3,3,3,3,3,3,3,3,3,3,3,3,3,3,3,3,3,3,3,3,3,3,3,3,3,3,3,3,3,3,3,3,3,3,3,3,3,3,3,3,3,3,3,3,3,3,3,3,3,3,3,3,3,3,3,3,3,3,3,3,3,3,3,3,3,3,3,3,3,3,3,3,3,3,3,2,2,2,2,2,2,2,2,2,2,2,2,2,2,2,2,2,2,2,2,2,2,2,2,2,2,2,2,2,2,2,2,2,2,2,2,2,2,2,2,2,2,2,2,2,2,2,2,2,2,2,2,2,2,2,2,2,2,2,2,2,2,2,2,2,2,2,2,2,2,2,2,2,2,2,2,2,2,2,2,2,2,2,2,2,2,2,2,2,2,2,2,2,2,2,2,2,2,2,2,2,2,2,2,2,2,2,2,2,2,2,2,2,2,2,2,2,2,2,2,2,2,2,2,2,2,2,2,2,2,2,2,2,2,2,2,2,2,2,2,2,2,2,2,2,2,2,2,2,2,2,2,2,2,2,2,2,2,2,2,2,2,2,2,2,2,2,2,2,2,2,2,2,2,2,2,2,2,2,2,2,2,2,2,2,2,2,2,2,2,2,2,2,2,2,2,2,2,2,2,2,2,2,2,2,2,2,2,2,2,2,2,2,2,2,2,2,2,2,2,2,2,2,2,2,2,2,2,2,2,2,2,2,2,2,2,2,2,2,2,2,2,2,2,2,2,2,2,2,2,2,2,2,2,2,2,2,2,2,2,2,2,2,2,2,2,1,1,1,1,1,1,1,1,1,1,1,1,1,1,1,1,1,1,1,1,1,1,1,1,1,1,1,1,1,1,1,1,1,1,1,1,1,1,1,1,1,1,1,1,1,1,1,1,1,1,1,1,1,1,1,1,1,1,1,1,1,1,1,1,1,1,1,1,1,1,1,1,1,1,1,1,1,1,1,1,1,1,1,1,1,1,1,1,1,1,1,1,1,1,1,1,1,1,1,1,1,1,1,1,1,1,1,1,1,1,1,1,1,1,1,1,1,1,1,1,1,1,1,1,1,1,1,1,1,1,1,1,1,1,1,1,1,1,1,1,1,1,1,1,1,1,1,1,1,1,1,1,1,1,1,1,1,1,1,1,1,1,1,1,1,1,1,1,1,1,1,1,1,1,1,1,1,1,1,1,1,1,1,1,1,1,1,1,1,1,1,1,1,1,1,1,1,1,1,1,1,1,1,1,1,1,1,1,1,1,1,1,1,1,1,1,1,1,1,1,1,1,1,1,1,1,1,1,1,1,1,1,1,1,1,1,1,1,1,1,1,1,1,1,1,1,1,1,1,1,1,1,1,1,1,1,1,1,1,1,1,1,1,1,1,1,1,1,1,1,1,1,1,1,1,1,1,1,1,1,1,1,1,1,1,1,1,1,1,1,1,1,1,1,1,1,1,1,1,1,1,1,1,1,1,1,1,1,1,1,1,1,1,1,1,1,1,1,1,1,1,1,1,1,1,1,1,1,1,1,1,1,1,1,1,1,1,1,1,1,1,1,1,1,1,1,1,1,1,1,1,1,1,1,1,1,1,1,1,1,1,1,1,1,1,1,1,1,1,1,1,1,1,1,1,1,1,1,1,1,1,1,1,1,1,1,1,1,1,1,1,1,1,1,1,1,1,1,1,1,1,1,1,1,1,1,1,1,1,1,1,1,1,1,1,1,1,1,1,1,1,1,1,1,1,1,1,1,1,1,1,1,1,1,1,1,1,1,1,1,1,1,1,1,1,1,1,1,1,1,1,1,1,1,1,1,1,1,1,1,1,1,1,1,1,1,1,1,1,1,1,1,1,1,1,1,1,1,1,1,1,1,1,1,1,1,1,1,1,1,1,1,1,1,1,1,1,1,1,1,1,1,1,1,1,1,1,1,1,1,1,1,1,1,1,1,1,1,1,1,1,1,1,1,1,1,1,1,1,1,1,1,1,1,1,1,1,1,1,1,1,1,1,1,1,1,1,1,1,1,1,1,1,1,1,1,1,1,1,1,1,1,1,1,1,1,1,1,1,1,1,1,1,1,1,1,1,1,1,1,1,1,1,1,1,1,1,1,1,1,1,1,1,1,1,1,1,1,1,1,1,1,1,1,1,1,1,1,1,1,1,1,1,1,1,1,1,1,1,1,1,1,1,1,1,1,1,1,1,1,1,1,1,1,1,1,1,1,1,1,1,1,1,1,1,1,1,1,1,1,1,1,1,1,1,1,1,1,1,1,1,1,1,1,1,1,1,1,1,1,1,1,1,1,1,1,1,1,1,1,1,1,1,1,1,1,1,1,1,1,1,1,1,1,1,1,1,1,1,1,1,1,1,1,1,1,1,1,1,1,1,1,1,1,1,1,1,1,1,1,1,1,1,1,1,1,1,1,1,1,1,1,1,1,1,1,1,1,1,1,1,1,1,1,1,1,1,1,1,1,1,1,1,1,1,1,1,1,1,1,1,1,1,1,1,1,1,1,1,1,1,1,1,1,1,1,1,1,1,1,1,1,1,1,1,1,1,1,1,1,1,1,1,1,1,1,1,1,1,1,1,1,1,1,1,1,1,1,1,1,1,1,1,1,1,1,1,1,1,1,1,1,1,1,1,1,1,1,1,1,1,1,1,1,1,1,1,1,1,1,1,1,1,1,1,1,1,1,1,1,1,1,1,1,1,1,1,1,1,1,1,1,1,1,1,1,1,1,1,1,1,1,1,1,1,1,1,1,1,1,1,1,1,1,1,1,1,1,1,1,1,1,1,1,1,1,1,1,1,1,1,1,1,1,1,1,1,1,1,1,1,1,1,1,1,1,1,1,1,1,1,1,1,1,1,1,1,1,1,1,1,1,1,1,1,1,1,1,1,1,1,1,1,1,1,1,1,1,1,1,1,1,1,1,1,1,1,1,1,1,1,1,1,1,1,1,1,1,1,1,1,1,1,1,1,1,1,1,1,1,1,1,1,1,1,1,1,1,1,1,1,1,1,1,1,1,1,1,1,1,1,1,1,1,1,1,1,1,1,1,1,1,1,1,1,1,1,1,1,1,1,1,1,1,1,1,1,1,1,1,1,1,1,1,1,1,1,1,1,1,1,1,1,1,1,1,1,1,1,1,1,1,1,1,1,1,1,1,1,1,1,1,1,1,1,1,1,1,1,1,1,1,1,1,1,1,1,1,1,1,1,1,1,1,1,1,1,1,1,1,1,1,1,1,1,1,1,1,1,1,1,1,1,1,1,1,1,1,1,1,1,1,1,1,1,1,1,1,1,1,1,1,1,1,1,1,1,1,1,1,1,1,1,1,1,1,1,1,1,1,1,1,1,1,1,1,1,1,1,1,1,1,1,1,1,1,1,1,1,1,1,1,1,1,1,1,1,1,1,1,1,1,1,1,1,1,1,1,1,1,1,1,1,1,1,1,1,1,1,1,1,1,1,1,1,1,1,1,1,1,1,1,1,1,1,1,1,1,1,1,1,1,1,1,1,1,1,1,1,1,1,1,1,1,1,1,1,1,1,1,1,1,1,1,1,1,1,1,1,1,1,1,1,1,1,1,1,1,1,1,1,1,1,1,1,1,1,1,1,1,1,1,1,1,1,1,1,1,1,1,1,1,1,1,1,1,1,1,1,1,1,1,1,1,1,1,1,1,1,1,1,1,1,1,1,1,1,1,1,1,1,1,1,1,1,1,1,1,1,1,1,1,1,1,1,1,1,1,1,1,1,1,1,1,1,1,1,1,1,1,1,1,1,1,1,1,1,1,1,1,1,1,1,1,1,1,1,1,1,1,1,1,1,1,1,1,1,1,1,1,1,1,1,1,1,1,1,1,1,1,1,1,1,1,1,1,1,1,1,1,1,1,1,1,1,1,1,1,1,1,1,1,1,1,1,1,1,1,1,1,1,1,1,1,1,1,1,1,1,1,1,1,1,1,1,1,1,1,1,1,1,1,1,1,1,1,1,1,1,1,1,1,1,1,1,1,1,1,1,1,1,1,1,1,1,1,1,1,1,1,1,1,1,1,1,1,1,1,1,1,1,1,1,1,1,1,1,1,1,1,1,1,1,1,1,1,1,1,1,1,1,1,1,1,1,1,1,1,1,1,1,1,1,1,1,1,1,1,1,1,1,1,1,1,1,1,1,1,1,1,1,1,1,1,1,1,1,1,1,1,1,1,1,1,1,1,1,1,1,1,1,1,1,1,1,1,1,1,1,1,1,1,1,1,1,1,1,1,1,1,1,1,1,1,1,1,1,1,1,1,1,1,1,1,1,1,1,1,1,1,1,1,1,1,1,1,1,1,1,1,1,1,1,1,1,1,1,1,1,1,1,1,1,1,1,1,1,1,1,1,1,1,1,1,1,1,1,1,1,1,1,1,1,1,1,1,1,1,1,1,1,1,1,1,1,1,1,1,1,1,1,1,1,1,1,1,1,1,1,1,1,1,1,1,1,1,1,1,1,1,1,1,1,1,1,1,1,1,1,1,1,1,1,1,1,1,1,1,1,1,1,1,1,1,1,1,1,1,1,1,1,1,1,1,1,1,1,1,1,1,1,1,1,1,1,1,1,1,1,1,1,1,1,1,1,1,1,1,1,1,1,1,1,1,1,1,1,1,1,1,1,1,1,1,1,1,1,1,1,1,1,1,1,1,1,1,1,1,1,1,1,1,1,1,1,1,1,1,1,1,1,1,1,1,1,1,1,1,1,1,1,1,1,1,1,1,1,1,1,1,1,1,1,1,1,1,1,1,1,1,1,1,1,1,1,1,1,1,1,1,1,1,1,1,1,1,1,1,1,1,1,1,1,1,1,1,1,1,1,1,1,1,1,1,1,1,1,1,1,1,1,1,1,1,1,1,1,1,1,1,1,1,1,1,1,1,1,1,1,1,1,1,1,1,1,1,1,1,1,1,1,1,1,1,1,1,1,1,1,1,1,1,1,1,1,1,1,1,1,1,1,1,1,1,1,1,1,1,1,1,1,1,1,1,1,1,1,1,1,1,1,1,1,1,1,1,1,1,1,1,1,1,1,1,1,1,1,1,1,1,1,1,1,1,1,1,1,1,1,1,1,1,1,1,1,1,1,1,1,1,1,1,1,1,1,1,1,1,1,1,1,1,1,1,1,1,1,1,1,1,1,1,1,1,1,1,1,1,1,1,1,1,1,1,1,1,1,1,1,1,1,1,1,1,1,1,1,1,1,1,1,1,1,1,1,1,1,1,1,1,1,1,1,1,1,1,1,1,1,1,1,1,1,1,1,1,1,1,1,1,1,1,1,1,1,1,1,1,1,1,1,1,1,1,1,1,1,1,1,1,1,1,1,1,1,1,1,1,1,1,1,1,1,1,1,1,1,1,1,1,1,1,1,1,1,1,1,1,1,1,1,1,1,1,1,1,1,1,1,1,1,1,1,1,1,1,1,1,1,1,1,1,1,1,1,1,1,1,1,1,1,1,1,1,1,1,1,1,1,1,1,1,1,1,1,1,1,1,1,1,1,1,1,1,1,1,1,1,1,1,1,1,1,1,1,1,1,1,1,1,1,1,1,1,1,1,1,1,1,1,1,1,1,1,1,1,1,1,1,1,1,1,1,1,1,1,1,1,1,1,1,1,1,1,1,1,1,1,1,1,1,1,1,1,1,1,1,1,1,1,1,1,1,1,1,1,1,1,1,1,1,1,1,1,1,1,1,1,1,1,1,1,1,1,1,1,1,1,1,1,1,1,1,1,1,1,1,1,1,1,1,1,1,1,1,1,1,1,1,1,1,1,1,1,1,1,1,1,1,1,1,1,1,1,1,1,1,1,1,1,1,1,1,1,1,1,1,1,1,1,1,1,1,1,1,1,1,1,1,1,1,1,1,1,1,1,1,1,1,1,1,1,1,1,1,1,1,1,1,1,1,1,1,1,1,1,1,1,1,1,1,1,1,1,1,1,1,1,1,1,1,1,1,1,1,1,1,1,1,1,1,1,1,1,1,1,1,1,1,1,1,1,1,1,1,1,1,1,1,1,1,1,1,1,1,1,1,1,1,1,1,1,1,1,1,1,1,1,1,1,1,1,1,1,1,1,1,1,1,1,1,1,1,1,1,1,1,1,1,1,1,1,1,1,1,1,1,1,1,1,1,1,1,1,1,1,1,1,1,1,1,1,1,1,1,1,1,1,1,1,1,1,1,1,1,1,1,1,1,1,1,1,1,1,1,1,1,1,1,1,1,1,1,1,1,1,1,1,1,1,1,1,1,1,1,1,1,1,1,1,1,1,1,1,1,1,1,1,1,1,1,1,1,1,1,1,1,1,1,1,1,1,1,1,1,1,1,1,1,1,1,1,1,1,1,1,1,1,1,1,1,1,1,1,1,1,1,1,1,1,1,1,1,1,1,1,1,1,1,1,1,1,1,1,1,1,1,1,1,1,1,1,1,1,1,1,1,1,1,1,1,1,1,1,1,1,1,1,1,1,1,1,1,1,1,1,1,1,1,1,1,1,1,1,1,1,1,1,1,1,1,1,1,1,1,1,1,1,1,1,1,1,1,1,1,1,1,1,1,1,1,1,1,1,1,1,1,1,1,1,1,1,1,1,1,1,1,1,1,1,1,1,1,1,1,1,1,1,1,1,1,1,1,1,1,1,1,1,1,1,1,1,1,1,1,1,1,1,1,1,1,1,1,1,1,1,1,1,1,1,1,1,1,1,1,1,1,1,1,1,1,1,1,1,1,1,1,1,1,1,1,1,1,1,1,1,1,1,1,1,1,1,1,1,1,1,1,1,1,1,1,1,1,1,1,1,1,1,1,1,1,1,1,1,1,1,1,1,1,1,1,1,1,1,1,1,1,1,1,1,1,1,1,1,1,1,1,1,1,1,1,1,1,1,1,1,1,1,1,1,1,1,1,1,1,1,1,1,1,1,1,1,1,1,1,1,1,1,1,1,1,1,1,1,1,1,1,1,1,1,1,1,1,1,1,1,1,1,1,1,1,1,1,1,1,1,1,1,1,1,1,1,1,1,1,1,1,1,1,1,1,1,1,1,1,1,1,1,1,1,1,1,1,1,1,1,1,1,1,1,1,1,1,1,1,1,1,1],\"sizemode\":\"area\",\"sizeref\":6.3325,\"symbol\":\"circle\"},\"mode\":\"markers\",\"name\":\"\",\"showlegend\":false,\"x\":[2533,104,71,50,45,29,28,27,26,24,22,21,20,19,18,18,17,15,15,15,14,14,14,13,13,13,12,12,12,11,11,11,11,10,10,10,10,10,10,10,9,9,9,9,9,9,9,9,8,8,8,7,7,7,7,7,7,7,7,6,6,6,6,6,6,6,6,6,6,6,6,6,6,6,6,6,6,5,5,5,5,5,5,5,5,5,5,5,5,5,5,5,5,5,5,5,5,5,5,5,5,5,5,5,5,5,5,5,4,4,4,4,4,4,4,4,4,4,4,4,4,4,4,4,4,4,4,4,4,4,4,4,4,4,4,4,4,4,4,4,4,4,4,4,4,4,4,4,4,4,4,4,4,4,4,4,4,4,3,3,3,3,3,3,3,3,3,3,3,3,3,3,3,3,3,3,3,3,3,3,3,3,3,3,3,3,3,3,3,3,3,3,3,3,3,3,3,3,3,3,3,3,3,3,3,3,3,3,3,3,3,3,3,3,3,3,3,3,3,3,3,3,3,3,3,3,3,3,3,3,3,3,3,3,3,3,3,3,3,3,3,3,3,3,3,3,3,3,3,3,3,3,3,3,3,3,3,3,2,2,2,2,2,2,2,2,2,2,2,2,2,2,2,2,2,2,2,2,2,2,2,2,2,2,2,2,2,2,2,2,2,2,2,2,2,2,2,2,2,2,2,2,2,2,2,2,2,2,2,2,2,2,2,2,2,2,2,2,2,2,2,2,2,2,2,2,2,2,2,2,2,2,2,2,2,2,2,2,2,2,2,2,2,2,2,2,2,2,2,2,2,2,2,2,2,2,2,2,2,2,2,2,2,2,2,2,2,2,2,2,2,2,2,2,2,2,2,2,2,2,2,2,2,2,2,2,2,2,2,2,2,2,2,2,2,2,2,2,2,2,2,2,2,2,2,2,2,2,2,2,2,2,2,2,2,2,2,2,2,2,2,2,2,2,2,2,2,2,2,2,2,2,2,2,2,2,2,2,2,2,2,2,2,2,2,2,2,2,2,2,2,2,2,2,2,2,2,2,2,2,2,2,2,2,2,2,2,2,2,2,2,2,2,2,2,2,2,2,2,2,2,2,2,2,2,2,2,2,2,2,2,2,2,2,2,2,2,2,2,2,2,2,2,2,2,2,2,2,2,2,2,2,2,2,2,2,2,2,2,2,2,2,2,2,1,1,1,1,1,1,1,1,1,1,1,1,1,1,1,1,1,1,1,1,1,1,1,1,1,1,1,1,1,1,1,1,1,1,1,1,1,1,1,1,1,1,1,1,1,1,1,1,1,1,1,1,1,1,1,1,1,1,1,1,1,1,1,1,1,1,1,1,1,1,1,1,1,1,1,1,1,1,1,1,1,1,1,1,1,1,1,1,1,1,1,1,1,1,1,1,1,1,1,1,1,1,1,1,1,1,1,1,1,1,1,1,1,1,1,1,1,1,1,1,1,1,1,1,1,1,1,1,1,1,1,1,1,1,1,1,1,1,1,1,1,1,1,1,1,1,1,1,1,1,1,1,1,1,1,1,1,1,1,1,1,1,1,1,1,1,1,1,1,1,1,1,1,1,1,1,1,1,1,1,1,1,1,1,1,1,1,1,1,1,1,1,1,1,1,1,1,1,1,1,1,1,1,1,1,1,1,1,1,1,1,1,1,1,1,1,1,1,1,1,1,1,1,1,1,1,1,1,1,1,1,1,1,1,1,1,1,1,1,1,1,1,1,1,1,1,1,1,1,1,1,1,1,1,1,1,1,1,1,1,1,1,1,1,1,1,1,1,1,1,1,1,1,1,1,1,1,1,1,1,1,1,1,1,1,1,1,1,1,1,1,1,1,1,1,1,1,1,1,1,1,1,1,1,1,1,1,1,1,1,1,1,1,1,1,1,1,1,1,1,1,1,1,1,1,1,1,1,1,1,1,1,1,1,1,1,1,1,1,1,1,1,1,1,1,1,1,1,1,1,1,1,1,1,1,1,1,1,1,1,1,1,1,1,1,1,1,1,1,1,1,1,1,1,1,1,1,1,1,1,1,1,1,1,1,1,1,1,1,1,1,1,1,1,1,1,1,1,1,1,1,1,1,1,1,1,1,1,1,1,1,1,1,1,1,1,1,1,1,1,1,1,1,1,1,1,1,1,1,1,1,1,1,1,1,1,1,1,1,1,1,1,1,1,1,1,1,1,1,1,1,1,1,1,1,1,1,1,1,1,1,1,1,1,1,1,1,1,1,1,1,1,1,1,1,1,1,1,1,1,1,1,1,1,1,1,1,1,1,1,1,1,1,1,1,1,1,1,1,1,1,1,1,1,1,1,1,1,1,1,1,1,1,1,1,1,1,1,1,1,1,1,1,1,1,1,1,1,1,1,1,1,1,1,1,1,1,1,1,1,1,1,1,1,1,1,1,1,1,1,1,1,1,1,1,1,1,1,1,1,1,1,1,1,1,1,1,1,1,1,1,1,1,1,1,1,1,1,1,1,1,1,1,1,1,1,1,1,1,1,1,1,1,1,1,1,1,1,1,1,1,1,1,1,1,1,1,1,1,1,1,1,1,1,1,1,1,1,1,1,1,1,1,1,1,1,1,1,1,1,1,1,1,1,1,1,1,1,1,1,1,1,1,1,1,1,1,1,1,1,1,1,1,1,1,1,1,1,1,1,1,1,1,1,1,1,1,1,1,1,1,1,1,1,1,1,1,1,1,1,1,1,1,1,1,1,1,1,1,1,1,1,1,1,1,1,1,1,1,1,1,1,1,1,1,1,1,1,1,1,1,1,1,1,1,1,1,1,1,1,1,1,1,1,1,1,1,1,1,1,1,1,1,1,1,1,1,1,1,1,1,1,1,1,1,1,1,1,1,1,1,1,1,1,1,1,1,1,1,1,1,1,1,1,1,1,1,1,1,1,1,1,1,1,1,1,1,1,1,1,1,1,1,1,1,1,1,1,1,1,1,1,1,1,1,1,1,1,1,1,1,1,1,1,1,1,1,1,1,1,1,1,1,1,1,1,1,1,1,1,1,1,1,1,1,1,1,1,1,1,1,1,1,1,1,1,1,1,1,1,1,1,1,1,1,1,1,1,1,1,1,1,1,1,1,1,1,1,1,1,1,1,1,1,1,1,1,1,1,1,1,1,1,1,1,1,1,1,1,1,1,1,1,1,1,1,1,1,1,1,1,1,1,1,1,1,1,1,1,1,1,1,1,1,1,1,1,1,1,1,1,1,1,1,1,1,1,1,1,1,1,1,1,1,1,1,1,1,1,1,1,1,1,1,1,1,1,1,1,1,1,1,1,1,1,1,1,1,1,1,1,1,1,1,1,1,1,1,1,1,1,1,1,1,1,1,1,1,1,1,1,1,1,1,1,1,1,1,1,1,1,1,1,1,1,1,1,1,1,1,1,1,1,1,1,1,1,1,1,1,1,1,1,1,1,1,1,1,1,1,1,1,1,1,1,1,1,1,1,1,1,1,1,1,1,1,1,1,1,1,1,1,1,1,1,1,1,1,1,1,1,1,1,1,1,1,1,1,1,1,1,1,1,1,1,1,1,1,1,1,1,1,1,1,1,1,1,1,1,1,1,1,1,1,1,1,1,1,1,1,1,1,1,1,1,1,1,1,1,1,1,1,1,1,1,1,1,1,1,1,1,1,1,1,1,1,1,1,1,1,1,1,1,1,1,1,1,1,1,1,1,1,1,1,1,1,1,1,1,1,1,1,1,1,1,1,1,1,1,1,1,1,1,1,1,1,1,1,1,1,1,1,1,1,1,1,1,1,1,1,1,1,1,1,1,1,1,1,1,1,1,1,1,1,1,1,1,1,1,1,1,1,1,1,1,1,1,1,1,1,1,1,1,1,1,1,1,1,1,1,1,1,1,1,1,1,1,1,1,1,1,1,1,1,1,1,1,1,1,1,1,1,1,1,1,1,1,1,1,1,1,1,1,1,1,1,1,1,1,1,1,1,1,1,1,1,1,1,1,1,1,1,1,1,1,1,1,1,1,1,1,1,1,1,1,1,1,1,1,1,1,1,1,1,1,1,1,1,1,1,1,1,1,1,1,1,1,1,1,1,1,1,1,1,1,1,1,1,1,1,1,1,1,1,1,1,1,1,1,1,1,1,1,1,1,1,1,1,1,1,1,1,1,1,1,1,1,1,1,1,1,1,1,1,1,1,1,1,1,1,1,1,1,1,1,1,1,1,1,1,1,1,1,1,1,1,1,1,1,1,1,1,1,1,1,1,1,1,1,1,1,1,1,1,1,1,1,1,1,1,1,1,1,1,1,1,1,1,1,1,1,1,1,1,1,1,1,1,1,1,1,1,1,1,1,1,1,1,1,1,1,1,1,1,1,1,1,1,1,1,1,1,1,1,1,1,1,1,1,1,1,1,1,1,1,1,1,1,1,1,1,1,1,1,1,1,1,1,1,1,1,1,1,1,1,1,1,1,1,1,1,1,1,1,1,1,1,1,1,1,1,1,1,1,1,1,1,1,1,1,1,1,1,1,1,1,1,1,1,1,1,1,1,1,1,1,1,1,1,1,1,1,1,1,1,1,1,1,1,1,1,1,1,1,1,1,1,1,1,1,1,1,1,1,1,1,1,1,1,1,1,1,1,1,1,1,1,1,1,1,1,1,1,1,1,1,1,1,1,1,1,1,1,1,1,1,1,1,1,1,1,1,1,1,1,1,1,1,1,1,1,1,1,1,1,1,1,1,1,1,1,1,1,1,1,1,1,1,1,1,1,1,1,1,1,1,1,1,1,1,1,1,1,1,1,1,1,1,1,1,1,1,1,1,1,1,1,1,1,1,1,1,1,1,1,1,1,1,1,1,1,1,1,1,1,1,1,1,1,1,1,1,1,1,1,1,1,1,1,1,1,1,1,1,1,1,1,1,1,1,1,1,1,1,1,1,1,1,1,1,1,1,1,1,1,1,1,1,1,1,1,1,1,1,1,1,1,1,1,1,1,1,1,1,1,1,1,1,1,1,1,1,1,1,1,1,1,1,1,1,1,1,1,1,1,1,1,1,1,1,1,1,1,1,1,1,1,1,1,1,1,1,1,1,1,1,1,1,1,1,1,1,1,1,1,1,1,1,1,1,1,1,1,1,1,1,1,1,1,1,1,1,1,1,1,1,1,1,1,1,1,1,1,1,1,1,1,1,1,1,1,1,1,1,1,1,1,1,1,1,1,1,1,1,1,1,1,1,1,1,1,1,1,1,1,1,1,1,1,1,1,1,1,1,1,1,1,1,1,1,1,1,1,1,1,1,1,1,1,1,1,1,1,1,1,1,1,1,1,1,1,1,1,1,1,1,1,1,1,1,1,1,1,1,1,1,1,1,1,1,1,1,1,1,1,1,1,1,1,1,1,1,1,1,1,1,1,1,1,1,1,1,1,1,1,1,1,1,1,1,1,1,1,1,1,1,1,1,1,1,1,1,1,1,1,1,1,1,1,1,1,1,1,1,1,1,1,1,1,1,1,1,1,1,1,1,1,1,1,1,1,1,1,1,1,1,1,1,1,1,1,1,1,1,1,1,1,1,1,1,1,1,1,1,1,1,1,1,1,1,1,1,1,1,1,1,1,1,1,1,1,1,1,1,1,1,1,1,1,1,1,1,1,1,1,1,1,1,1,1,1,1,1,1,1,1,1,1,1,1,1,1,1,1,1,1,1,1,1,1,1,1,1,1,1,1,1,1,1,1,1,1,1,1,1,1,1,1,1,1,1,1,1,1,1,1,1,1,1,1,1,1,1,1,1,1,1,1,1,1,1,1,1,1,1,1,1,1,1,1,1,1,1,1,1,1,1,1,1,1,1,1,1,1,1,1,1,1,1,1,1,1,1,1,1,1,1,1,1,1,1,1,1,1,1,1,1,1,1,1,1,1,1,1,1,1,1,1,1,1,1,1,1,1,1,1,1,1,1,1,1,1,1,1,1,1,1,1,1,1,1,1,1,1,1,1,1,1,1,1,1,1,1,1,1,1,1,1,1,1,1,1,1,1,1,1,1,1,1,1,1,1,1,1,1,1,1,1,1,1,1,1,1,1,1,1,1,1,1,1,1,1,1,1,1,1,1,1,1,1,1,1,1,1,1,1,1,1,1,1,1,1,1,1,1,1,1,1,1,1,1,1,1,1,1,1,1,1,1,1,1,1,1,1,1,1,1,1,1,1,1,1,1,1,1,1,1,1,1,1,1,1,1,1,1,1,1,1,1,1,1,1,1,1,1,1,1,1,1,1,1,1,1,1,1,1,1,1,1,1,1,1,1,1,1,1,1,1,1,1,1,1,1,1,1,1,1,1,1,1,1,1,1,1,1,1,1,1,1,1,1,1,1,1,1,1,1,1,1,1,1,1,1,1,1,1,1,1,1,1,1,1,1,1,1,1,1,1,1,1,1,1,1,1,1,1,1,1,1,1,1,1,1,1,1,1,1,1,1,1,1,1,1,1,1,1,1,1,1,1,1,1,1,1,1,1,1,1,1,1,1,1,1,1,1,1,1,1,1,1,1,1,1,1,1,1,1,1,1,1,1,1,1,1,1,1,1,1,1,1,1,1,1,1,1,1,1,1,1,1,1,1,1,1,1,1,1,1,1,1,1,1,1,1,1,1,1,1,1,1,1,1,1,1,1,1,1,1,1,1,1,1,1,1,1,1,1,1,1,1,1,1,1,1,1,1,1,1,1,1,1,1,1,1,1,1,1,1,1,1,1,1,1,1,1,1,1,1,1,1,1,1,1,1,1,1,1,1,1,1,1,1,1,1,1,1,1,1,1,1,1,1,1,1,1,1,1,1,1,1,1,1,1,1,1,1,1,1,1,1,1,1,1,1,1,1,1,1,1,1,1,1,1,1,1,1,1,1,1,1,1,1,1,1,1,1,1,1,1,1,1,1,1,1,1,1,1,1,1,1,1,1,1,1,1,1,1,1,1,1,1,1,1,1,1,1,1,1,1,1,1,1,1,1,1,1,1,1,1,1,1,1,1,1,1,1,1,1,1,1,1,1,1,1,1,1,1,1,1,1,1,1,1,1,1,1,1,1,1,1,1,1,1,1,1,1,1,1,1,1,1,1,1,1,1,1,1,1,1,1,1,1,1,1,1,1,1,1,1,1,1,1,1,1,1,1,1,1,1,1,1,1,1,1,1,1,1,1,1,1,1,1,1,1,1,1,1,1,1,1,1,1,1,1,1,1,1,1,1,1,1,1,1,1,1,1,1,1,1,1,1,1,1,1,1,1,1,1,1,1,1,1,1,1,1,1,1,1,1,1,1,1,1,1,1,1,1,1,1,1,1,1,1,1,1,1,1,1,1,1,1,1,1,1,1,1,1,1,1,1,1,1,1,1,1,1,1,1,1,1,1,1,1,1,1,1,1,1,1,1,1,1,1,1,1,1,1,1,1,1,1,1,1,1,1,1,1,1,1,1,1,1,1,1,1,1,1,1,1,1,1,1,1,1,1,1,1,1,1,1,1,1,1,1,1,1,1,1],\"xaxis\":\"x\",\"y\":[\"no_location\",\"USA\",\"New York\",\"United States\",\"London\",\"Canada\",\"Nigeria\",\"UK\",\"Los Angeles, CA\",\"India\",\"Mumbai\",\"Washington, DC\",\"Kenya\",\"Worldwide\",\"Chicago, IL\",\"Australia\",\"California\",\"New York, NY\",\"Everywhere\",\"California, USA\",\"San Francisco\",\"United Kingdom\",\"Florida\",\"Indonesia\",\"Washington, D.C.\",\"Los Angeles\",\"NYC\",\"Ireland\",\"Toronto\",\"Earth\",\"Seattle\",\"Chicago\",\"San Francisco, CA\",\"London, England\",\"Atlanta, GA\",\"ss\",\"Sacramento, CA\",\"New York City\",\"Texas\",\"London, UK\",\"San Diego, CA\",\"Dallas, TX\",\"304\",\"Nashville, TN\",\"Denver, Colorado\",\"World\",\"US\",\"Manchester\",\"Scotland\",\"Houston, TX\",\"South Africa\",\"Sydney\",\"Denver, CO\",\"Memphis, TN\",\"Austin, TX\",\"Pennsylvania, USA\",\"Tennessee\",\"worldwide\",\"Seattle, WA\",\"Morioh, Japan\",\"Pedophile hunting ground\",\"Orlando, FL\",\"Portland, OR\",\"Planet Earth\",\"California, United States\",\"Calgary, Alberta\",\"Singapore\",\"Atlanta\",\"Oklahoma City, OK\",\"Brooklyn, NY\",\"Global\",\"Paterson, New Jersey \",\"??????\",\" Road to the Billionaires Club\",\"Charlotte, NC\",\"Colorado\",\"Massachusetts\",\"in the Word of God\",\"New Hampshire\",\"NY\",\"Southern California\",\"Coventry\",\"Boston, MA\",\"Lagos\",\"Leeds, England\",\"Texas, USA\",\"Puerto Rico\",\"Indiana\",\"Cleveland, OH\",\"WorldWide\",\"Lagos, Nigeria\",\"Pakistan\",\"New York, USA\",\"Tampa, FL\",\"Newcastle\",\"New Jersey\",\"Melbourne, Australia\",\"Pennsylvania\",\"Philippines\",\"The Netherlands\",\"Asheville, NC\",\"North Carolina\",\"Vancouver, BC\",\"San Jose, CA\",\"Wisconsin\",\"Florida, USA\",\"Calgary, AB\",\"Brasil\",\"Sydney, New South Wales\",\"Birmingham\",\"??\",\"Cape Town\",\"canada\",\"china\",\"Leicester\",\"Bend, Oregon\",\"Midwest\",\"Phoenix, AZ\",\"Portland, Oregon\",\"Sydney, Australia\",\"?????\",\"Mumbai, Maharashtra\",\"Paignton\",\"Calgary\",\"Kansas City\",\"Tokyo\",\"london\",\"British Columbia, Canada\",\"Republic of Texas\",\"Haddonfield, NJ\",\"San Francisco Bay Area\",\"Port Harcourt, Nigeria\",\"U.S.A\",\"Massachusetts, USA\",\"Nairobi-KENYA\",\"Maryland\",\"Happily Married with 2 kids \",\"Sacramento\",\"Jamaica\",\"Seattle, Washington\",\"Las Vegas, Nevada\",\"Oregon\",\"Manchester, England\",\"MAD as Hell\",\"North Carolina, USA\",\"Geneva\",\"Atlanta Georgia \",\"Michigan\",\"Barbados\",\"Oakland, CA\",\"Melbourne\",\"Nigeria \",\"Edinburgh\",\"Philadelphia, PA\",\"Switzerland\",\"?\",\"Japan\",\"Jakarta/Kuala Lumpur/S'pore\",\"21.462446,-158.022017\",\"Upstairs.\",\"California \",\"Ontario, Canada\",\"Johannesburg, South Africa\",\"Baltimore, MD\",\"Arizona\",\"Gotham City\",\"China\",\"MA\",\"Anchorage, AK\",\"Adelaide, Australia\",\"Hong Kong\",\"Nottingham, England\",\"india\",\"Buy Give Me My Money \",\"Narnia\",\"Utah\",\"Illinois, USA\",\"Washington D.C.\",\"State College, PA\",\"Columbus, OH\",\"Toronto, Ontario\",\"Italy\",\"Manhattan, NY\",\"Memphis\",\"Virginia, USA\",\"iTunes\",\"Germany\",\"Rio de Janeiro\",\"Buffalo, NY\",\"Kama | 18 | France \",\"America of Founding Fathers\",\"Asia\",\"Raleigh, NC\",\"Taylor Swift\",\"new york\",\"Karachi Pakistan\",\"Victoria, British Columbia\",\"Austin, Texas\",\"Oklahoma City\",\"CA\",\"Haysville, KS\",\"Iraq|Afghanistan| RSA |Baghdad\",\"Madison, WI\",\"Anonymous\",\"Sweden\",\"Tulsa, Oklahoma\",\"ARGENTINA\",\"World Wide\",\"Des Moines, IA\",\"Victoria, BC\",\"CA via Brum\",\"NJ\",\"Indianapolis, IN\",\"Five down from the Coffeeshop\",\"Georgia\",\"Los Angeles, California\",\"Africa\",\"Winston-Salem, NC\",\"San Diego\",\"Dublin, Ireland\",\"Inexpressible Island \",\"Stockholm, Sweden\",\"Kansas City, MO\",\"Birmingham, England\",\"Vancouver, British Columbia\",\"???\",\"Virginia\",\"uk\",\"Malaysia\",\"London UK\",\"Nairobi\",\"Washington DC\",\"South, USA\",\"Naperville\",\"Glasgow\",\"New Orleans ,Louisiana\",\"Hawaii, USA\",\"New Orleans, LA\",\"PA\",\"Arlington, TX\",\"Brazil\",\"Financial News and Views\",\"Oregon, USA\",\"Milwaukee, WI\",\"Boston\",\"nyc\",\"Calgary, AB, Canada\",\"Karachi\",\"Nowhere. Everywhere.\",\"#FLIGHTCITY UK  \",\"NYC :) Ex- #Islamophobe\",\"St. Louis, MO\",\"America\",\"Subconscious LA\",\"Nairobi, Kenya\",\"Las Vegas\",\"East Coast\",\"England\",\"Connecticut\",\"Charlotte\",\"Philadelphia, PA \",\"mumbai\",\"Charlotte NC\",\"Vietnam\",\"Wilmington, NC\",\"Here.\",\"Palo Alto, California\",\"Manchester, NH\",\"Winnipeg, Manitoba\",\"Enfield, UK\",\"Baltimore\",\"New Delhi, India\",\"Macclesfield\",\"world\",\"the insane asylum. \",\"Instagram - @heyimginog \",\"EIC\",\"Dundee\",\"Pittsburgh\",\"Lagos Nigeria\",\"CA physically- Boston Strong?\",\"Odawara, Japan\",\"Bandung\",\"Desde Republica Argentina\",\"tx\",\"Knoxville, TN\",\"Rock Hill, SC\",\"New Zealand\",\"Michigan, USA\",\"Lincoln, NE\",\"Alexandria, VA\",\"Baton Rouge, LA\",\"Maldives\",\"Dubai, UAE\",\"Louisiana\",\"Oakland\",\"World Wide Web\",\"Buenos Aires\",\"Ewa Beach, HI\",\"Auckland\",\"Bronx NY\",\"Washington State\",\"everywhere\",\"GLOBAL\",\"Alaska\",\"Accra,Ghana\",\"Heaven\",\"Dime's Palace\",\"Miami, FL\",\"Washington, USA\",\"Ontario Canada\",\"Lisbon, Portugal\",\"U.K.\",\"Olympia, WA\",\"San Antonio, TX\",\"Lyallpur, Pakistan\",\"Federal Capital Territory\",\"Phoenix\",\"Jupiter\",\"El Dorado, Arkansas\",\"Belgium\",\"Liverpool\",\"Washington, DC & Charlotte, NC\",\"New Hanover County, NC\",\"St Paul, MN\",\"far away\",\"Renfrew, Scotland\",\"Melbourne, Victoria\",\"Mesa, AZ\",\"Santa Cruz, CA\",\"Street of Dallas\",\"texas\",\"hell\",\"Somewhere Only We Know ?\",\"Venezuela\",\"Jakarta\",\"Helsinki\",\"Na:tinixw / Hoopa, Berkeley\",\"USA (Formerly @usNOAAgov)\",\"Ashburn, VA\",\"Manchester, UK\",\"http://www.amazon.com/dp/B00HR\",\"Moscow\",\"Bukittinggi  ?? Sumatera Barat\",\"Philadelphia\",\"Suplex City\",\"Georgia, USA\",\"Sydney Australia\",\"Palo Alto, CA\",\"Yogya Berhati Nyaman\",\"Huntsville, AL\",\"Cherry Creek Denver CO\",\"DC\",\"Redding, California, USA\",\"Gainesville, FL\",\"Boise, Idaho\",\"Niagara Falls, Ontario\",\"Colombia\",\"Global-NoLocation\",\"Vancouver BC\",\"Decatur, GA\",\"los angeles, ca\",\"somewhere USA \",\"Bournemouth\",\"Boston MA\",\"Israel\",\"they/them \",\"Portugal\",\"REPUBLICA DOMINICANA\",\"Evanston, IL\",\"The American Wasteland (MV)\",\"???  Dreamz\",\"107-18 79TH STREET\",\"Wales\",\"Kashmir!\",\"Melbourne Australia\",\"Trinidad and Tobago\",\"Arizona \",\"Alabama\",\"Erie, PA\",\"Korea\",\"Above the snake line - #YoNews\",\"St Charles, MD\",\"Madison, GA\",\"Honduras\",\"Mackay, QLD, Australia\",\"Leesburg, FL\",\"Greensboro, North Carolina\",\"Mumbai , India\",\"scandinavia\",\"New Delhi, Delhi\",\"Perth, Western Australia\",\"S\\u00cc\\u00a3o Paulo\",\"Chile\",\"Silicon Valley\",\"SWMO\",\"Istanbul\",\"Halifax\",\"A little house in the outback.\",\"Swaning Around\",\"Manila, Philippines\",\"Spokane, WA\",\"Kingston, Jamaica\",\"In Hell\",\"Europe\",\"New Sweden\",\"Newark, NJ\",\"Chicago, Illinois\",\"Victoria, Australia, Earth\",\"Roanoke, VA\",\"Paris\",\"San Jose, California\",\"19.600858, -99.047821\",\"Somalia\",\"Epic City, BB.\",\"Thailand\",\"Norway\",\"New England\",\"Dublin City, Ireland\",\"England, United Kingdom\",\"dallas\",\"Reddit \",\"Selma2Oakland\",\"online \",\"Buenos Aires, Argentina\",\"TX\",\"Columbus\",\"Karachi, Pakistan\",\"302\",\"Eldoret, kenya\",\"#HarleyChick#PJNT#RunBenRun\",\"Fresno, CA\",\"Winnipeg\",\"Costa Rica\",\"Budapest, Hungary\",\"Houston TX\",\"Sarasota, FL\",\"Auckland, New Zealand\",\"Unknown\",\"NIGERIA\",\"Macon, GA\",\"Kolkata\",\"Detroit\",\"Mo.City\",\"Sand springs oklahoma\",\"Mongolia\",\"Yamaku Academy, Class 3-4\",\"West\",\"Gold Coast, Australia\",\"Washington\",\" Queensland, Australia\",\"Cleveland, OH - San Diego, CA\",\"Minna, Nigeria\",\"Roaming around the world\",\"? \",\"Derby\",\"Jerusalem\",\"Your screen\",\"Moncton, New Brunswick\",\"EastCarolina\",\"rome\",\"Ohio, USA\",\"Somewhere in the Canada\",\"140920-21 & 150718-19 BEIJING\",\"Breaking News\",\"Muntinlupa City, Philippines\",\"Bangalore, India\",\"Ukraine\",\"Spare 'Oom\",\"vancouver usa\",\"Los Angeles \",\"\\u00cc\\u00cfT: 10.614817868480726,12.195582811791382\",\"Location\",\"ph\",\"Silver Spring, MD\",\"To The Right of You!\",\"Dubai\",\"Blackpool\",\"New York, New York\",\"Does it really matter!\",\"Scotland, United Kingdom\",\"In the potters hands\",\"United States of America\",\"South Stand\",\"Pretoria\",\"Riyadh\",\"West Virginia, USA\",\"NC\",\"617-BTOWN-BEATDOWN\",\"San Diego California 92101\",\"Brisbane\",\"Live On Webcam\",\"Newcastle Upon Tyne, England\",\"SF Bay Area\",\"Orange County, California\",\"Adelaide, South Australia\",\"Incognito\",\"anzio,italy\",\"Berlin, Germany\",\"Orlando, Fl\",\"Bakersfield, California\",\"WA State\",\"Columbia, SC\",\"Dallas Fort-Worth\",\"Cumming, GA\",\"Glasgow, Scotland\",\"Ottawa, Canada\",\"New York \",\"434\",\"Kent\",\"Detroit, MI\",\"Hackney, London\",\"Houston\",\"????\",\"Portland, Ore. \",\"Chevy Chase, MD\",\"Toronto, Canada\",\"Durham, NC\",\"Trinidad & Tobago\",\"va\",\"The Universe\",\"HTX\",\"Berlin - Germany\",\"Rocky Mountains\",\"Rocketing through the galaxy\",\"Leeds\",\"on to the next adventure\",\"Espa\\u00cc\\u00b1a, Spain\",\"Aurora, IL\",\"Miami Beach, Fl\",\"US, PA\",\"Fukuoka, Japan\",\"h+l\",\"s\\u00cc\\u00a3o luis\",\"Jonesboro, AR MO, IOWA USA\",\"SoCal\",\"New York City, NY\",\"in my own personal hell (:\",\"Huntsville AL\",\"Oneonta, NY/ Staten Island, NY\",\"lia\\u0089\\u00db\\u00a2dani\\u0089\\u00db\\u00a2laura\",\"Stratford, CT\",\"kano\",\"Miami?Gainesville\",\"Suburban Detroit, Michigan\",\"East Lansing, MI\",\"Aix-en-Provence/Utrecht\",\"Fukushima city Fukushima.pref\",\"Dammam- KSA\",\"Under Santa Barbara Skies\",\"#goingdownthetoilet Illinois\",\"Sacramento, California\",\"Corpus Christi\",\"Derbyshire, United Kingdom\",\"VCU\",\"Dhaka, Bangladsh\",\"McLean, VA\",\"South Florida\",\"Guatemala\",\"Ashford, Kent, United Kingdom\",\"Hammersmith, London\",\"Marbella. Spain\",\"Positive 852\",\"Kansas City, Mo.\",\"Austin TX\",\"Wahpeton, ND\",\"Littleton, CO\",\"don't run\",\"?? ?+254? ? \\\\??\\u00e5\\u00a1_??\\u00e5\\u00a1_???\\u00e5\\u00a1_?/??\",\"Leitchfield Kentucky\",\"Honolulu, Hawaii\",\"M\\u00cc\\u00a9xico D.F.\",\"Ile-Ife,Osun state, Nigeria\",\"MI,USA\",\"Kualar Lumpur, Malaysia\",\"Tring \",\"Nadiad ,Gujarat , India!!\",\"Nottingham\",\"Edinburgh, Scotland\",\"South of D.C.\",\"\\u00cc\\u00cfT: 40.707762,-74.014213\",\"Eagle River Alaska\",\"London, Greater London, UK\",\"Malibu/SantaFe/Winning!\",\"\\u00cc\\u00cfT: 6.488400524109015,3.352798039832285\",\"Ealing, London\",\"Killa Hill, CO\",\"Crouch End, London\",\"Southern Califorina\",\"highlands&slands scotland\",\"somewhere too cold for me\",\"FCT, Abuja \",\"Nottingham, United Kingdom\",\"Adventist - Lesson Sabbath\",\"Anywhere\",\"Akure city in ondo state \",\"Hearts & Minds\",\"Bozeman, Montana\",\"new york, ny\",\" Quantico Marine Base, VA.\",\"all over the world\",\"belleville\",\"Co. Tyrone Northern Ireland\",\"Birmingham & Bristol\",\"Holly Springs, NC \",\"Greenwich Meridian\",\"USA, North Dakota\",\"Houston \",\"Birmingham and the Marches\",\"Orlando/Cocoa Beach, FL\",\"West Midlands\",\"home \",\"South, England\",\"LAGOS\",\"missouri USA\",\"NJ/NYC\",\"Notts\",\"South africa\",\"Warrandyte, Australia\",\"Bucharest\",\"Joshua Tree, CA\",\"Area 8 \",\"The Pumpkin Carriage of Dreams\",\"Bangalore, INDIA\",\"plymouth\",\"Ocean City, NJ\",\"Finland\",\"the burrow\",\"Chiswick, London\",\"potters bar\",\"IUPUI '19\",\"Norwalk, CT\",\"Pluto\",\"japon\",\"Tampa-St. Petersburg, FL\",\"828/704(Soufside)/while looking goofy in NJ\",\"#freegucci\",\"Lubbock, Texas\",\"Charlotte, NC | K\\u00cc\\u00a6ln, NRW\",\"Merica!\",\"Topeka, KS\",\"DC Metro area\",\"prob turning up with sheen\",\"Valparaiso \",\"VONT ISLAND, LAGOS\",\"The P (South Philly)\",\"Palm Bay, FL (Kissimmee)\",\"satan's colon\",\"The dark\",\"cedar rapids ia\",\"Le Memenet\",\"Bhubneshwar\",\"Mumbai, India\",\"Ondo\",\"Illinois\",\"Ventura\",\"Dudetown\",\"Jump City\",\"NEWCASTLE\",\"Manhattan\",\"elena's bed // info on link\",\"Waterloo, ON\",\"Charleston, IL\",\"518 \\u00e5\\u00e1 NY\",\"Danbury, CT\",\"Elizabeth, NJ\",\"Born in Baltimore Living in PA\",\"illinois. united state \",\"Delhi \",\"Overton NV\",\"a feminist, modernist hag.\",\"www.facebook.com/stuntfm\",\"don't buy the s*n\",\"leyland\",\"Leeds, UK\",\"Royton\",\"Mid West\",\"1313 W.Patrick St, Frederick\",\"The Internetz\",\"Waddesdon\",\"Palmyra, NJ\",\"The Wood\",\"Rock Springs, WY\",\"\\u0089\\u00db\\u00a2III.XII.MMXI\\u0089\\u00db\\u00a2\",\"the Refrigerator \",\"Wynne, AR\",\"Leeds, United Kingdom\",\"Mississauga, Ontario\",\"kissimmee,fl.\",\"Reading MA\",\"Linton Hall, VA\",\"Elsewhere, NZ\",\"Everett, WA\",\"Pawnee\",\"PARACHUTE\",\"Metro Manila\",\"Torry Alvarez love forever ? ?\",\"I ACCEPT SONG REQUESTS\",\"The Kingdom of Fife, Scotland\",\"Petaluma, CA\",\"Warsaw\",\"Pomfret/Providence\",\"San Luis Obispo, CA\",\"SE London(heart is by the sea)\",\"?^\\u00e5\\u00e1??\\u00e5\\u00e1?^?? ??\",\"Northampton, MA\",\"Oxford / bristol\",\"Den Helder, Rijkswerf\",\"Nova Scotia, Canada\",\"Chorley, Lancashire, UK\",\"Paris (France)\",\"Kamloops, BC\",\"Near Warrington\",\"Phoenix, Arizona, USA\",\"Van Buren, MO\",\"|-/\",\"Anywhere I like\",\"Canada \",\"Eaubonne, 95, France\",\"Pro-American and Anti-#Occupy\",\"Pensacola, FL\",\"Aztec NM\",\"Milwaukee WI\",\"Cymru araul\",\"Keighley, England\",\"Turkmenistan\",\"Miami via Lima\",\"21 | PNW\",\"The Memesphere\",\"Purfleet\",\"23 countries and counting!\",\"Ontario\",\"M!A: None\",\"Montgomery, AL\",\"The Shady Hyenatown of Finland\",\"Cavite, Philippines\",\"Dover, DE\",\"Amarillo\",\"England, Great Britain.\",\"Sydney, NSW\",\"Somecity, Somerset, MD\",\"Central Coast, California\",\"boston\",\"Maryland \",\"Bournemouth, Dorset, UK\",\"Clean World\",\"East TN.\",\"Hawaii USA\",\"Goa, India\",\"Fort Calhoun, NE\",\"Huntsville, Alabama\",\"Passamaquoddy\",\"NIFC\",\"Flushing, Queens\",\"facebook.com/tradcatknights\",\"#BlackLivesMatter\",\" Miami Beach\",\"#1 Vacation Destination,HAWAII\",\"Haiku, Maui, Hawaii\",\"NAWF SIDE POKING OUT \",\"Vineyard\",\"@potteratthedisc\",\"Anderson, SC\",\"Virgo Supercluster\",\"Brazos Valley, Texas\",\"Calgary, Canada\",\"The Epicenter, and Beyond\",\"Books Published, USA\",\"??? ??? ????? ??? ???.\",\"Somewhere Powerbraking A Chevy\",\"Mexico City\",\"The Globe\",\"Chicopee MA\",\"Wyoming, MI (Grand Rapids)\",\"cuba\",\"Glenview to Knoxville \",\"Las Vegas, NV\",\"Mariveles, Bataan\",\"\\u00cc\\u00cfT: 40.562796,-75.488849\",\"Melbourne, FL\",\"New Chicago\",\"Australia \",\"Victorville, CA\",\" Eugene, Oregon\",\"THANJAVUR\",\"Not Los Angeles, Not New York.\",\"Pune, Maharashtra\",\"Dicky Beach\",\"westwestwestwestwestwestwest\",\"NYC metro\",\"Heathrow\",\"OK\",\"Tampa, Fl\",\"TonyJ@Centralizedhockey.com\",\"Iliff,Colorado  \",\"Srinagar,Kashmir\",\"DFW, Texas\",\"Piedmont Triad, NC\",\"Spring Tx\",\"Ab, Canada\",\"Sutton, London UK\",\"Alameda and Pleasanton, CA\",\"Madison, WI & St. Louis MO\",\"Bay Area\",\"California or Colorado\",\"Carterville\",\"Corpus - Las Vegas - Houston\",\"Watch Those Videos -\",\"MD\",\"Georgia, U.S.A.\",\"Riverview, FL \",\"beijing .China\",\"Somewhere in China.\",\"Peru\",\"Cambridge, Massachusetts\",\"Lahore\",\"Saint Paul\",\"Atlantic Highlands, NJ\",\"Rockland County, NY\",\"Newton Centre, Massachusetts\",\"North West London\",\" Tropical SE FLorida\",\"Ikorodu\",\"Lucknow, India\",\"Doghouse\",\"Somewhere \",\"someplace living my life\",\"Suginami-ku, Tokyo, Japan\",\"Centurion \",\"Avon\",\"Orlando,FL  USA\",\"North London\",\"come here in 20 minutes for an ass kicking\",\"Emirates\",\"Milton Keynes, England\",\"Kicking Horse Pass\",\"Scottsdale. AZ\",\"Saskatchewan, Canada\",\"Cape Neddick, ME\",\"The Great State of Maine \",\"\\u00cc\\u00cfT: 35.223347,-80.827834\",\"Rheinbach / Germany\",\"International Action\",\"Planet of da Bathing Apes\",\"Maricopa, AZ\",\"liverpool \",\"Albuquerque New Mexico\",\"New York Brooklyn\",\"Nebraska, Colorado & The GLOBE\",\"Alameda, CA\",\"Contoocook Valley Region of Ne\",\"Malaysia/Jordan\",\"jeddah | Khartoum\",\"United Hoods of the Globe\",\"?@symbolicjensen?\",\"Jubail IC, Saudi Arabia.\",\"?????? ??? ?????? ????????\",\"Right next to Compton\",\"11th dimension, los angeles\",\"Hogwarts\",\"Somewhere out there\",\"Frisco, TX\",\"Starling City\",\"a van down by the river\",\"Roppongi, Minato, Tokyo \",\"Pleasanton, CA\",\"Portsmouth, VA\",\"Dil's Campsite\",\"ilford\",\"Nashville, Tn\",\"SWinfo@dot.state.al.us\",\"Far Away From Home\",\"Lancashire, United Kingdom\",\"Jackson, MS\",\"Mysore, Karnataka\",\"Fort Worth,  Texas \",\"Greenfield, Massachusetts\",\"London, Riyadh\",\"Crayford, London\",\"Arnhem, the Netherlands\",\"Pacific Northwest\",\"Somewhere in Spain\",\"570 Vanderbilt; Brooklyn, NY\",\"The South & WestCoast \",\"10-Jul\",\"?semekeepschanging@soyeh?\",\"Fresno, California\",\"WORLD WIDE\",\"RSN: Tru\",\"El Paso, TX\",\"South Pasadena, CA\",\"perth, australia \",\"i love you zayn\",\"brisbane, australia\",\"Chiyoda Ward, Tokyo\",\"??????????? ???????????..? \",\"Athens,Greece\",\"IN our hearts  Earth Global \",\"France\",\"tokyo\",\"where the wild things are\",\"The barn\",\"between ideas & 3-5pm AEST\",\"Zimbabwe\",\"Free State, South Africa\",\"West Chester, PA\",\"Fort Collins, CO\",\"Washington state\",\"?????? ???? ??????\",\"\\u00e5_: ?? \\u00cc\\u00d1 ? : ?\",\"Silvermoon or Ironforge\",\"5/5 access / rt link please x\",\"Charleston, WV\",\"Hogsmeade\",\"Someday I'll live in England. \",\"Benicia, CA \",\"Riyadh ')\",\"Innerhalb der L\\u00cc_cke\",\"Sumter, SC\",\"eating strawberry shitsickles\",\"Near Richmond, VA\",\"am everywhere\",\"Miami, Florida\",\"England \",\"Louisville, KY\",\"Shah Alam,Malaysia\",\"Bay Area, CA\",\"The Internet\",\"ANDY 4 LEADER X\",\"Leaving Bikini Bottom\",\"Tennessee, USA\",\"Eww, I'm not Paul Elam\",\"port matilda pa\",\"Hemel Hempstead\",\"Chester Football Club\",\"Fresno\",\"West Hollywood, CA\",\"Hell\",\"Earth-616\",\"Tama, Iowa\",\"Minneapolis - St. Paul\",\"Las Vegas aka Hell\",\"Shelby County\",\"St. Louis, Mo\",\"PDX\",\"Vancouver Canada\",\" The World\",\"wisco\",\"Giddy, Greenland\",\"????????????\",\"Antarctica\",\"Aperture Science Test Facility\",\"Wandsworth, London\",\"im definitely taller than you.\",\"london essex england uk\",\"{Detailed}\",\"Fairgrounds Resident\",\"English Midlands\",\"Los Angeles for now\",\"Magnolia, Fiore \",\"Chattanooga TN\",\"Slatina,Romania\",\"cereal aisle #17:i4\",\"i'm a Citizen of the World\",\"Leicester, England\",\"Concord, N.C.\",\"Realville\",\"by a piano probably. \",\"Fiore, Lamia Scale\",\"Own planet!!\",\"Vancouver, BC, Canada\",\"Ecuador\",\"IL\",\"laying on the bass\",\"Hustletown\",\"? miranda ? 521 mi\",\"Oldenburg // London\",\"#partsunknown\",\"Cameroon\",\"Timaru District, New Zealand\",\"Proudly frozen Canuck eh !!\",\"KSU 2017\",\"Stay Tuned ;) \",\"Colorado, USA\",\"Storybrooke / The Moors\",\"Estados Unidos\",\"NOLA ?? TX\",\"Sherwood, Brisbane, Australia\",\"neil's kitchen  |  32215\",\"The shores of Lake Kilby\",\"Two Up Two Down\",\"St Austell, Cornwall\",\"Detroit, Michigan\",\"Jersey Shore\",\"WORLDWIDE-BOSTON\",\"Cimerak - Pangandaran\",\"Cottonwood Arizona\",\"Wausau, Wisconsin\",\"North America\",\"BOSTON-LONDON\",\"GLOBAL/WORLDWIDE\",\"North Dartmouth, Massachusetts\",\"Lynchburg, VA\",\"The Waystone Inn\",\"?? Made in the Philippines ??\",\"Boston/Montreal \",\"Ogba, Lagos, Nigeria\",\"Manavadar, Gujarat\",\"Pueblo, Colorado\",\"PG County, MD\",\"Somewhere between Chicago & Milwaukee\",\"InterplanetaryZone\",\"Bedford, England\",\"Photo : Blue Mountains \",\"Plano, Texas\",\"Geneva. And beyond. \",\"Inside the Beltway (DC Area)\",\"San Jose, CA, USA\",\"UK, Republic of Ireland and Australia\",\"Dagenham, Essex\",\"Milton keynes\",\"Pontefract UK\",\"the Dirty D\",\"Paducah, KY\",\"Asia European Continent Korea \",\"Croydon\",\"Athens, Greece\",\"Proudly Canadian!\",\"Cascadia\",\"County Durham, United Kingdom\",\"Arkansas\",\"Hattiesburg, MS\",\"Dundee, UK\",\"Detroit Tigers Dugout\",\"Toronto, ON, Canada\",\"swindon\",\"Why should you know?\",\"Bristol\",\"mnl\",\"Nairobi , Kenya\",\"Between Dire and Radiant\",\"Russia\",\"England & Wales Border, UK\",\"Zeerust, South Africa\",\"antoine fisher \",\"Boston, Massachusetts\",\"Rapid City, South Dakota\",\"NYC&NJ\",\"The Main \",\"The windy plains of Denver\",\"Sunbury, Ohio\",\"Sunnyvale, CA\",\"Paradise City\",\"Brasil, Fortaleza ce\",\"Windsor,Ontario\",\"Land of Lincoln\",\"st.louis county missouri \",\"Detroit/Windsor\",\"EGYPT\",\"(RP)\",\"Memphis, in the Tennessees\",\"Texas \",\"Duncan\",\"Tips on my blog at\",\"Rotterdam, The Netherlands\",\"Nicola Valley\",\"winston-salem north carolina\",\"Elchilicitanierraversal \",\" 45\\u00e5\\u00a1 5'12.53N   14\\u00e5\\u00a1 7'24.93E\",\"The Circle of Life\",\"Cape Cod\",\"Montana \",\"alberta, canada\",\"Asheboro, NC\",\"Western Washington\",\"Holland MI via Houston, CLE\",\"SoDak\",\"Waverly, IA\",\"Rapid City, Black Hills, SD\",\"Norman, Oklahoma\",\"Coventry, UK\",\"Based in CA - Serve Nationwide\",\"i got 1/13 menpa replies, omg\",\"Pocatello, Idaho\",\"probably watching survivor\",\"Medan,Indonesia\",\"Santa Maria, CA\",\"??9?\",\"Calgary/Airdrie/RedDeer/AB\",\"Oklahoma, USA\",\"Chicago, Il\",\"Carol Stream, Illinois\",\"LA\",\"Clayton, NC\",\"Bandar Lampung, Indonesia\",\"Lansdale,Pennsylvania\",\"buffalo / madrid / granada\",\"HI\\u0089\\u00db\\u00a2UT\\u0089\\u00db\\u00a2AS\",\"di langit 7 bidadari (^,^ )\",\"San Diego, Calif.\",\"2,360 miles away\",\"NYC, New York\",\"Land Of The Kings\",\"Londonstan\",\"Tring, UK\",\"Stage with Trey Songz\",\"Hampstead, London.\",\"Tamworth\",\"Kawartha Lakes, Ontario, Canad\",\"YA MOTHA BED\",\"Indiana, USA\",\"Illumination \",\"Bathtub de Bett \",\"Chasing My Dreams w/Jass??\",\"Rochester Hills, MI\",\"Davis, California\",\"Displaced Son of TEXAS!\",\"on twitter \",\"Wolverhampton\",\"North Carolina \",\"Manila City\",\"Louavul, KY\",\"IG : Sincerely_TSUNAMI\",\"Kleenex factory\",\"North East / Middlesbrough \",\"lowestoft\",\"Tunbridge Wells\",\"www.aprylpooley.com\",\"Greensburg, PA\",\"Like us on Face \",\"Montgomery County, MD\",\"Cambridge, Massachusetts, U.S.\",\"LOCAL ATLANTA NEWS 4/28/00 - 4/28/15 FREELANCER\",\"Your notifications\",\"Methville, CA\",\"I rap to burn shame.\",\"Los Angeles New York\",\" Little Rock, AR\",\"ELVY\",\"The Jewfnited State\",\"Minneapolis, MN\",\"Gumptown\",\"The Triskelion\",\"Minneapolis/St. Paul\",\"Kirkwall\",\"Portsmouth, UK\",\"cork\",\"dublin \",\"??????????????\",\"Winter Park, Colorado\",\"Oregon and Washington\",\"#ODU\",\"Unites States\",\"Santiago,Rep\\u00cc\\u00bcblica Dominicana\",\"Wilmington, Delaware\",\"iamdigitalent.com\",\"Evergreen Colorado\",\"The Peach State\",\"Dhaka\",\"Halifax, Nova Scotia\",\"Deadend, UK\",\"Chester\",\"eBooks, North America\",\"Sydney & Worldwide\",\"Scotts Valley, CA\",\"IG/SC:bjfordiani\",\"Wisconsin, USA\",\"East Aurora, NY\",\"Woosley\",\"Hamilton, Ontario CA\",\"maryland\",\"Attock\",\"INDIA\",\"phuket thailand\",\"Tema,Accra\",\"ngapain?\",\"Riverdale, GA \",\"ona block w/ my BOY ??\",\"East Islip, NY\",\"but i love kaylen ??\",\"COMING SOON\",\"Gotham City,USA\",\"Hawaii\",\"BROKE NIGGAS DREAM!!\",\"Las Vegas, NV \",\"\\u00e5\\u00a1\\u00e5\\u00a1Midwest \\u0089\\u00db\\u00a2\\u0089\\u00db\\u00a2\",\"Plano,TX\",\"Ibadan,Oyo state\",\"Midwest City, OK\",\"Galapa / Atl\\u00cc\\u00c1ntico\",\"STL ?NOLA\",\"instagram: bribriony\",\"Long Island\",\"Downtown Oklahoma City\",\"Seattle native in Prescott, AZ\",\"Savage States of America\",\"Whole World \",\"WORLDWIDE!\",\"St Louis, MO\",\"\\u00e5_\\u00e5_Los Mina City\\u0089\\u00e3\\u00a2\",\"876 Jamrock.\",\"Jeddah_Saudi Arabia.\",\"toronto, ontario\",\"Bangalore City, India\",\"peshawar pakistan \",\"Beit El - Israel\",\"Sanganer, Rajasthan\",\"Loading...\",\"Chennai\",\"BILASPUR,CHHATTISGARH,495001\",\"Niall's arms\",\"proudly South African\",\"????? ???? ????\",\"Charleston S.C.\",\"Hyrule\",\"front row at a show\",\"Arlington, VA\",\"God.Family.Money\",\"Kwajalein/Virginia/Dayton, OH\",\"Bi\\u00cc\\u00b1an,Laguna\",\"South Carolina, USA\",\"Atlanta, Georgia USA\",\"Reston, VA, USA\",\"Lancaster, CA\",\"New Jersey, USA\",\"Stowmarket\",\"Tn\",\"South Asia\",\"Reading a romance novel\",\"Bulgaria\",\"AUSTRALIA-SOUTHAFRICA-CAMBODIA\",\"Port Williams NS\",\"Dallas, TX \",\"S\\u00cc\\u00a3o Paulo, Brasil\",\"WORLD\",\"Philadelphia, Pennsylvania\",\"Earth 0\",\"Lake Monticello, VA\",\"Sao Paulo\",\"WV, love the blue and gold\",\"Berlin, NY, DC, Malibu\",\"Shanghai\",\"Anywhere Safe\",\"Marietta, GA\",\"Numenor\",\"Salt Lake City, UT\",\"Gander NF\",\"nowhere\",\"Palm Desert, CA\",\"M\\u00cc\\u00a9xico\",\"New Jersey/New York\",\"#SandraBland\",\"'Merica\",\"Harper Woods, MI\",\"dubai \",\"staggering on tenement roofs\",\"houston\",\"Orlando \",\"Noida, NCR, India\",\"NYC / International\",\"  \",\"PA, USA\",\"call me peach or sam lo\",\"LITTLETON, CO, USA, TERRAN\",\"Orlando\",\"shoujo hell \",\"10 Steps Ahead.  Cloud 9\",\"central chazifornia\",\"????s ?? ????\\u00cc\\u00f8????\\u00cc\\u00a1a\",\"T E X A S | wwat 8.24.14\",\"Kentucky, USA\",\"khartoum sudan\",\"Palma, Islas Baleares\",\"Killafornia made me \",\"IndiLand \",\"Baydestrian\",\"gamertag: bexrayandvav \",\"WORDLDWIDE\",\"73101\",\"South Carolina\",\"Tornado Alley, USA \",\"Nicoma Park, OK\",\"Lethbridge, Alberta, Canada\",\"Lethbridge, AB, Canada\",\"Dindigul,TamilNadu.\",\"God is Love. \",\"cognitive dissonance town\",\"I O W A\",\"Gurgaon, Haryana. \",\"Wherever I'm sent\",\"Austin\",\"Fort Knox, KY 40121\",\"california\",\"Providence RI / Lisnaskea \",\"CPT & JHB, South Africa\",\"Yuuko-san's shop\",\"V\\u00cc_a L\\u00cc\\u00c1ctea\",\"KADUNA, NIGERIA\",\"Home is where we park it!\",\"Webster, TX\",\"Maracay y Nirgua, Venezuela\",\"North Cack/919\",\"Scottsdale, AZ\",\"Victoria, Canada\",\"FILM OUT LATE 2015\",\"Miami,Fla\",\"santo domingo\",\"Worldwide - Global\",\"Suva, Fiji Islands.\",\"Americas Newsroom\",\"Fredericksburg, Virginia\",\"Wherever I'm needed\",\"Charlotte \",\"Sale, England\",\"Newcastle, England \",\"in my head\",\"Rutherfordton, NC\",\"Lake Highlands\",\"Charlotte, N.C.\",\"(a) property of the universe\",\"Sugar Land, TX\",\"Friendswood, TX\",\"Galveston, Texas\",\"Get our App\",\"Vail Valley\",\"Amsterdam | San Francisco\",\"Ashland, Oregon\",\"Riverside, California.\",\"Around the world\",\"Lancaster California\",\"?? Cloud Mafia ??\",\"Eddyville, Oregon 97343\",\"Palm Beach County, FL\",\"Argus Industries \\\\m/666\\\\m/\",\"Georgia ? Tennessee\",\"Gettysburg, PA\",\"Florida USA\",\"Hermitage, PA\",\"Jakarta, Indonesia\",\"calgary,ab\",\"Newton, NJ 07860\",\"she/her/your majesty/empress\",\"LYNBROOK\",\"iPhone: 33.104393,-96.628624\",\"Shady Pines \",\"Watertown, Mass.\",\"Wales, United Kingdom\",\"scumbernauld\",\"khanna\",\"Bangkok\",\"Punjab\",\"No ID, No VOTE!!!\",\"Maharashtra\",\"New Delhi,India\",\"Xi'an, China\",\"Robin Hood's County \",\"Milwaukee County\",\"Click the link below, okay \",\"probably not home\",\"6\",\"At your back\",\"Livingston, MT\",\"  Glasgow \",\"Denton, Texas\",\"TN\",\"#NewcastleuponTyne #UK\",\"Vancouver, Canada\",\"London \",\"Plano, IL\",\"Canada BC\",\"Norwich\",\"Lebanon, Tennessee\",\" Alex/Mika/Leo|18|he/she/they\",\"?Gangsta OC / MV RP; 18+.?\",\"Earth: Senseless nonsense\",\"Not Steven Yeun / AMC.\",\"cody, austin follows ?*?\",\"moss chamber b\",\"1/10 Taron squad\",\"Argentina\",\" ?currently writing a book?\",\"Pratt-on-Wye\",\"709?\",\"Somerset, UK\",\"Atlanta, Georgia\",\"SF Bay Area, California / Greater Phoenix, AZ\",\"Alabama, USA\",\"Primum non nocere\",\"Gwersyllt, Wales\",\"Greenville\",\"Greenville, S.C.\",\"Innsmouth, Mass.\",\"Tucson, AZ\",\"West Vancouver, B.C.\",\"Cedar Island, Clinton CT 06413\",\"New Jersey \",\"Still. ??S.A.N.D.O.S??\",\"We're All Mad Here\",\"New Hampshire, USA\",\"ca(NADA) \",\"T-Ville\",\"//RP\\\\ ot @Mort3mer\\\\\\\\\",\"BROOKLYN, NYC\",\"\\u00e5\\u00ca(?\\u0089\\u00db\\u00a2`?\\u0089\\u00db\\u00a2\\u00e5\\u00ab)??\",\"New York 2099\",\"Halifax, NS, Canada\",\"UK,singer,songwriter,?2 act\",\"kediri,,jawa timur\",\"MI - CA\",\"Central Florida\",\"CT, USA\",\"www.twitch.tv/PKSparkxx\",\"statesboro/vidalia\",\"New Jersey, usually\",\"Haveli, Maharashtra\",\"Slateport City, Hoenn\",\"jayankondacholapuram.tamilnadu\",\"The D\",\"Host of #MindMoversPodcast\",\"Downtown Churubusco, Indiana\",\"3rd Eye Chakra\",\"Milky Way galaxy \",\"us\",\"??? ???? ?f glory. ?\",\"Your Six\",\"\\u00cc\\u00cfT: 1.50225,103.742992\",\"Newcastle, OK\",\"Oshawa/Toronto\",\"Very SW CA, USA....Draenor\",\"Amsterdam & Worldwide\",\"Perth, Australia\",\"In a graveyard \",\" ? ??????? ? ( ?? \\u00e5\\u00a1 ? ? ? \\u00e5\\u00a1)\",\"Ted&Qz Inc, Ireland, Europe\",\"Santiago de Cmpostela Galicia\",\"cleveland, oh\",\"Northern Colorado\",\"West Coast, Cali USA\",\"right here\",\"nashville, tn \",\"Somewhere else...\",\"Denver Colorado. Fun Times\",\"Not Of This World\",\"ohio\",\"Atlanta - FAU class of '18\",\"Richardson TX\",\"London, Sydney\",\"Internet\",\"Where I Need To Be\",\"Here, unless there.  \",\"NEPA/570\",\"pettyville, usa\",\"Phila.\",\"brooklyn, NYC\",\"Bristol, England\",\"Stamford & Cork (& Shropshire)\",\"Twitterville\",\"Eastern Iowa\",\"Fort Walton Beach, FL\",\"Toronto, Bob-Lo, Miami Beach\",\"planet earth\",\"nap central\",\"Olathe, KS\",\"Madrid\",\"Hartford, Connecticut\",\"#KaumElite;#F?VOR;#SMOFC\",\"Sheff/Bangor/Salamanca/Madrid\",\"Proud @BuckMasonUSA supporter!\",\"Hawthorne, NE\",\"Ely, Cambridgeshire\",\"GrC Founder, 8,000 Subscribers\",\"Beirut/Toronto\",\"Regalo Island\",\"california | oregon | peru |\",\"N. California USA\",\"Multinational *****\",\"rural ohio (fuck)\",\"Vermont, USA\",\"??? ?????????????\",\"Harbour Heights, FL\",\"( ?\\u00e5\\u00a1 ?? ?\\u00e5\\u00a1), \",\"Kernow\",\"St. Louis\",\"Holly, MI\",\"Somewhere between here & there\",\"CHICAGO\",\"Frostburg\",\"Canterbury kent\",\"The Sun's Corona\",\"Predjama, Eslovenia.\",\"Polmont \",\"Harlem, NY or Chocolate City\",\"Charlotte, North Carolina\",\"Belfast\",\"fujo garbage heaven \",\"New York - Connecticut\",\"snapchat~ maddzz_babby \",\"Florida Forever\",\"#RedSoxNation\",\"MNL\",\"youtube.com/channel/UCHWTLC9B4ZjUGh7yDlb55Iw\",\"CA ??DC\",\"M\\u00cc\\u00a9rida, Yucat\\u00cc\\u00c1n\",\"Scituate, MA\",\"hkXfYMhEx\",\"Hamilton County, IN\",\"Dakar\",\"In your head\",\"The Sanctuary Network, Rome\",\"Tractor land aka Bristol\",\"Adventuring in Narnia\",\"Asgard\",\"Unite. Bless. Wallahi \",\"sneaking glances at Thancred\",\"Long Beach, CA\",\"Lima, OH\",\"Wailuku, Maui\",\"West Africa\",\"heart of darkness, unholy ?\",\"Colonial Heights, VA\",\"The Weird Part of Wonderland\",\"Cassadaga Florida\",\"Columbus, Georgia\",\"Phoenix Az\",\"ON\",\"Spain - China - Latin America.\",\"Chester, IL\",\"Made Here In Detroit \",\"sheffield // rotherham\",\"Dallas, Tejas\",\"ATLANTA , GEORGIA \",\"| CA \\u0089\\u00db\\u00a2 GA  |\",\"Depok\",\"London / Birmingham\",\"Yulee, FL\",\"austin tx\",\"Garrett\",\"followurDREAMS(& my instagram)\",\"ljp/4\",\"Nirvana\",\"Auburn \",\"ny\",\"All around the world\",\" Jariana Town\",\"Honeymoon \\u00cc\\u00a3ve.\",\"Aveiro, Portugal\",\"justin & ari follow || tvd\",\"9/1/13\",\"JDB/LJC/AGB/TW/PLL\",\"nap queen\",\"amsterdayum 120615 062415\",\"lesa * she/her\",\"Griffin :3\",\"xiumin's nonexistent solos\",\"marvel | books | hp | tmr\",\"blackfalds.\",\"San Juan, Puerto Rico\",\"Freddy Fazbears pizzeria\",\"Bras\\u00cc_lia\",\"POFFIN\",\"#Gladiator \\u0089\\u00db\\u00a2860\\u0089\\u00db\\u00a2757\\u0089\\u00db\\u00a2\",\"W.I.T.S Academy\",\"Where ever i please\",\"Mogadishu, New Jersey\",\"Namjoon's pants\",\"Wakefield, West Yorkshire\",\"3000 miles from everyone\",\"Mentor OH\",\"Trumann, Arkansas\",\"18 \\u0089\\u00db\\u00a2 CC\",\"1D | 5SOS | AG\",\"PA.USA\",\"m3, k, a, d\",\"pissing off antis\",\"'SAN ANTONIOOOOO'\",\"sisterhood\",\"livin in a plastic world\",\"Daddy Kink Central\",\"with Doflamingo\",\"21, Porto\",\"access to njh/5 and cth/4\",\"Massachusetts \",\"rio de janeiro | brazil\",\"Moore, OK\",\"\\u0089\\u00db\\u00a2OlderCandyBloom\\u0089\\u00db\\u00a2\",\"Justin and Ariana follow\",\"[@blackparavde is my frankie]\",\"Chicora ?? Oakland\",\"Upstate New York\",\"tri state\",\"trapped in America\",\"Sicamous, British Columbia\",\"North Memphis/Global Citizen\",\"Bridport, England\",\"Porto Alegre, Rio Grande do Sul\",\"North Vancouver, BC\",\"Pioneer Village, KY\",\"ECSU16\",\"Tulsa, OK\",\"North\",\"Ames, IA\",\"Augusta, Maine, 04330\",\"Ad Majorem Dei Glorium\",\"Aurora, Ontario \",\" Baku & Erzurum \",\"Statute Of Limitations_\",\"paradise\",\" BC, US, Asia or Europe.\",\"St PetersburgFL\",\"Espa\\u00cc\\u00b1a\",\"Tarragona\",\"Warri\",\"Fairfax, VA\",\"Thailand Malaysia Indonesia \",\"music.\",\"Poplar, London\",\"New York, United States\",\"Some Where in this World\",\"russia\",\"Livonia, MI\",\"Karolinska v\\u00cc_gen 18, Solna\",\"I Heard #2MBikers\",\"Dunwoody, GA\",\"Ebola\",\"Broadview Heights, Ohio\",\"LP, MN USA\",\"La Puente, CA\",\"Burlington, VT\",\"La Grange Park, IL\",\"Warszawa\",\"#MayGodHelpUS\",\"Darnley, Prince Edward Island\",\"Gloucester, MA\",\"Alberta \",\"Yobe State\",\"Coventry, Rhode Island\",\"Skyhold\",\"Amman,Jordan\",\"tripoli international airport\",\"In Space\",\"Here, there and everywhere\",\"Belgrade\",\"Cardiff, UK\",\"Bossland\",\"Uppsala, Sweden\",\"East London\",\"Montana, USA\",\"Utah, USA\",\"Frankfort, KY\",\"Sligo and Galway, Ireland\",\"USA - Canada - Europe - Asia\",\"Tipperary (Long Way) \",\"Malang\",\"hertfordshire.\",\"Dublin\",\"SURROUNDED BY WEEABOOS\",\"Vidalia GA\",\"Vista, CA\",\"Serva Fidem\",\"Bellville, Ohio\",\"Paris, France\",\"17th Dimension\",\"NYC,US - Cali, Colombia\",\"The Multiverse\",\"QLD Australia\",\"Geneva, Switzerland\",\"Big NorthEast Litter Box\",\"Surry Hills, Sydney\",\"Thornton  Colorado\",\"Wanderlust\",\"U.S.A.   FEMA Region 5\",\"watford\",\"West Hollywood\",\"Jammu | Kashmir | Delhi\",\"?????????????, Thailand \",\"southern california\",\"Philadelphia, Pennsylvania USA\",\"Huntley, IL\",\"The green and pleasant land.\",\"Leeds, U.K.\",\"Westerland\",\"Kuala Lumpur\",\"Surabaya\",\"#iminchina\",\"Melbourne, Australia.\",\"Sheffield/Leeds\",\"PLFD cuh..\",\"In the spirit world\",\"DMV\",\"philly \",\"south africa eastern cape\",\"Amazon Seller , Propagandist\",\"NJ/NY/NM/NE/ND\",\"3???2???????\",\"Cimahi,West Java,Indonesia\",\"Stateless Global Citizen\",\"Halton Region\",\"Los Angeles, Calif.\",\"Warm Heart Of Africa\",\"\\u00cc\\u00cfT: 27.9136024,-81.6078532\",\"V\\u00cc_ster\\u00cc\\u00b4s, Sweden\",\"Reality\",\"Roadside\",\"London/Lagos/FL \\u00cc\\u00cfT: 6.6200132,\",\"The Land of MAss Stupidity\",\"dorito land\",\"Gidi\",\"Email: Lovethterry@gmail.com\",\"Homs- Syria\",\"Docker container\",\"hatena bookmark\",\"In a crazy genius mind\",\" Alberta\",\"Mpela'zwe \",\"State College, Pa\",\"mind ya business\",\"nor*cal\",\"West Palm Beach, Florida\",\"philly\",\"Mackem in Bolton\",\"Johns Creek, GA\",\" New Delhi \",\"#BossNation!\",\"U.S.A and Canada\",\"pittsboro\",\"NC || OR\",\"Espa\\u00cc\\u00b1a - Spain - Espagne\",\"#PhanTrash\",\"Desert Storm?? |BCHS|\",\"Ottawa, Ontario\",\"Santiago de Chile\",\"Camaqu\\u00cc\\u00a3/Pelotas\",\"Austin/Los Angeles\",\"lagos. Unilag\",\"Did anybody see me here ??\",\"Na waffi\",\"???????, Texas\",\"Essex\",\"oxford\",\"Gloucester\",\"i beg vines sorry \",\"toledo\",\"Semarang, Indonesia\",\"Lincoln City Oregon\",\"Fountain City, IN \",\"gaffney, sc \",\"Camberwell, Melbourne\",\"NAIROBI  KENYA \",\"Kansas\",\"ava\",\"nj/ny\",\"Back East in PA\",\"? icon by @Hashiren_3 ?\",\"EveryWhere\",\"Trapped in my Conscience \",\"death star\",\"Brentwood,TN\",\"In your mind\",\"Cardiff, Wales\",\"Saudi Arabia\",\"EARTH\",\"Garden City, NY\",\"africa\",\"Birmingham, United Kingdom\",\"nigeria\",\"Minority Privilege, USA\",\"Chicago IL\",\"Principality of Zeron\",\"GCC\",\"On a beach \",\"Tokyo & Osaka\",\"{GoT | Modern AU | Lizz}\",\"mainly California\",\"18 | 509 \",\"glasgow\",\"Bon Temps Louisiana\",\"my house\",\"Beacon Hills\",\"West Coast, USA\",\"Gaborone, Botswana\",\"Bracknell\",\"Western New York\",\"Porthcawl\",\"lost in history\",\"Mountains\",\"Evansville, IN\",\"Greenpoint\",\"\\u00cc\\u00cfT: 42.910975,-78.865828\",\"Cypress, CA 90630\",\"North East Unsigned Radio\",\"Every Where in the World\",\"Fountain Valley, CA\",\"Haarlem\",\"Queensland\",\"HOMRA.\",\"Ciudad Aut\\u00cc_noma de Buenos Aires, Argentina\",\"Not where I want to be, yet\",\"Duval, WV 25573, USA ?\",\"Rhyme Or Reason?\",\"hey Georgia\",\"nc\",\"kenya\",\"My subconscious\",\" New England\",\"UAE,Sharjah/ AbuDhabi\",\"The Web\",\"Hinterestland\",\"Texas af\",\"\\u0081\\u00cawagger!\\u00cc\\u0090ominican\\u00cc\\u00f7\",\"Hatteras, North Carolina\",\"5-Feb\",\"labyrinthia\",\"??+ ... ??+\",\"garowe puntland somalia\",\"Third rock from the Sun\",\"Lives in London\",\"Lakewood, Tennessee\",\"Smash Manor/Kanto\",\"Bokaro Steel City, Jharkhand\",\"412 NW 5th Ave. Portland OR\",\"Alger-New York-San Francisco\",\"Madison, Wisconsin, USA\",\"Mogadishu, Somalia\",\"the azure cloud\",\"Perenjori, WA\",\"Unknown \",\"Atlanta(ish), GA\",\"ill yorker\",\"White Plains, NY\",\"B&B near Alton Towers\",\"Paris.\",\"Am International\",\"Team Slytherin\",\"Narnia, Maryland\",\"BrowardCounty // Florida \",\"Soufside\",\"Dalston, Hackney\",\"WORLDWI$E \",\"atlanta\",\"3.28.15|7.20.15|7.25.15\",\"cigarknub@gmail.com\",\"Ktx\",\"PSA Nursing \",\"Winnipeg, MB, Canada\",\"Ventura, Ca\",\"Bronx, NY\",\"Wakefield MA\",\"Huntington, WV\",\"Hampshire, UK\",\"Louisiana, USA\",\"This Is Paradise. Relax. \",\"Deployed in the Middle East\",\"teh internets\",\"Neath, South Wales\",\"Medell\\u00cc_n, Antioquia\",\"Crato - CE \",\"Michel Delving.\",\"Canada Eh! \",\"Hame\",\"Brizzle City !\",\"texasss\",\"Diamondville\",\"The TARDIS\",\"Honolulu,Hawaii \",\"Flipadelphia\",\"high way 99\",\"... -.- -.--\",\"Ohio\",\"az\",\"828??864??803\",\"Nomad, USA\",\"Greater Los Angeles Bearia\",\"victoria moz\\u00cc\\u00a3o \",\"Hollywood\",\"miami x dallas \",\"Hamburg, DE\",\"Nanaimo, BC, Canada\",\"Los Angles, CA\",\"Essex, England\",\"Bloomington, IN\",\"Mars\",\"midwest\",\"Spying on your thoughts\",\"seattle grace mercy death\",\"Tucson, Arizona \",\"Charlotte County Florida\",\"Head Office: United Kingdom\",\"Mid north coast of NSW\",\"iPhone: -27.499212,153.011072\",\"Queen Creek AZ\",\"The Internet & NYC\",\"London/Bristol/Guildford\",\"Canberra, Australian Capital Territory\",\"beacon hills \",\"somewhere outside\",\"Wolmers Trust School for Boys \",\"Loughborough.\",\"Selangor\",\"indiana\",\"Bronx, New York\",\"Canadian bread\",\"Copenhagen, Capital Region of Denmark\",\"Nelspruit, South Africa\",\"Hoxton, London\",\"a botanical garden probably\",\"Hampton Roads, VA\",\"Gameday\",\"Earthling (For now!)\",\"Black Canyon New River, AZ\",\"Caracas, Venezuela.\",\"Charlottetown\",\"Paradise, NV\",\"??t?a\",\"Li\\u00cc\\u00acge\",\"Spokane, Washington 99206\",\"taco bell\",\"Australian Capital Territory\",\"[ kate + they/them + infp-t ]\",\"please H? ?:??\",\"we?it \\u0089\\u00db\\u00a2 ixwin\",\"Santiago Bernabeau\",\"y/e/l\",\"Whiterun, Skyrim\",\"Greenpoint, Brooklyn\",\"Le Moyne '16\",\"Las Vegas, NV USA\",\"Lurking\",\"Boulder, CO\",\"Hartford  London Hong Kong\",\"In @4SkinChan 's arms\",\"Wellington, New Zealand\",\"?? ??\",\"New Brunswick, NJ\",\"City of Angels, CA\",\"Morganville, Texas.\",\"America | New Zealand \",\"Azeroth\",\"Lytham St Anne's \",\"Ylisse\",\"All around the world baby\",\"@UntmdOutdoors #T.O.R.K \",\"Lima, Per\\u00cc\\u00bc\",\"Piedmont Area, North Carolina\",\"Buxton, Venice, and Nottingham\",\"Quito, Ecuador.\",\" Bouvet Island\",\"Shirley, NY\",\"Hospital, bc of SKH vid.\",\"LIVERPOOL\",\"Heinz Field \",\"Trinity, Bailiwick of Jersey\",\"Skyport de la Rosa\",\"The Low-Cal Calzone Zone\",\"Brooklyn, New York\",\"50% Queanbeyan - 50% Sydney\",\"Insula Barataria\",\"everywhere \",\"Afghanistan, USA\",\"Inglewood, CA\",\"Absecon, NJ\",\"Williamsbridge, Bronx, New Yor\",\"Northern Kentucky, USA\",\"Mostly Yuin.\",\"Rochelle, GA\",\"south of heaven \",\"El Dorado, KS\",\"Santa Monica, CA\",\"1648 Queen St. West, Toronto.\",\"Toledo, OH\",\"Fairfield, California\",\"Isle of Man\",\"Blogland\",\"627\",\"Dundas, Ontario\",\"Netherlands\",\"DaKounty, Pa\",\"D\\u00cc_sseldorf, Germany\",\"Old Blighty\",\"The land of New Jersey. \",\"Atlanta Georgia\",\"MY RTs ARE NOT ENDORSEMENTS\",\"Kabul, Tuebingen, Innsbruck\",\"Light and dark, form and void\",\"Nairobi, Kenya \",\"Erbil\",\"Stockton on tees Teesside UK\",\"Screwston, TX\",\"My old New England home\",\"melbourne\",\"Ikeja, Nigeria\",\"Warwick, RI @Dollarocracy also\",\"texas a&m university\",\"Shipwreck Cove\",\"IDN\",\"Oxford, OH\",\"Upper St Clair, PA\",\"Sunrise Manor, NV\",\"#937??#734\",\"Fife, WA\",\"Bushkill pa\",\"In the Shadows...\",\"southwest, Tx\",\"ANYWEHERE !!\",\"Menlo Park. SFO. The World.\",\"Speaking the Truth in Love\",\"Aarhus, Central Jutland\",\"wny\",\"Bolton & Tewkesbury, UK\",\"travelling to tae's pants\",\"keli x\",\"ChicagoRObotz\",\"whs '17\",\"NV\",\"lagos nigeria\",\"Edmonton, Alberta\",\"[Gia.] | #KardashianEmpire\",\"Overland Park, KS\",\"Toronto-Citizen of Canada & US\",\"North East USA\",\"Vit\\u00cc_ria (ES)\",\"Brisbane Australia\",\"NY Capital District\",\"Peoria\",\"Reading UK\",\"Concord, NH \",\"CORNFIELDS\",\"Worcester, MA\",\"nj\",\"MA via PA\",\"toronto \\u0089\\u00db\\u00a2 dallas\",\"San Diego CA\",\"germany\",\" Nxgerxa\",\"Port Charlotte, FL\",\"Belleville, Illinois\",\"Long Island NY & San Francisco\",\"956\",\"Escondido, CA\",\"Chicago Area\",\"Groton, CT\",\"Fort Walton Beach, Fl\",\"Nigeria, Global\",\"KurveZ@GearHeadCentral.net\",\"Buscame EL tu Melte\",\"Wiltshire\",\"PROUD INDIANS\",\"Pittsburgh PA\",\"MUM-DEL\",\"Playa del Carmen, Mexico\",\"NY, CT & Greece\",\"Quincy MA\",\"Ziam af \",\"Scotland \",\"GO BLUE! HAIL YES!!\",\"Outside The Matrix, I Think.\",\"somewhere over a rainbow\",\"Bombardment Bay\",\"Savannah, GA\",\"Intermountain West\",\"Auburn, AL\",\"taken by piper curda\",\"Paonia, Colorado \",\"N?? Y???.\",\"WAISTDEEP, TX\",\"Vancouver\",\"USA, WA\",\"btwn a rock and a hard place\",\"Aix-en-Provence, France\",\"I-75 in Florida\",\"Darlington\",\"  Melbourne, Australia\",\"Kenton, Ohio\",\"Galatians 2:20 \",\"Charleston, SC\",\"Lancaster, Pennsylvania, USA\",\"In my own world!!!\",\"Definitely NOT the stables\",\"Cuernavaca, Morelos, M\\u00cc\\u00a9xico.\",\"Va Beach, Virginia\",\"52.479722, 62.184971\",\"The Pig Sty\",\"Bangor, Co.Down\",\"Weston super mare\",\"Victoria, Tx.\",\"60th St (SS)\",\"North Highlands, CA\",\"Gujranwala, Pakistan\",\"Peterborough, Ontario, Canada\",\"bk. \",\"Lansing, Michigan\",\"Peterborough, Ont.\",\"On the court \",\"Traverse City, MI\",\"See the barn of bleakness\",\"Hertfordshire \",\"\\u00cc\\u00cfT: 41.252426,-96.072013\",\"Greeley, CO\",\"'soooota\",\"NY, NY\",\"Arvada, CO\",\"Vancouver, Colombie-Britannique\",\"Irving , Texas\",\"Riverside, CA\",\"SEATTLE, WA USA\",\"USA , AZ\",\"East Atlanta, Georgia\",\"Saint Lucia\",\"Pakistan, Islamabad\",\"Lindenhurst\",\"Littleton, CO, USA\",\"#HAMont\",\"Ontario, Canada. \",\"Guayaquil\",\"bahstun/porta reeko\",\"Bucks County, Pa\",\"Sunny South florida \",\"Rio\",\"Neverland\",\"Chicago - Lake Buena Vista\",\"Liberty Lake, WA\",\"Ankara - Malatya - ad Orontem\",\"antioch, california\",\"somewhere in cali \",\"Im Around ... Jersey\",\"Garden Grove\",\"BKI-KUA\",\"ur\\u00cc\\u00a3nus\",\"A.A.S my Aztec Princess\",\"turner fenton\",\"KLA,Uganda\",\"Conroe, TX\",\"wherever there's netflix\",\"Islamabad\",\"11/4/14\",\"Somewhere\",\"too far\",\"Kingswinford\",\"i love the smurfs 2\",\"International \",\"Viterbo BFA Acting '18\",\"Kaneohe\",\"Houma La\",\"EastAtlanta ??#WestGeorgia'18\",\"Cleveland, Ohio\",\"San Diego, Texas.\",\"05/04/2014 18:23 ?\",\"Bolivar, MO\",\"taking pain like pleasure\",\"San Fransokyo\",\"Washington, DC NATIVE\",\"w. Nykae \",\"honeymoon avenue\",\"Toronto, Worldwide \",\"Cape Cod, Massachusetts USA\",\"Waco TX\",\"From a torn up town MANCHESTER\",\"BC\",\"Colchester Essex \",\"livin life in the 610\",\"Inside your mind.\",\"36 & 38\",\"New York, NY \",\"Slappin and Smackin \",\"DRAW A CIRCLE THAT'S THE EARTH\",\"Madrid, Comunidad de Madrid\",\"Highland Park, CA\",\"Swan River\",\"Kolkata, India\",\"Melrose\",\"Jubail IC, Saudi Arabia\",\"Sugarhouse, UT\",\"lugo\",\"Blackpool, England, UK.\",\"Fakefams\",\"In the clouds...\",\"Sandton, South Africa\",\"Abuja, Nigeria\",\"BestCoast\",\"St. Joseph, Minnesota\",\"NY || live easy? \",\"Virginia, United States\",\"Center for Domestic Preparedness\",\"Ukraine and Ireland\",\"Welt\",\"Beaumont, TX\",\"Annapolis, MD\",\"Harris County, Texas\",\"Tyler, TX\",\"North Ferriby, East Yorkshire\",\"Ames, Iowa\",\"Moscow, Russia\",\"Jersey City, NJ\",\"Mankato, MN\",\"Orbost, Victoria, Australia\",\" Somewhere.\",\" Neverland \",\"At Da Laundry Mat Wit Nivea \",\"norway\",\"$ad $hawty\",\"#Bummerville otw\",\"Brighton and Hove\",\"Pompano Beach, FL\",\"JKT48-Muse-A7X\",\"Kansas, The Free State! ~ KC\",\"Silang, Cavite / Para\\u00cc\\u00b1aque\",\"Fort Smith, AR\",\"planeta H2o\",\"www.youtube.com?Malkavius2\",\"The Forever Girl\",\"Esp\\u00cc_rito Santo\",\"Ormond By The Sea, FL\",\"Maryland,Baltimore\",\"Houston, Texas\",\"Yadkinville, NC\",\"Medford, NJ\",\"Dallas, Texas. \",\"Roanoke VA\",\"Unnamed City\",\"Peterborough, On\",\"-6.152261,106.775995\",\"@protectingtitan's side.\",\"Eau Claire, Wisconsin\",\"Viejo\",\"Greg's place\",\"Melton, GA\",\"Paris \",\"Behind The Obama Curtain\",\"Worldwide.\",\"LiVE M\\u00cc\\u0081S\",\"Henderson, NV\",\"CAMARILLO, CA\",\"manchester, uk.\",\"Eugene, Oregon\",\"they/her\",\"(he/him)\",\"Live m\\u00cc\\u00c1s\",\"I'm standing behind you\",\"Alexandria, Egypt.\",\"instagram- Chloe_Bellx\",\"on the web\",\"#ForeverWithBAP 8 \",\"GOT7SupportPH\",\"wherever-the-fuck washington\",\"From NY. In Scranton, PA\",\"D.C. - Baltimore - Annapolis\",\"washington, d.c.\",\"Frome, Somerset, England\",\"Mexico! ^_^\",\"Harlem, New York\",\"Burbank,CA\",\"Spokane, Washington\",\"Our Empire State\",\"Kingston, Pennsylvania\",\"Zero Branco\",\"bajaur\",\"\\u0089\\u00db\\u00ca\\u0089\\u00db\\u00ca\\u0089\\u00db\\u00ca\",\"Miami,FL\",\"North-East Region, Singapore\",\"EARTH \",\"Jerusalem, Israel\",\"Menasha, WI\",\"Bleak House\",\"heccfidmss@gmail.com\",\"toronto\",\"[ Blonde Bi Fry. ]\",\"Winston Salem, North Carolina\",\"WASHINGTON,DC\",\"Campinas Sp\",\"Hollywood, CA\",\"Selena | Britney | Hilary\",\"Studio\",\"Albuquerque\",\"San Antonio-ish, TX\",\"Harlingen, TX\",\"Buffalo NY\",\"Alphen aan den Rijn, Holland\",\"Wrigley Field\",\"probably the strip club\",\"Here And There\",\"Rotterdam, Zuid-Holland\",\"Derry, 17 \",\"Toronto, ON\",\"The Orwellion police-state\",\"Castaic, CA\",\"Helsinki, Finland\",\"East Kilbride\",\"middle eastern palace\",\"Perthshire \",\"twitch.tv/naturalemblem26\",\"cyprus\",\" snapchat // fvck_casper \",\"Freeport IL. USA\",\"Danville, VA\",\"LEALMAN, FLORIDA\",\"Groningen, Netherlands, Europe\",\"Livingston, IL  U.S.A.\",\"Arundel \",\"Anna Maria, FL\",\"israel\",\"The Hammock, FL, USA\",\"??????????????????\",\"S\\u00cc\\u00a3o Paulo SP,  Brasil\",\"in Dimitri's arms\",\"Oslo, Norway\",\"Loughton, Essex, UK\",\"guaravitas\",\"Score More Goals Buying @\",\"NEW YORK\",\"London, Kent & SE England.\",\"Score Team Goals Buying @\",\"South Central Wales\",\"Jersey City, New Jersey\",\"505 W. Maple, Suite 100\",\"#GDJB #ASOT\",\"Peshawar\",\"Tucson, Az\",\"london / st catharines ?\",\"Seattle WA\",\"Bellevue NE\",\"West Bank, Gaza Strip\",\"\\u0089\\u00db\\u00a2FLG\\u0089\\u00db\\u00a2\",\"Online 24/7. Not even kidding.\",\"rowyso dallas \",\"Halton, Ontario\",\"portland, oregon\",\"FIMAK A.S Ist Bolge Muduru\",\"London.\",\"#UNITE THE BLUE  \",\"Dayton, Ohio\",\"Port Jervis, NY\",\"City Of Joy\",\"1/3 of the blam squad \",\"CCH \",\"atx\",\"MAURITIUS\",\"AKRON OHIO USA\",\"The Shire\",\"Elk Grove, CA, USA\",\"sindria\",\"Njoro, Kenya\",\"South Bloomfield, OH\",\"global\",\"Alberta | Sask. | Montana\",\"Hagerstown, MD\",\"Gloucestershire , UK\",\"dope show\",\"Oshawa, Canada\",\"Baker City Oregon\",\"marysville ca \",\"Hermosa Beach, CA\",\"Salt Lake City, Utah\",\"Spain but Opa-Locka, FL\",\"Jaipur, India\",\"Hyderabad Telangana INDIA\",\"Eagle Pass, Texas\",\"bangalore\",\"y(our) boyfriends legs \",\"New Mexico, USA\",\"Somewhere Out There\",\"Your Sister's Bedroom\",\"San Mateo County, CA\",\"ColoRADo\",\"Norf Carolina\",\"Est. September 2012 - Bristol\",\"AFRICA\",\"World Wide!!\",\"Paranaque City\",\"milky way\",\"GREENSBORO,NORTH CAROLINA\",\"England.\",\"Sheffield Township, Ohio\",\"Anaheim\",\"Abuja\",\"Sao Paulo, Brazil\",\"hollywoodland \",\"Edmonton, Alberta - Treaty 6\",\"Inang Pamantasan\",\"Twitter Lockout in progress\",\"Concord, CA\",\"CLVLND\",\"Santa Clara, CA\",\"Walker County, Alabama\",\"Mumbai india\",\"sri lanka\",\"Not a U.S resident\",\"Lehigh Valley, PA\",\"Boksburg\",\"V-RP @OZRP_ ?MV, AU, R18+?\",\"Greater Manchester, UK\",\"The Canopy Kingdom\",\"the own zone layer \",\"Trancy Manor\",\"South 37\",\"West Lancashire, UK.\",\"\\u0089\\u00db\\u00a2 Views From The Six \\u0089\\u00db\\u00a2\",\"University of Toronto\",\"Albany/NY\",\"Wild Wild Web\",\"Spain\",\"Yeezy Taught Me , NV\",\"Coolidge, AZ\",\"Ljubljana, Slovenia\",\"Tacoma,Washington\",\"BIG D  HOUSTON/BOSTON/DENVER\",\"Chandler, AZ\",\"Horsemind, MI\",\"Higher Places\",\"Davidson, NC\",\"Cambridge, MA\",\"Thrissur\",\"Havenford\",\"92\",\"Fashion Heaven. IG: TMId_\",\"italy\",\"Jackson\",\"New York / Worldwide\",\"West Wales\",\"Amsterdam\",\"Playa\",\"Swindon,England \",\"Williamstown, VT\",\"Loveland Colorado\",\"|| c h i c a g o ||\",\"L. A.\",\"VISIT MY YOUTUBE CHANNEL.\",\"Lexington\",\"Hannover, Germany\",\"Freeport il \",\"UK Great Britain \",\"LONG ISLAND, NY\",\"Htx\",\"Itirapina, S\\u00cc\\u00a3o Paulo\",\"North Jersey\",\"Biloxi, Mississippi\",\"Brecksville, OH\",\"Walthamstow, London\",\"Ivano-Frankivsk\",\"Sunshine Coast, Queensland\",\"England,UK,Europe,Sol 3.\",\"Nashua NH\",\"65\",\"Westchester\",\"Lynnfield, MA\",\"Level 3 Garrison, Sector G\",\"Shity land of Northern Ireland\",\"Christchurch New Zealand\",\"peekskill. new york, 10566 \",\"PH\",\"Storybrooke \",\"under the blanket\",\"PunPunl\\u00cc\\u00a2ndia\",\"The World\",\"Brazil \",\"International\",\"UK & Ibiza\",\"Laventillemoorings \",\"Detroit, MI, United States\",\"Guelph Ontario Canada\",\"Waterfront\",\"columbus ohio\",\"Waukesha, WI\",\"Himalayan Mountains\",\"Colorado/WorldWide\",\"Houston,  TX\",\"lakewood colorado\",\"THE 6IX\",\"The ?? below ???\",\"Ideally under a big tree\",\"Conversing In Janet's Caf\\u00cc\\u00ac\",\"???????, ??'??????\",\"Cairo, Egypt\",\"Bug Forest\",\"canberra\",\"Isolated City In World Perth\",\"AUS\",\"Jerusalem!\",\"Missouri, USA\",\"have car; will travel\",\"ATL ? SEA \",\"\\u00cc\\u00cfT: 39.982988,-75.261624\",\"#EngleWood CHICAGO \",\"302???? 815\",\"New Your\",\"PURPLE BOOTH STUDIO\\u0089\\u00e3\\u00a2\",\"Cloud 9\",\"Former Yugoslav Republic of Macedonia\",\"3?3?7?SLOPelousas??2?2?5?\",\"316\",\"#WhereverI'mAt\",\"Huber Heights, OH\",\"Miami ??\",\"Every where\",\"401 livin'\",\"MI\",\"EPTX\",\"WESTSIDE OF PHILLY 7? BLOCK??\",\"Greenville,SC\",\"sitting on Eddie Vedders lap,\",\"Inverness, Nova Scotia\",\"Manchester, The World, England\",\"L/S/Z/L/T/H/C/H/R/A/S/C\",\"Oklahoma\",\"801 SL,UT\",\"fluffy cloud\",\"The 5th Dimension. \",\"July 11th, 2015. ?\",\"The Grey Area\",\"Cobblestone\",\"\\u00cc\\u00cfT: 30.307558,-81.403118\",\"Cosmic Oneness\",\"Guildford, UK\",\"Nowhere Islands/Smash Manor\",\"kisumu\",\"Making Worldwide Change Near U\",\"ATX\",\"LA/OC/Vegas\",\"London/Outlaw Country \",\"Grimsby, England\",\"Gotham\",\"Me mammy's belly\",\"Johannesburg, South Africa \",\"Colombo,Sri Lanka.\",\"Temecula, CA\",\"Raleigh Durham, NC\",\"ducked off . . . \",\"Tripsburg, ms.\",\"Durham N.C \",\"Delhi\",\"ARIZONA\",\"Penn Hills, PA\",\"Karachi \",\"seattle wa\",\"SOUTHERN CALIFORNIA DESERT\",\"My contac 27B80F7E 08170156520\",\"Pig Symbol, Alabama\",\"Intramuros, Manila\",\"THE WORLD T.G.G / M.M.M \",\"Between the worlds \",\"State of Georgia\",\"Lima-Peru\",\"Saltillo, Coahuila de Zaragoza\",\"Suitland\",\"Atlanta,Ga\",\"Eagle Mountain, Texas \",\"PSN: Pipbois \",\"Searching for Bae \",\"Use #TMW in tweets get #RT\",\"West Richland, WA\",\"CHICAGO (312)\",\"British girl in Texas\",\"Wilmington, DE\",\"Oxford, MS\",\"Pelham, AL\",\"Jacksonville, FL\",\"Arkansas, Jonesboro\",\"Across the Atlantic\",\"Melbourne, Florida\",\"Over the Moon...\",\"Extraterrestrial Highway\",\"Espoo, Finland\",\"Washington, D.C., area\",\"OES 4th Point. sisSTAR & TI\",\"Netherlands,Amsterdam-Virtual \",\"Hudson Valley, NY\",\"timeline kamu\",\"Konoha\",\"Swag Francisco\",\"Saint Marys, GA\",\"Essex/Brighton\",\"the local dump\",\"#SOUTHAMPTON ENGLAND\",\"?205?478?\",\"Waterford MI\",\"Iowa, USA\",\"california mermaid ? \",\"New York ? ATL\",\"USA/SO FLORIDA via BROOKLYN NY\",\"H / pez & sophia \",\"Queens, NY\",\"Vancouver, BC.\",\"wherever the $$$ at\",\"Purgatory, USA\",\"Maryland, USA\",\"Daruka (near Tamworth) NSW\",\"IJmuiden, The Netherlands\",\"University Heights, Ohio\",\"Central Illinois\",\"Baton Rouge\",\" Indiana\",\"Greensboro, NC\",\"Alicante, Valencia\",\"Quantico, VA\",\"Pennsylvania, PA\",\"Rockford, IL\",\"AZ\",\"Vero Beach , FL\",\"IN\",\"In the middle of no where\",\"dmv ?? fashion school @ KSU. \",\"Nice places \",\"Island Lake, IL\",\"The Great State of Texas\",\"Live Oak, TX\",\"Gages Lake, IL\",\"Madisonville TN\",\"Basketball City, USA \",\"AEP\",\"Alberta Pack\",\"#expelcl*y\",\"My heart is a ghost town!\",\"Uganda\",\"253\",\"Elkhart, IN\",\"CA, AZ & NV\",\"Henderson, Nevada\",\"Nevada, USA\",\"Whippany, NJ\",\"Kodiak, AK\",\"Park Ridge, Illinois\",\"Fredonia,NY\",\"Glendale, CA\",\"Kuwait \",\"Fleet/Oxford, UK\",\"Bahrain\",\"@ ForSL/RP\",\"Rochester, NY\",\"Nevada (wishing for Colorado)\",\"Kokomo, In\",\"Kenosha, WI 53143\",\"London/Surrey \",\"CLT\",\"Cydia\",\"Tallahassee Florida\",\"Orange County, NY\",\"USA, Alabama\",\"17-Feb\",\"Torrance, CA\",\"Kuala Lumpur, Malaysia\",\"Antioch, CA \",\"Alexandria, VA, USA\",\"Reddit\",\"Bakersfield, CA\",\"Calgary, Alberta, Canada\",\"Nagpur\",\"Surrey & Manchester\",\"Calgary,AB, Canada\",\"Fort Myers, Florida\",\"Im In Route \",\"North Hastings Ontario\",\"U.S. Northern Virginia\",\"M!$$!$$!PP!\",\"Cochrane, Alberta, Canada\",\"Leduc, Alberta, Canada\",\"Chapel Hill, NC\",\"204, 555 11 Ave. S.W.\",\"Augusta, GA\",\"Waterloo, Ont\",\"New Britain, CT\",\"? Philly Baby ?\",\"Hensley Street, Portland\",\"Eureka, California, USA\",\"EIU  Chucktown/LaSalle IL\",\"Northern California U.S.A.\",\"Yellowknife, NT\",\"sydney, australia\",\"\\u00cc\\u00cfT: 43.631838,-79.55807\",\"Yellowknife\",\"US: 44.414510,8.942499\",\"Tri-Cities, Wash.\",\"The Empire/First Order\",\"Brisbane, Queensland\",\" |IG: imaginedragoner\",\"London / Berlin / Online\",\"Williamsburg, VA\",\"emily | helen | shelley \",\"New Orleans, Louisiana\",\"Spring Grove, IL\",\"The Windy City\",\"Whitby, ON\",\"MIchigan\",\"seoul\",\"LA - everywhere\",\"Chicago, but Philly is home\",\"wrapped arnd hyuk's finger\",\"Sevier County.\",\"Rochester\",\"Gold Coast, Qld, Australia\",\"Nashville\",\"FLYEST HIPPIE YOU KNOW \",\"An eight-sided polygon\",\"Konoha Village\",\"St. Catharines, Ontario\",\"//??//\",\"FSC '19\",\"\\u0089\\u00db\\u00a2901\\u0089\\u00db\\u00a2\",\"Gold Coast\",\"North West England UK\",\"Manchester UK\",\"TV5, Philippines\",\"Queensland, Australia\",\"Harpurhey, Manchester, UK\",\"Benton City, Washington\",\"Southern Maine\",\"Sacae Plains\",\"University of Limerick\",\"Hendersonville, NC\",\"CT & NY\",\"South Korea GMT+9\",\"Hughes, AR\",\"University of Chicago\",\"yorkshire\\n\",\"Coasts of Maine & California\",\"Pittsburgh \",\"San Diego, California\",\"Idaho\",\"Beirut, Lebanon\",\"El Paso, Texas\",\"qosqo\",\"Lubbock, TX\",\"Lizzy's Knee\",\"D(M)V  \",\"Marrakech M\\u00cc\\u00a9dina, Marrakech - Tensift - Al Haouz\",\"Ellensburg to Spokane\",\"SD |Norway| KSA\",\"A sofa\",\"New Jersey/ D.R.\",\"94123\",\"Adelaide\",\"Numa casa de old yellow bricks\",\"R'lyeh, South Pacific\",\"taking bath do not disturb\",\"Alberta, VA\",\"The Howling\",\"United Kingdom,Fraserburgh\",\"WorldWideWeb\",\"Dreieich, Germany\",\"Pembroke NH\",\"Bayonne, NJ\",\"Colorado Springs\",\"IG: AyshBanaysh\",\"fl\",\"Halfrica\",\"Jacksonville Beach, FL\",\"Richmond Heights, OH\",\"U.S.A. - Global Members Site\",\"Tampa\",\"All around the world!\",\"In The Mansion\",\"\\u0089\\u00db\\u00a25\\u0089\\u00db\\u00a212\\u0089\\u00db\\u00a214\\u0089\\u00db\\u00a2 | \\u00e5\\u00c8#SaviourSquad\\u00e5\\u00c7\",\"Pocatello, ID\",\"Room 234\",\"Near Yosemite\",\"Michigan \",\"where I'm supposed to be\",\"Kutztown, PA\",\"Cairo, Egypt.\",\"not so cool KY\",\"Hampshire UK\",\"Oblivion?\",\"South West, England\",\"Redondo Beach, CA\",\"Newcastle, England\",\"Planet Eyal, Shandral System\",\"Columbus ?? North Carolina\",\"denmark\",\"Davao City\",\"Based out of Portland, Oregon\",\"Kuwait\",\"Wildomar, CA\",\"buhh\",\"We are global!\",\"14/cis/istj \",\"Mass\",\"Forging my Story\",\"Alaska, USA\",\"The Harbinger.\",\"chicago\",\"Dutch/English/German\",\"oklahoma\",\"One World\",\"T\\u00cc\\u00c1chira - Venezuela\",\"a box\",\"Barcelona, Spain\",\"Okuma Town, Fukushima\",\"Durand, MI\",\"rzl ?\",\"Orm\",\"#keepthefaith J&J\",\"Global Edition\",\"Saline, MI\",\"BOT ACCOUNT\",\"#otrakansascity\",\"Dalkeith, Scotland\",\"Kajang ? UiTM Puncak Alam\",\"Cleveland, TN\",\"Pon Di Gully\",\"Wrex\",\"Brooklyn\",\"St.Cloud, MN\",\"on a catwalk somewhere\",\"  \\u00e5_ \",\"Zac Newsome loves me\",\"louisville, kentucky\",\"Makai\",\"Fort Valley,GA/Fayetteville,AR\",\"the road to success\",\"The Desert\",\"Yuba City, CA\",\"University of South Florida\",\"the moon\",\"Woodcreek HS, Roseville, CA\",\"Here & There\",\"District 12 - Orange County\",\"Plain O' Texas\",\"SouthEast Asia\",\"Saipan, CNMI\",\"big boy \\u0089\\u00db\\u00a2 0802\",\"2 high 2 come down \",\"lost in my thoughts\",\"Hilton Head, SC  \",\"Brentwood, NY\",\"Chippenham/Bath, UK\",\"Yewa zone\",\"sitting on the fence, New York\",\"Carregado\",\"Largo, MD\",\"mexico\",\"Cape Town, Khayelitsha\",\"Stanford University\",\"Midwestern USA\",\"Bedford IN \",\"Thibodaux, LA\",\"In the moment\",\"Alliston Ontario\",\"SaudI arabia - riyadh \",\"New York. NY\",\"Athens - Nicosia\",\"Bremerton, WA\",\"Tulalip, Washington\",\"Orange County, Calif.\",\"Orange County, CA\",\"they/them\",\"houstn\",\"@cockerelshoes\",\"manaus\",\"Sioux Falls, S.D. \",\"Republica Dominicana\",\"Eastlake, OH\",\"Hillsville/Lynchburg, VA\",\"Some where\",\"Travelling around the world \",\" 616 \\u0089\\u00db\\u00a2 Kentwood , MI \",\"? Jet Life ?\",\"Fairy Tail! \",\"Santo Domingo Alma Rosa \",\"Somewhere Around You\",\"Houston |??| Corsicana\",\"Cincinnati, OH\",\"Bacon\",\"Some other mansion\",\"Astley, Manchester\",\"Bow, NH\",\"St. Patrick's Purgatory\",\"dreamy lake\",\"Tallahassee, FL\",\"650/559\",\"Laguna Beach, Calif. \",\" Nevada Carson City,Freeman St\",\"LA ??\",\"Aracaju - Sergipe\",\"Nashville, Tennessee\",\"Long Eaton \\u00e5\\u00e1 Derbyshire \\u00e5\\u00e1 UK\",\"Portage, IN / Worldwide\",\"Victoria, BC  Canada\",\"Roads/Trails Everywhere\",\"Liberty Township, Ohio\",\"Aberdeenshire\",\"A Hoop Somewhere\",\"Bloomington, Indiana\",\"Basking Ridge, NJ\",\"Stalybridge, Tameside\",\"Franklin, TN near Nashville\",\"St. Louis, Missouri\",\"Louisville, KY \",\"Freeport Ny\",\"Earth \",\"Bishops Stortford, England\",\"Christiana,Tennessee\",\"East London. \",\"Jammu and Kashmir\",\"Terlingua, Texas\",\"Somewhere in Jersey\",\"Stay Fly?\",\"Los Angeles... CA... USA\",\"Florida but I wanna be n Texas\",\"Kyiv, Ukraine\",\"JamDung\",\"Panam\\u00cc\\u00c1 \",\"Earth, Milky Way, Universe\",\"Edappally,Kochi\",\"In #Fairie, where else? ;-)\",\"???? ???????\",\"Rogersville, MO\",\"Telangana\",\"Chatham, IL\",\"Charter Member of the VRWC\",\"Wood Buffalo, Alberta\",\"Nakhon Si Thammarat\",\"Rhode Island\",\"Kauai, Hawaii\",\"Houston, TX  \",\"Palestine Texas\",\"my deli\",\"Trost District\",\"?????? in Yokohama Japan\",\"LFC x GSW\",\"Elmwood Park, NJ\",\"South east of U.K\",\"lrhcthband;four - bournemouth\",\"Oakland, Ca\",\"Antigua ?? NYC \",\"zboyer@washingtontimes.com\",\"Wonderland\\u0089\\u00db\\u00d3 ?????? ???? ??????\",\"elizabeth king\",\"London, United Kingdom\",\"Chicago Heights, IL\",\"S.F. Bay area\",\" Blood Indian Reserve\",\"On the toilet having a dump \",\"City of London, London\",\"Long Island, NY\",\"Somewhere with Clyde\",\"Quincy\",\"Varanasi\",\"Laredo, TX\",\"St. John's, NL, Canada\",\"Caserta-Roma, Italy \",\"Pekanbaru\\u00e5\\u00a1Batam Island\\u00e5\\u00a1Medan\",\"oman muscat al seeb \",\"Jogja, Indonesia Slowly Asia\",\"Avon, OH\",\"The North\",\"Just Happy to Be Anywhere\",\"Lima, Ohio\",\"Lowell, MA\",\"playing soccer & eating pizza\",\"Hueco Mundo\",\"Boston \\u0089\\u00db\\u00a2 Cape Cod ?\",\"Rafael castillo\",\"Fort Wayne, IN\",\"Enterprise, NV\",\"Grand Rapids MI\",\"Utica NY\",\"Nunya\",\"Nantes, France\",\"Youngstown, OH\",\"WestEnd, Puritan Ave \",\"Dimapur\",\"Thane\",\"New South Wales, Australia\",\"Poconos\",\"Jaipur, Rajasthan, India\",\"??? ???? ??????\",\"Bangalore\",\"Also follow ?\",\"Play For Ryan ??\",\"New York City ,NY\",\"jersey \",\"Corpus Christi, Texas\",\"Wolverhampton/Brum/Jersey\",\"Chamblee, Georgia\",\"Official Website\",\"#WashingtonState #Seattle\",\"TechFish \",\"United States where it's warm\",\"Hope Road, Jamaica \",\"Inside your webcam. Stop that.\",\"somewhere in Indiana \",\"Layang-Layang, Perak\",\"Enniscrone & Aughris, Sligo \",\"Atlanta, Ga\",\"Fort Fizz, Ohio\",\"Fort Lauderdale, FL\",\"Raleigh (Garner/Cleveland) NC\",\"Newcastle upon Tyne\",\"walking the tightrope\",\"Frascati\",\"College Station, TX\",\"Bishops Lydeard, England\",\"Up a hill\",\"Clearwater, FL\",\"Wellington\",\"#????? Libya#\",\"balvanera\",\"Aro Diaspora\",\"Nigeria, WORLDWIDE\",\"\\u00cc\\u00cfT: 0.0,0.0\",\"Eastbourne England\",\"State of Dreaming\",\"Mostly Wellington, NZ \",\"eARth 3\",\"Fruit Bowl\",\"518\",\"Top Secret\",\"Top secret bunker \",\"Belbroughton, England\",\"772 Temperance Permenence\",\"46.950109,7.439469\",\"In the Shadows\",\"Campo Grande-MS\",\"nbc washington\",\"Hamilton, Ontario Canada\",\"Dubai, United Arab Emirates\",\"IRAQ\",\"World news\",\"Bristol, UK\",\"labuan, malaysia\",\"right next to you\",\"CT ? NYC\",\"www.tmgcgart.com\",\"Melbourne-ish\",\"Brackley Beach, PE, Canada\",\"Wema building\",\"Hooters on Peachtree\",\"Jonesboro, Arkansas USA\",\"Kilkenny\",\"Murray Hill, New Jersey\",\"aggressive cannoli eater \",\"11202\",\"Atlantic, IA\",\"\\u00cc\\u00cfT: 36.142163,-95.979189\",\"Arthas US\",\"Funtua, Nigeria\",\"US-PR\",\"San Jose\",\"\\u00cc\\u00f8\\u00e5\\u00c0\\u00e5_T: 40.736324,-73.990062\",\"Washington, DC 20009\",\"Washington, Krasnodar (Russia)\",\"at my home\",\"District of Gentrification/ DC\",\"Washington, D.C. \",\"#MadeInNorthumberland\",\"Jamshedpur, Jharkhand\",\"eritrean\",\"Dayton, OH\",\"Halifax, Nouvelle-\\u00cc\\u00e4cosse\",\"Catalonia, Spain\",\"Otsego, MI\",\"Medford, Oregon\",\"ATL, GA\",\"Uyo, Akwa Ibom State, Nigeria\",\"us-east-1a\",\"RhodeIsland\",\"Napa, CA\",\"KOLKATA\",\"golborne, north west england.\",\"NYHC\",\"sweden\",\"ARBAILO\",\"Bagalkote Karnataka \",\"Shrewsbury\",\"Terre Haute, IN\",\"NH via Boston, MA\",\"QUEENS.\",\"ATL ??\",\"???????????\",\"Beautiful British Columbia\",\"Birmingham UK\",\"Columbia Heights, MN\",\"Amman, Jordan\",\"Tennessee/Gallifrey\",\"Bartholomew County, Indiana\",\"My mind is my world\",\"Catskills\",\"Right here\",\"Lawrence, KS via Emporia, KS\",\"http://twitch.tv/jcmonkey\",\"Marysville, MI\",\"New Haven, Connecticut\",\"Austin | San Diego\",\"??? ?? ??????? \",\"Pontevedra, Galicia\",\"London/New York\",\"261 5th Avenue New York, NY \",\"Rockville, Maryland\",\"Your Conversation\",\"USAoV\",\"Bhopal, Madhya Pradesh, India.\",\"#LemonGang \",\"ayr\",\"Loughborough, England\",\"U.S\",\"Cheshire. London. #allover\",\"london town..\",\"PS4, now stop asking\",\"Benedict College\",\"IM LOST \",\"Miami\",\"Hamilton, ON\",\"Des Moines, Iowa \",\"Rural Northern Nevada\",\"Republic of the Philippines\",\"Philippines \",\"hyderabad\",\"Vancouver (HQ) and worldwide\",\"Quezon City, Philippines\",\"Hartford,  connecticut\",\"Sioux Falls, SD\",\"Cornwall\",\"Beside Basketball\",\"Rome, Italy\",\"Tafekop Ga-Matsepe\",\"Vilnius\",\"Made in America\",\"Killarney\",\"Lahar & Gwalior\",\"Lincoln, IL\",\"Spinning through time.\",\"Kensington, MD\",\"Buffalo/DC\",\"Sylacauga, Alabama\",\"Cyprus\",\"kansas\",\"Los Angeles,CA, USA\",\"Carry On Jutta!!!\",\"Home of the Takers.\",\"?s????ss? a?????\",\"Alicante, Spain\",\"Mooresville, NC\",\"Mooseknuckle, Maine\",\"Palermo, Sicily\",\"Asunci\\u00cc_n-PY / T\\u00cc_bingen-GER\",\"Voorhees, NJ\",\"Wakanda\",\"Weyburn\",\"UGA '15 Alumnus - Economics \",\"the void, U.S.A\",\"mpls. \",\"The UK\",\"on the go\",\"somewhere in Portugal\",\"Hailing from Dayton \",\"Instagram: trillrebel_\",\"ALWAYS DYING NEVER RESTING\",\"2005 |-/\",\"Uruguay / Westeros / Gallifrey\",\"Jersey - C.I\",\"Afghanistan\",\"Atmosphere\",\"dundalk ireland\",\"Novi, MI\",\"Sochi, KDA, RU\",\"\\u00cc\\u00cfT: -26.695807,27.837865\",\"You're not 19 forever   \",\"Kettering, OH\",\"Milton Keynes \",\"ATL??AL??\",\"UPTOWN \",\"PROV\",\"Dorset, United Kingdom\",\"A small federal enclave\",\"Pune, mostly \",\"ACCRA GHANA\",\"Wasington, DC\",\"  News\",\"Newport, Wales, UK\",\"iTunes - RSS\",\"contactSimpleNews@gmail.com\",\"Upper manhattan, New York\",\"Devon/London \",\"ITALY\",\"Atlanta g.a.\",\"EVERYWHERE\",\"Mount Vernon, NY\",\"Jackson TN\",\"Los Angeles, London, Kent\",\"USA, Haiti, Nepal\",\"Portoviejo-Manabi-Ecuador\",\"chillin at ceder rapids\",\"en el pais de los arrechos\",\"Hinton, W.Va.\",\"Philadelphia, PA USA\",\"St Joseph de Beauce\",\"Varies \",\"Ottawa,Ontario Canada\",\"probably petting an animal\",\"In My Lab Creating \",\"Bronx NYC / M-City NY\",\"Bikini bottom\",\"back in japan ??????????\",\"Sharkatraz/Bindle's Cleft, PA\",\"Northern Ireland\",\"Bangalore. India\",\"Bangkok Thailand\",\"Brisbane.\",\"PG Chillin!\",\"FOLLOWS YOU everywhere you go\",\"-?s?s?j??s-\",\"Indonesia\\n\",\"The Meadow\",\"Brum/Lestah \",\"Dorset, UK\",\"Chester \",\"Banbridge\",\"Port Orange, FL\",\"Lima, Peru\",\"In Your Notifications \",\"Fort Worth, Texas\",\"Dappar (Mohali) Punjab\",\"Football Field\",\"i luv raquel\",\"austin, texas\",\"Macon, Georgia\",\"Ashxjonespr@gmail.com\",\"miami\",\"Abuja,Nigeria\",\"At Work\",\"Waialua, Hawaii\",\"Coconut Creek, Florida\",\"icon: cheese3d\",\"@notoriousD12\",\"Morris, IL\",\"Lynwood, CA\",\"Where the money at\",\"mi\",\"Gainesville/Tampa, FL\",\"Saint Louis, Missouri\",\"it's a journey \",\"Meereen \",\"Las Cruces, NM\",\"San Francisco , CA\",\"Kelowna, BC\",\"los angeles\",\"nearest trash can \",\"USA \",\"Morocco\",\"U.S.\",\"Visit our  dedicated website @\",\"Asia Pacific   \",\"Ojodu,Lagos\",\"48.870833,2.399227\",\"Caribbean\",\"UK  & Germany\",\"Manila\",\"Magnolia\",\"(Spain)\",\"Palestine \",\"Chappaqua NY and Redlands CA\",\"NYC-LA-MIAMI\",\"Okanagan Valley, BC\",\"Memphis,TN/ World Wide\",\"Brasil,SP\",\"Kwara, Nigeria\",\"Chicago,Illinois\",\"Lahti, Finland\",\"Here there and everywhere\",\"Boulder\",\"Temporary Towers\",\"Pueblo, CO\",\"Birmingham, UK\",\"Houston, Texas ! \",\"North East, England\",\"[marvel\\u0089\\u00db\\u00a2dragon age\\u0089\\u00db\\u00a2wicdiv]\",\"NBO\",\"St. Louis Mo.\",\"Birdland, New Meridian, FD\",\"Monterrey, M\\u00cc\\u00a9xico\",\"infj \",\"on twitter\",\"2B Hindhede Rd, Singapore\",\"Kalimantan Timur, Indonesia\",\"Prehistoric Earth\",\"san gabriel la union\",\"\\u00cc\\u00cfT: 33.209923,-87.545328\",\"NYC area\",\"Broomfield, CO\",\"Chicago, IL \",\"The Desert of the Real\",\"lee london\",\"DC, frequently NYC/San Diego\",\"Enterprise, Alabama\",\"\\u00e5\\u00f8\\\\_(?)_/\\u00e5\\u00f8\",\"Washington DC / Nantes, France\",\"Kalamazoo, Michigan\",\"SEC Country\",\"L'Enfant Plaza Metro Station\",\"Durban, South Africa\",\"Texas-USA\\u0089\\u00e3\\u00a2 ?\",\"Arlington, VA and DC\",\"Headed To The Top\",\"Mumbai (India)\",\"Coimbatore\",\"Chicago, IL 60607\",\"Chicagoland\",\"New Delhi\",\"Minneapolis,MN,US\",\"Middle Earth / Asgard / Berk\",\"Quilmes , Arg\",\"Richmond, VA\",\"Romania\",\"In my studio\",\"Queens New York\",\"Cuttack, Orissa\",\"Patra-Greece.\",\"All Around the World\",\"Valle Del Sol\",\"New York NYC\",\"Hickville, USA\",\"Silesia, Poland\",\"Balikesir - Eskisehir\",\"??????? ??????? ????????\",\"Soul Somalia/Body Montreal\",\"Yooooooo\",\"Jersey\",\"\\u00cc\\u00cfT: 19.123127,72.825133\",\"denver colorado\",\"Milton/Tallahassee\",\"Paname City\",\"K\\u00cc\\u00a6ln, Nordrhein-Westfalen\",\"Bod\\u00cc\\u00fc, Norge\",\"North Port, FL\",\"Waco, Texas\",\"Some pum pum\",\"???????? ?????????.\",\"Johannesburg \",\"Alvin, TX\",\"Wilbraham, MA\",\"Jerseyville, IL\",\"The Citadel, Oldtown, Westeros\",\"Trackside California\",\"he/him or she/her (ask)\",\"Paulton, England\",\"Live4Heed??\",\"SEA Server\",\"todaysbigstock.com\",\"buenos aires argentina\",\"everydaynigerian@gmail.com\",\"Surulere Lagos,Home Of Swagg\",\"Montr\\u00cc\\u00a9al, Qu\\u00cc\\u00a9bec\",\"Montreal\",\"\\u00cc\\u00cfT: 6.4682,3.18287\",\"Lincoln\"],\"yaxis\":\"y\",\"type\":\"scattergl\"}],                        {\"template\":{\"data\":{\"bar\":[{\"error_x\":{\"color\":\"#2a3f5f\"},\"error_y\":{\"color\":\"#2a3f5f\"},\"marker\":{\"line\":{\"color\":\"#E5ECF6\",\"width\":0.5},\"pattern\":{\"fillmode\":\"overlay\",\"size\":10,\"solidity\":0.2}},\"type\":\"bar\"}],\"barpolar\":[{\"marker\":{\"line\":{\"color\":\"#E5ECF6\",\"width\":0.5},\"pattern\":{\"fillmode\":\"overlay\",\"size\":10,\"solidity\":0.2}},\"type\":\"barpolar\"}],\"carpet\":[{\"aaxis\":{\"endlinecolor\":\"#2a3f5f\",\"gridcolor\":\"white\",\"linecolor\":\"white\",\"minorgridcolor\":\"white\",\"startlinecolor\":\"#2a3f5f\"},\"baxis\":{\"endlinecolor\":\"#2a3f5f\",\"gridcolor\":\"white\",\"linecolor\":\"white\",\"minorgridcolor\":\"white\",\"startlinecolor\":\"#2a3f5f\"},\"type\":\"carpet\"}],\"choropleth\":[{\"colorbar\":{\"outlinewidth\":0,\"ticks\":\"\"},\"type\":\"choropleth\"}],\"contour\":[{\"colorbar\":{\"outlinewidth\":0,\"ticks\":\"\"},\"colorscale\":[[0.0,\"#0d0887\"],[0.1111111111111111,\"#46039f\"],[0.2222222222222222,\"#7201a8\"],[0.3333333333333333,\"#9c179e\"],[0.4444444444444444,\"#bd3786\"],[0.5555555555555556,\"#d8576b\"],[0.6666666666666666,\"#ed7953\"],[0.7777777777777778,\"#fb9f3a\"],[0.8888888888888888,\"#fdca26\"],[1.0,\"#f0f921\"]],\"type\":\"contour\"}],\"contourcarpet\":[{\"colorbar\":{\"outlinewidth\":0,\"ticks\":\"\"},\"type\":\"contourcarpet\"}],\"heatmap\":[{\"colorbar\":{\"outlinewidth\":0,\"ticks\":\"\"},\"colorscale\":[[0.0,\"#0d0887\"],[0.1111111111111111,\"#46039f\"],[0.2222222222222222,\"#7201a8\"],[0.3333333333333333,\"#9c179e\"],[0.4444444444444444,\"#bd3786\"],[0.5555555555555556,\"#d8576b\"],[0.6666666666666666,\"#ed7953\"],[0.7777777777777778,\"#fb9f3a\"],[0.8888888888888888,\"#fdca26\"],[1.0,\"#f0f921\"]],\"type\":\"heatmap\"}],\"heatmapgl\":[{\"colorbar\":{\"outlinewidth\":0,\"ticks\":\"\"},\"colorscale\":[[0.0,\"#0d0887\"],[0.1111111111111111,\"#46039f\"],[0.2222222222222222,\"#7201a8\"],[0.3333333333333333,\"#9c179e\"],[0.4444444444444444,\"#bd3786\"],[0.5555555555555556,\"#d8576b\"],[0.6666666666666666,\"#ed7953\"],[0.7777777777777778,\"#fb9f3a\"],[0.8888888888888888,\"#fdca26\"],[1.0,\"#f0f921\"]],\"type\":\"heatmapgl\"}],\"histogram\":[{\"marker\":{\"pattern\":{\"fillmode\":\"overlay\",\"size\":10,\"solidity\":0.2}},\"type\":\"histogram\"}],\"histogram2d\":[{\"colorbar\":{\"outlinewidth\":0,\"ticks\":\"\"},\"colorscale\":[[0.0,\"#0d0887\"],[0.1111111111111111,\"#46039f\"],[0.2222222222222222,\"#7201a8\"],[0.3333333333333333,\"#9c179e\"],[0.4444444444444444,\"#bd3786\"],[0.5555555555555556,\"#d8576b\"],[0.6666666666666666,\"#ed7953\"],[0.7777777777777778,\"#fb9f3a\"],[0.8888888888888888,\"#fdca26\"],[1.0,\"#f0f921\"]],\"type\":\"histogram2d\"}],\"histogram2dcontour\":[{\"colorbar\":{\"outlinewidth\":0,\"ticks\":\"\"},\"colorscale\":[[0.0,\"#0d0887\"],[0.1111111111111111,\"#46039f\"],[0.2222222222222222,\"#7201a8\"],[0.3333333333333333,\"#9c179e\"],[0.4444444444444444,\"#bd3786\"],[0.5555555555555556,\"#d8576b\"],[0.6666666666666666,\"#ed7953\"],[0.7777777777777778,\"#fb9f3a\"],[0.8888888888888888,\"#fdca26\"],[1.0,\"#f0f921\"]],\"type\":\"histogram2dcontour\"}],\"mesh3d\":[{\"colorbar\":{\"outlinewidth\":0,\"ticks\":\"\"},\"type\":\"mesh3d\"}],\"parcoords\":[{\"line\":{\"colorbar\":{\"outlinewidth\":0,\"ticks\":\"\"}},\"type\":\"parcoords\"}],\"pie\":[{\"automargin\":true,\"type\":\"pie\"}],\"scatter\":[{\"marker\":{\"colorbar\":{\"outlinewidth\":0,\"ticks\":\"\"}},\"type\":\"scatter\"}],\"scatter3d\":[{\"line\":{\"colorbar\":{\"outlinewidth\":0,\"ticks\":\"\"}},\"marker\":{\"colorbar\":{\"outlinewidth\":0,\"ticks\":\"\"}},\"type\":\"scatter3d\"}],\"scattercarpet\":[{\"marker\":{\"colorbar\":{\"outlinewidth\":0,\"ticks\":\"\"}},\"type\":\"scattercarpet\"}],\"scattergeo\":[{\"marker\":{\"colorbar\":{\"outlinewidth\":0,\"ticks\":\"\"}},\"type\":\"scattergeo\"}],\"scattergl\":[{\"marker\":{\"colorbar\":{\"outlinewidth\":0,\"ticks\":\"\"}},\"type\":\"scattergl\"}],\"scattermapbox\":[{\"marker\":{\"colorbar\":{\"outlinewidth\":0,\"ticks\":\"\"}},\"type\":\"scattermapbox\"}],\"scatterpolar\":[{\"marker\":{\"colorbar\":{\"outlinewidth\":0,\"ticks\":\"\"}},\"type\":\"scatterpolar\"}],\"scatterpolargl\":[{\"marker\":{\"colorbar\":{\"outlinewidth\":0,\"ticks\":\"\"}},\"type\":\"scatterpolargl\"}],\"scatterternary\":[{\"marker\":{\"colorbar\":{\"outlinewidth\":0,\"ticks\":\"\"}},\"type\":\"scatterternary\"}],\"surface\":[{\"colorbar\":{\"outlinewidth\":0,\"ticks\":\"\"},\"colorscale\":[[0.0,\"#0d0887\"],[0.1111111111111111,\"#46039f\"],[0.2222222222222222,\"#7201a8\"],[0.3333333333333333,\"#9c179e\"],[0.4444444444444444,\"#bd3786\"],[0.5555555555555556,\"#d8576b\"],[0.6666666666666666,\"#ed7953\"],[0.7777777777777778,\"#fb9f3a\"],[0.8888888888888888,\"#fdca26\"],[1.0,\"#f0f921\"]],\"type\":\"surface\"}],\"table\":[{\"cells\":{\"fill\":{\"color\":\"#EBF0F8\"},\"line\":{\"color\":\"white\"}},\"header\":{\"fill\":{\"color\":\"#C8D4E3\"},\"line\":{\"color\":\"white\"}},\"type\":\"table\"}]},\"layout\":{\"annotationdefaults\":{\"arrowcolor\":\"#2a3f5f\",\"arrowhead\":0,\"arrowwidth\":1},\"autotypenumbers\":\"strict\",\"coloraxis\":{\"colorbar\":{\"outlinewidth\":0,\"ticks\":\"\"}},\"colorscale\":{\"diverging\":[[0,\"#8e0152\"],[0.1,\"#c51b7d\"],[0.2,\"#de77ae\"],[0.3,\"#f1b6da\"],[0.4,\"#fde0ef\"],[0.5,\"#f7f7f7\"],[0.6,\"#e6f5d0\"],[0.7,\"#b8e186\"],[0.8,\"#7fbc41\"],[0.9,\"#4d9221\"],[1,\"#276419\"]],\"sequential\":[[0.0,\"#0d0887\"],[0.1111111111111111,\"#46039f\"],[0.2222222222222222,\"#7201a8\"],[0.3333333333333333,\"#9c179e\"],[0.4444444444444444,\"#bd3786\"],[0.5555555555555556,\"#d8576b\"],[0.6666666666666666,\"#ed7953\"],[0.7777777777777778,\"#fb9f3a\"],[0.8888888888888888,\"#fdca26\"],[1.0,\"#f0f921\"]],\"sequentialminus\":[[0.0,\"#0d0887\"],[0.1111111111111111,\"#46039f\"],[0.2222222222222222,\"#7201a8\"],[0.3333333333333333,\"#9c179e\"],[0.4444444444444444,\"#bd3786\"],[0.5555555555555556,\"#d8576b\"],[0.6666666666666666,\"#ed7953\"],[0.7777777777777778,\"#fb9f3a\"],[0.8888888888888888,\"#fdca26\"],[1.0,\"#f0f921\"]]},\"colorway\":[\"#636efa\",\"#EF553B\",\"#00cc96\",\"#ab63fa\",\"#FFA15A\",\"#19d3f3\",\"#FF6692\",\"#B6E880\",\"#FF97FF\",\"#FECB52\"],\"font\":{\"color\":\"#2a3f5f\"},\"geo\":{\"bgcolor\":\"white\",\"lakecolor\":\"white\",\"landcolor\":\"#E5ECF6\",\"showlakes\":true,\"showland\":true,\"subunitcolor\":\"white\"},\"hoverlabel\":{\"align\":\"left\"},\"hovermode\":\"closest\",\"mapbox\":{\"style\":\"light\"},\"paper_bgcolor\":\"white\",\"plot_bgcolor\":\"#E5ECF6\",\"polar\":{\"angularaxis\":{\"gridcolor\":\"white\",\"linecolor\":\"white\",\"ticks\":\"\"},\"bgcolor\":\"#E5ECF6\",\"radialaxis\":{\"gridcolor\":\"white\",\"linecolor\":\"white\",\"ticks\":\"\"}},\"scene\":{\"xaxis\":{\"backgroundcolor\":\"#E5ECF6\",\"gridcolor\":\"white\",\"gridwidth\":2,\"linecolor\":\"white\",\"showbackground\":true,\"ticks\":\"\",\"zerolinecolor\":\"white\"},\"yaxis\":{\"backgroundcolor\":\"#E5ECF6\",\"gridcolor\":\"white\",\"gridwidth\":2,\"linecolor\":\"white\",\"showbackground\":true,\"ticks\":\"\",\"zerolinecolor\":\"white\"},\"zaxis\":{\"backgroundcolor\":\"#E5ECF6\",\"gridcolor\":\"white\",\"gridwidth\":2,\"linecolor\":\"white\",\"showbackground\":true,\"ticks\":\"\",\"zerolinecolor\":\"white\"}},\"shapedefaults\":{\"line\":{\"color\":\"#2a3f5f\"}},\"ternary\":{\"aaxis\":{\"gridcolor\":\"white\",\"linecolor\":\"white\",\"ticks\":\"\"},\"baxis\":{\"gridcolor\":\"white\",\"linecolor\":\"white\",\"ticks\":\"\"},\"bgcolor\":\"#E5ECF6\",\"caxis\":{\"gridcolor\":\"white\",\"linecolor\":\"white\",\"ticks\":\"\"}},\"title\":{\"x\":0.05},\"xaxis\":{\"automargin\":true,\"gridcolor\":\"white\",\"linecolor\":\"white\",\"ticks\":\"\",\"title\":{\"standoff\":15},\"zerolinecolor\":\"white\",\"zerolinewidth\":2},\"yaxis\":{\"automargin\":true,\"gridcolor\":\"white\",\"linecolor\":\"white\",\"ticks\":\"\",\"title\":{\"standoff\":15},\"zerolinecolor\":\"white\",\"zerolinewidth\":2}}},\"xaxis\":{\"anchor\":\"y\",\"domain\":[0.0,1.0],\"title\":{\"text\":\"x\"}},\"yaxis\":{\"anchor\":\"x\",\"domain\":[0.0,1.0],\"title\":{\"text\":\"index\"}},\"legend\":{\"tracegroupgap\":0,\"itemsizing\":\"constant\"},\"margin\":{\"t\":60}},                        {\"responsive\": true}                    ).then(function(){\n",
              "                            \n",
              "var gd = document.getElementById('5da09205-9fdf-4261-b8d0-37ba659f65e8');\n",
              "var x = new MutationObserver(function (mutations, observer) {{\n",
              "        var display = window.getComputedStyle(gd).display;\n",
              "        if (!display || display === 'none') {{\n",
              "            console.log([gd, 'removed!']);\n",
              "            Plotly.purge(gd);\n",
              "            observer.disconnect();\n",
              "        }}\n",
              "}});\n",
              "\n",
              "// Listen for the removal of the full notebook cells\n",
              "var notebookContainer = gd.closest('#notebook-container');\n",
              "if (notebookContainer) {{\n",
              "    x.observe(notebookContainer, {childList: true});\n",
              "}}\n",
              "\n",
              "// Listen for the clearing of the current output cell\n",
              "var outputEl = gd.closest('.output');\n",
              "if (outputEl) {{\n",
              "    x.observe(outputEl, {childList: true});\n",
              "}}\n",
              "\n",
              "                        })                };                            </script>        </div>\n",
              "</body>\n",
              "</html>"
            ]
          },
          "metadata": {}
        }
      ]
    },
    {
      "cell_type": "code",
      "source": [
        "# Replacing the ambigious locations name with standard names and create a dictionary object\n",
        "loc_dict = {\"United States\":'USA',\n",
        "            \"New York\":'USA',\n",
        "            \"London\":'UK',\n",
        "            \"Los Angeles, CA\":'USA',\n",
        "            \"Washington, D.C.\":'USA',\n",
        "            \"California\":'USA',\n",
        "            \"Chicago, IL\":'USA',\n",
        "            \"Chicago\":'USA',\n",
        "            \"New York, NY\":'USA',\n",
        "            \"California, USA\":'USA',\n",
        "            \"FLorida\":'USA',\n",
        "            \"San Francisco\":'USA',\n",
        "            \"Florida\":'USA',\n",
        "            \"Los Angeles\":'USA',\n",
        "            \"San Francisco, CA\":'USA',\n",
        "            \"NYC\":'USA',\n",
        "            \"New York City\":'USA',\n",
        "            \"Texas\":'USA',\n",
        "            \"Atlanta, GA\":'USA',\n",
        "            \"Seattle\":'USA',\n",
        "\n",
        "            \"Nigeria\":'Africa',\n",
        "            \"Kenya\":'Africa',\n",
        "\n",
        "            \"Everywhere\":'Worldwide',\n",
        "            \"Earth\":'Worldwide',\n",
        "\n",
        "            \"Toronto\":'Canada',\n",
        "\n",
        "            \"United Kingdom\":'UK',\n",
        "            \"Ireland\":'UK',\n",
        "            \"London, England\":'UK',\n",
        "            \"London, UK\":'UK',\n",
        "            \"Mumbai\":\"India\"\n",
        "            \n",
        "            # todo             \n",
        "}\n",
        "\n",
        "# replace() method takes a dictionary that maps old values to new values. \n",
        "df_train['location'].replace(loc_dict,inplace=True)\n",
        "\n",
        "\n",
        "#Create barchart for top 10 locations using seaborn\n",
        "sns.barplot(y=df_train['location'].value_counts()[:10].index,x=df_train['location'].value_counts()[:10],\n",
        "          orient='h');\n"
      ],
      "metadata": {
        "colab": {
          "base_uri": "https://localhost:8080/",
          "height": 279
        },
        "id": "bCJESq2Z1Lky",
        "outputId": "41292c3b-6577-46fe-8a33-7a747e5cbd1c"
      },
      "execution_count": 56,
      "outputs": [
        {
          "output_type": "display_data",
          "data": {
            "text/plain": [
              "<Figure size 432x288 with 1 Axes>"
            ],
            "image/png": "[encoded data removed]"
          },
          "metadata": {
            "needs_background": "light"
          }
        }
      ]
    },
    {
      "cell_type": "code",
      "source": [
        "most_count_loc = df_train[\"location\"].value_counts().keys()[1:20]\n",
        "df_most_count_loc = df_train[df_train.location.isin(most_count_loc)]\n",
        "grouped = df_most_count_loc.groupby(['location', 'target']).size().reset_index(name='Count')\n",
        "pivot_table = grouped.pivot(index='location', columns='target', values='Count')\n",
        "\n",
        "# Create a new figure object with a larger size\n",
        "fig, ax = plt.subplots(figsize=(12, 8))\n",
        "pivot_table.plot.bar(stacked=True, ax=ax)\n",
        "\n",
        "# Adjust the subplot spacing\n",
        "fig.subplots_adjust(left=0.1, right=0.9, bottom=0.1, top=0.9, wspace=0.2, hspace=0.2)\n",
        "\n",
        "plt.show()"
      ],
      "metadata": {
        "colab": {
          "base_uri": "https://localhost:8080/",
          "height": 600
        },
        "id": "w4hQz6FClrvf",
        "outputId": "b71364bb-9e79-4903-cd3c-1deb51714e9c"
      },
      "execution_count": 106,
      "outputs": [
        {
          "output_type": "display_data",
          "data": {
            "text/plain": [
              "<Figure size 864x576 with 1 Axes>"
            ],
            "image/png": "[encoded data removed]"
          },
          "metadata": {
            "needs_background": "light"
          }
        }
      ]
    },
    {
      "cell_type": "markdown",
      "source": [
        "Because it contains a large missing values in term of location features, we will drop and exculde this feature from further analysis and modeling  "
      ],
      "metadata": {
        "id": "wJvIbDIW4Urj"
      }
    },
    {
      "cell_type": "code",
      "source": [
        "df_train[\"location\"].unique()"
      ],
      "metadata": {
        "colab": {
          "base_uri": "https://localhost:8080/"
        },
        "id": "ZyMEBykg0BWZ",
        "outputId": "37de2d56-d9e3-4e74-aa9f-3e61abd205d8"
      },
      "execution_count": 57,
      "outputs": [
        {
          "output_type": "execute_result",
          "data": {
            "text/plain": [
              "array(['no_location', 'Birmingham', 'Est. September 2012 - Bristol', ...,\n",
              "       'Vancouver, Canada', 'London ', 'Lincoln'], dtype=object)"
            ]
          },
          "metadata": {},
          "execution_count": 57
        }
      ]
    },
    {
      "cell_type": "markdown",
      "source": [
        "### Length of each tweet sentence"
      ],
      "metadata": {
        "id": "XfdZGOMrFxrk"
      }
    },
    {
      "cell_type": "markdown",
      "source": [
        "Investigate and visualize length of tweets in the file available."
      ],
      "metadata": {
        "id": "F2SfxRoCFuFk"
      }
    },
    {
      "cell_type": "code",
      "source": [
        "df_train[\"tweet_len\"] = df_train[\"text\"].apply(lambda x : len(x))\n",
        "df_train.head()"
      ],
      "metadata": {
        "colab": {
          "base_uri": "https://localhost:8080/",
          "height": 206
        },
        "id": "5wcRATQ_xz-k",
        "outputId": "9ba193a6-4b18-4c38-b303-29395f21d602"
      },
      "execution_count": 58,
      "outputs": [
        {
          "output_type": "execute_result",
          "data": {
            "text/plain": [
              "   id     keyword     location  \\\n",
              "0   1  no_keyword  no_location   \n",
              "1   4  no_keyword  no_location   \n",
              "2   5  no_keyword  no_location   \n",
              "3   6  no_keyword  no_location   \n",
              "4   7  no_keyword  no_location   \n",
              "\n",
              "                                                text  target  tweet_len  \n",
              "0  Our Deeds are the Reason of this #earthquake M...       1         69  \n",
              "1             Forest fire near La Ronge Sask. Canada       1         38  \n",
              "2  All residents asked to 'shelter in place' are ...       1        133  \n",
              "3  13,000 people receive #wildfires evacuation or...       1         65  \n",
              "4  Just got sent this photo from Ruby #Alaska as ...       1         88  "
            ],
            "text/html": [
              "\n",
              "  <div id=\"df-7dc2bd35-1ad6-406d-8471-b441b664bfc7\">\n",
              "    <div class=\"colab-df-container\">\n",
              "      <div>\n",
              "<style scoped>\n",
              "    .dataframe tbody tr th:only-of-type {\n",
              "        vertical-align: middle;\n",
              "    }\n",
              "\n",
              "    .dataframe tbody tr th {\n",
              "        vertical-align: top;\n",
              "    }\n",
              "\n",
              "    .dataframe thead th {\n",
              "        text-align: right;\n",
              "    }\n",
              "</style>\n",
              "<table border=\"1\" class=\"dataframe\">\n",
              "  <thead>\n",
              "    <tr style=\"text-align: right;\">\n",
              "      <th></th>\n",
              "      <th>id</th>\n",
              "      <th>keyword</th>\n",
              "      <th>location</th>\n",
              "      <th>text</th>\n",
              "      <th>target</th>\n",
              "      <th>tweet_len</th>\n",
              "    </tr>\n",
              "  </thead>\n",
              "  <tbody>\n",
              "    <tr>\n",
              "      <th>0</th>\n",
              "      <td>1</td>\n",
              "      <td>no_keyword</td>\n",
              "      <td>no_location</td>\n",
              "      <td>Our Deeds are the Reason of this #earthquake M...</td>\n",
              "      <td>1</td>\n",
              "      <td>69</td>\n",
              "    </tr>\n",
              "    <tr>\n",
              "      <th>1</th>\n",
              "      <td>4</td>\n",
              "      <td>no_keyword</td>\n",
              "      <td>no_location</td>\n",
              "      <td>Forest fire near La Ronge Sask. Canada</td>\n",
              "      <td>1</td>\n",
              "      <td>38</td>\n",
              "    </tr>\n",
              "    <tr>\n",
              "      <th>2</th>\n",
              "      <td>5</td>\n",
              "      <td>no_keyword</td>\n",
              "      <td>no_location</td>\n",
              "      <td>All residents asked to 'shelter in place' are ...</td>\n",
              "      <td>1</td>\n",
              "      <td>133</td>\n",
              "    </tr>\n",
              "    <tr>\n",
              "      <th>3</th>\n",
              "      <td>6</td>\n",
              "      <td>no_keyword</td>\n",
              "      <td>no_location</td>\n",
              "      <td>13,000 people receive #wildfires evacuation or...</td>\n",
              "      <td>1</td>\n",
              "      <td>65</td>\n",
              "    </tr>\n",
              "    <tr>\n",
              "      <th>4</th>\n",
              "      <td>7</td>\n",
              "      <td>no_keyword</td>\n",
              "      <td>no_location</td>\n",
              "      <td>Just got sent this photo from Ruby #Alaska as ...</td>\n",
              "      <td>1</td>\n",
              "      <td>88</td>\n",
              "    </tr>\n",
              "  </tbody>\n",
              "</table>\n",
              "</div>\n",
              "      <button class=\"colab-df-convert\" onclick=\"convertToInteractive('df-7dc2bd35-1ad6-406d-8471-b441b664bfc7')\"\n",
              "              title=\"Convert this dataframe to an interactive table.\"\n",
              "              style=\"display:none;\">\n",
              "        \n",
              "  <svg xmlns=\"http://www.w3.org/2000/svg\" height=\"24px\"viewBox=\"0 0 24 24\"\n",
              "       width=\"24px\">\n",
              "    <path d=\"M0 0h24v24H0V0z\" fill=\"none\"/>\n",
              "    <path d=\"M18.56 5.44l.94 2.06.94-2.06 2.06-.94-2.06-.94-.94-2.06-.94 2.06-2.06.94zm-11 1L8.5 8.5l.94-2.06 2.06-.94-2.06-.94L8.5 2.5l-.94 2.06-2.06.94zm10 10l.94 2.06.94-2.06 2.06-.94-2.06-.94-.94-2.06-.94 2.06-2.06.94z\"/><path d=\"M17.41 7.96l-1.37-1.37c-.4-.4-.92-.59-1.43-.59-.52 0-1.04.2-1.43.59L10.3 9.45l-7.72 7.72c-.78.78-.78 2.05 0 2.83L4 21.41c.39.39.9.59 1.41.59.51 0 1.02-.2 1.41-.59l7.78-7.78 2.81-2.81c.8-.78.8-2.07 0-2.86zM5.41 20L4 18.59l7.72-7.72 1.47 1.35L5.41 20z\"/>\n",
              "  </svg>\n",
              "      </button>\n",
              "      \n",
              "  <style>\n",
              "    .colab-df-container {\n",
              "      display:flex;\n",
              "      flex-wrap:wrap;\n",
              "      gap: 12px;\n",
              "    }\n",
              "\n",
              "    .colab-df-convert {\n",
              "      background-color: #E8F0FE;\n",
              "      border: none;\n",
              "      border-radius: 50%;\n",
              "      cursor: pointer;\n",
              "      display: none;\n",
              "      fill: #1967D2;\n",
              "      height: 32px;\n",
              "      padding: 0 0 0 0;\n",
              "      width: 32px;\n",
              "    }\n",
              "\n",
              "    .colab-df-convert:hover {\n",
              "      background-color: #E2EBFA;\n",
              "      box-shadow: 0px 1px 2px rgba(60, 64, 67, 0.3), 0px 1px 3px 1px rgba(60, 64, 67, 0.15);\n",
              "      fill: #174EA6;\n",
              "    }\n",
              "\n",
              "    [theme=dark] .colab-df-convert {\n",
              "      background-color: #3B4455;\n",
              "      fill: #D2E3FC;\n",
              "    }\n",
              "\n",
              "    [theme=dark] .colab-df-convert:hover {\n",
              "      background-color: #434B5C;\n",
              "      box-shadow: 0px 1px 3px 1px rgba(0, 0, 0, 0.15);\n",
              "      filter: drop-shadow(0px 1px 2px rgba(0, 0, 0, 0.3));\n",
              "      fill: #FFFFFF;\n",
              "    }\n",
              "  </style>\n",
              "\n",
              "      <script>\n",
              "        const buttonEl =\n",
              "          document.querySelector('#df-7dc2bd35-1ad6-406d-8471-b441b664bfc7 button.colab-df-convert');\n",
              "        buttonEl.style.display =\n",
              "          google.colab.kernel.accessAllowed ? 'block' : 'none';\n",
              "\n",
              "        async function convertToInteractive(key) {\n",
              "          const element = document.querySelector('#df-7dc2bd35-1ad6-406d-8471-b441b664bfc7');\n",
              "          const dataTable =\n",
              "            await google.colab.kernel.invokeFunction('convertToInteractive',\n",
              "                                                     [key], {});\n",
              "          if (!dataTable) return;\n",
              "\n",
              "          const docLinkHtml = 'Like what you see? Visit the ' +\n",
              "            '<a target=\"_blank\" href=https://colab.research.google.com/notebooks/data_table.ipynb>data table notebook</a>'\n",
              "            + ' to learn more about interactive tables.';\n",
              "          element.innerHTML = '';\n",
              "          dataTable['output_type'] = 'display_data';\n",
              "          await google.colab.output.renderOutput(dataTable, element);\n",
              "          const docLink = document.createElement('div');\n",
              "          docLink.innerHTML = docLinkHtml;\n",
              "          element.appendChild(docLink);\n",
              "        }\n",
              "      </script>\n",
              "    </div>\n",
              "  </div>\n",
              "  "
            ]
          },
          "metadata": {},
          "execution_count": 58
        }
      ]
    },
    {
      "cell_type": "code",
      "source": [
        "df_train[\"tweet_len\"].describe()"
      ],
      "metadata": {
        "colab": {
          "base_uri": "https://localhost:8080/"
        },
        "id": "gVYW6GzKxz6Q",
        "outputId": "3fbb4821-4560-4b6b-e6f7-57d07a0d13c0"
      },
      "execution_count": 59,
      "outputs": [
        {
          "output_type": "execute_result",
          "data": {
            "text/plain": [
              "count    7613.000000\n",
              "mean      101.037436\n",
              "std        33.781325\n",
              "min         7.000000\n",
              "25%        78.000000\n",
              "50%       107.000000\n",
              "75%       133.000000\n",
              "max       157.000000\n",
              "Name: tweet_len, dtype: float64"
            ]
          },
          "metadata": {},
          "execution_count": 59
        }
      ]
    },
    {
      "cell_type": "code",
      "source": [
        "sns.distplot(df_train['tweet_len'].values, hist=True, kde=True, kde_kws={\"shade\": True})\n",
        "plt.axvline(df_train['tweet_len'].describe()['25%'], ls=\"--\")\n",
        "plt.axvline(df_train['tweet_len'].describe()['50%'], ls=\"--\")\n",
        "plt.axvline(df_train['tweet_len'].describe()['75%'], ls=\"--\")\n",
        "\n",
        "plt.grid()\n",
        "plt.suptitle(\"Word count histogram\")\n",
        "plt.show()"
      ],
      "metadata": {
        "colab": {
          "base_uri": "https://localhost:8080/",
          "height": 294
        },
        "id": "gemGjLuBKmeH",
        "outputId": "9fb091b1-8d41-4dac-dd5b-556f6f4cb496"
      },
      "execution_count": 60,
      "outputs": [
        {
          "output_type": "display_data",
          "data": {
            "text/plain": [
              "<Figure size 432x288 with 1 Axes>"
            ],
            "image/png": "[encoded data removed]"
          },
          "metadata": {
            "needs_background": "light"
          }
        }
      ]
    },
    {
      "cell_type": "markdown",
      "source": [
        "See how distribution of tweet len comparasion to target value"
      ],
      "metadata": {
        "id": "uvfXQNeZMrT0"
      }
    },
    {
      "cell_type": "code",
      "source": [
        "fig, (ax1, ax2) =  plt.subplots(1, 2, sharex=True,figsize=(10,6))\n",
        "sns.distplot(df_train[(df_train['target'] == 1)]['tweet_len'], ax=ax1, kde=False, color='green',label='Disater texts')\n",
        "sns.distplot(df_train[(df_train['target'] == 0)]['tweet_len'],ax=ax2, kde=False, color='red',label='Non-Disater texts');\n",
        "fig.suptitle('tweet length distribution')\n",
        "fig.legend(loc='upper right')\n",
        "ax1.grid()\n",
        "ax2.grid()\n",
        "plt.show()"
      ],
      "metadata": {
        "colab": {
          "base_uri": "https://localhost:8080/",
          "height": 436
        },
        "id": "mXwmxcSvKm2e",
        "outputId": "01971b9e-6d5c-4681-c8aa-1f0594ae5d17"
      },
      "execution_count": 62,
      "outputs": [
        {
          "output_type": "display_data",
          "data": {
            "text/plain": [
              "<Figure size 720x432 with 2 Axes>"
            ],
            "image/png": "[encoded data removed]"
          },
          "metadata": {
            "needs_background": "light"
          }
        }
      ]
    },
    {
      "cell_type": "markdown",
      "source": [
        "### Length of words in each tweet sentence"
      ],
      "metadata": {
        "id": "ruzcDE-sswkT"
      }
    },
    {
      "cell_type": "code",
      "source": [
        "df_train[\"tweet_words_count\"] = df_train[\"text\"].str.split().apply(lambda x : len(x))\n",
        "df_train.head()"
      ],
      "metadata": {
        "colab": {
          "base_uri": "https://localhost:8080/",
          "height": 206
        },
        "id": "qmExbevotFbl",
        "outputId": "a0ceec94-939b-4665-b6dd-75d7c0556b02"
      },
      "execution_count": 110,
      "outputs": [
        {
          "output_type": "execute_result",
          "data": {
            "text/plain": [
              "   id     keyword     location  \\\n",
              "0   1  no_keyword  no_location   \n",
              "1   4  no_keyword  no_location   \n",
              "2   5  no_keyword  no_location   \n",
              "3   6  no_keyword  no_location   \n",
              "4   7  no_keyword  no_location   \n",
              "\n",
              "                                                text  target  tweet_len  \\\n",
              "0  Our Deeds are the Reason of this #earthquake M...       1         69   \n",
              "1             Forest fire near La Ronge Sask. Canada       1         38   \n",
              "2  All residents asked to 'shelter in place' are ...       1        133   \n",
              "3  13,000 people receive #wildfires evacuation or...       1         65   \n",
              "4  Just got sent this photo from Ruby #Alaska as ...       1         88   \n",
              "\n",
              "   tweet_words_count  \n",
              "0                 13  \n",
              "1                  7  \n",
              "2                 22  \n",
              "3                  8  \n",
              "4                 16  "
            ],
            "text/html": [
              "\n",
              "  <div id=\"df-2227c1c3-d879-4cbc-8480-8f5adfcd08c4\">\n",
              "    <div class=\"colab-df-container\">\n",
              "      <div>\n",
              "<style scoped>\n",
              "    .dataframe tbody tr th:only-of-type {\n",
              "        vertical-align: middle;\n",
              "    }\n",
              "\n",
              "    .dataframe tbody tr th {\n",
              "        vertical-align: top;\n",
              "    }\n",
              "\n",
              "    .dataframe thead th {\n",
              "        text-align: right;\n",
              "    }\n",
              "</style>\n",
              "<table border=\"1\" class=\"dataframe\">\n",
              "  <thead>\n",
              "    <tr style=\"text-align: right;\">\n",
              "      <th></th>\n",
              "      <th>id</th>\n",
              "      <th>keyword</th>\n",
              "      <th>location</th>\n",
              "      <th>text</th>\n",
              "      <th>target</th>\n",
              "      <th>tweet_len</th>\n",
              "      <th>tweet_words_count</th>\n",
              "    </tr>\n",
              "  </thead>\n",
              "  <tbody>\n",
              "    <tr>\n",
              "      <th>0</th>\n",
              "      <td>1</td>\n",
              "      <td>no_keyword</td>\n",
              "      <td>no_location</td>\n",
              "      <td>Our Deeds are the Reason of this #earthquake M...</td>\n",
              "      <td>1</td>\n",
              "      <td>69</td>\n",
              "      <td>13</td>\n",
              "    </tr>\n",
              "    <tr>\n",
              "      <th>1</th>\n",
              "      <td>4</td>\n",
              "      <td>no_keyword</td>\n",
              "      <td>no_location</td>\n",
              "      <td>Forest fire near La Ronge Sask. Canada</td>\n",
              "      <td>1</td>\n",
              "      <td>38</td>\n",
              "      <td>7</td>\n",
              "    </tr>\n",
              "    <tr>\n",
              "      <th>2</th>\n",
              "      <td>5</td>\n",
              "      <td>no_keyword</td>\n",
              "      <td>no_location</td>\n",
              "      <td>All residents asked to 'shelter in place' are ...</td>\n",
              "      <td>1</td>\n",
              "      <td>133</td>\n",
              "      <td>22</td>\n",
              "    </tr>\n",
              "    <tr>\n",
              "      <th>3</th>\n",
              "      <td>6</td>\n",
              "      <td>no_keyword</td>\n",
              "      <td>no_location</td>\n",
              "      <td>13,000 people receive #wildfires evacuation or...</td>\n",
              "      <td>1</td>\n",
              "      <td>65</td>\n",
              "      <td>8</td>\n",
              "    </tr>\n",
              "    <tr>\n",
              "      <th>4</th>\n",
              "      <td>7</td>\n",
              "      <td>no_keyword</td>\n",
              "      <td>no_location</td>\n",
              "      <td>Just got sent this photo from Ruby #Alaska as ...</td>\n",
              "      <td>1</td>\n",
              "      <td>88</td>\n",
              "      <td>16</td>\n",
              "    </tr>\n",
              "  </tbody>\n",
              "</table>\n",
              "</div>\n",
              "      <button class=\"colab-df-convert\" onclick=\"convertToInteractive('df-2227c1c3-d879-4cbc-8480-8f5adfcd08c4')\"\n",
              "              title=\"Convert this dataframe to an interactive table.\"\n",
              "              style=\"display:none;\">\n",
              "        \n",
              "  <svg xmlns=\"http://www.w3.org/2000/svg\" height=\"24px\"viewBox=\"0 0 24 24\"\n",
              "       width=\"24px\">\n",
              "    <path d=\"M0 0h24v24H0V0z\" fill=\"none\"/>\n",
              "    <path d=\"M18.56 5.44l.94 2.06.94-2.06 2.06-.94-2.06-.94-.94-2.06-.94 2.06-2.06.94zm-11 1L8.5 8.5l.94-2.06 2.06-.94-2.06-.94L8.5 2.5l-.94 2.06-2.06.94zm10 10l.94 2.06.94-2.06 2.06-.94-2.06-.94-.94-2.06-.94 2.06-2.06.94z\"/><path d=\"M17.41 7.96l-1.37-1.37c-.4-.4-.92-.59-1.43-.59-.52 0-1.04.2-1.43.59L10.3 9.45l-7.72 7.72c-.78.78-.78 2.05 0 2.83L4 21.41c.39.39.9.59 1.41.59.51 0 1.02-.2 1.41-.59l7.78-7.78 2.81-2.81c.8-.78.8-2.07 0-2.86zM5.41 20L4 18.59l7.72-7.72 1.47 1.35L5.41 20z\"/>\n",
              "  </svg>\n",
              "      </button>\n",
              "      \n",
              "  <style>\n",
              "    .colab-df-container {\n",
              "      display:flex;\n",
              "      flex-wrap:wrap;\n",
              "      gap: 12px;\n",
              "    }\n",
              "\n",
              "    .colab-df-convert {\n",
              "      background-color: #E8F0FE;\n",
              "      border: none;\n",
              "      border-radius: 50%;\n",
              "      cursor: pointer;\n",
              "      display: none;\n",
              "      fill: #1967D2;\n",
              "      height: 32px;\n",
              "      padding: 0 0 0 0;\n",
              "      width: 32px;\n",
              "    }\n",
              "\n",
              "    .colab-df-convert:hover {\n",
              "      background-color: #E2EBFA;\n",
              "      box-shadow: 0px 1px 2px rgba(60, 64, 67, 0.3), 0px 1px 3px 1px rgba(60, 64, 67, 0.15);\n",
              "      fill: #174EA6;\n",
              "    }\n",
              "\n",
              "    [theme=dark] .colab-df-convert {\n",
              "      background-color: #3B4455;\n",
              "      fill: #D2E3FC;\n",
              "    }\n",
              "\n",
              "    [theme=dark] .colab-df-convert:hover {\n",
              "      background-color: #434B5C;\n",
              "      box-shadow: 0px 1px 3px 1px rgba(0, 0, 0, 0.15);\n",
              "      filter: drop-shadow(0px 1px 2px rgba(0, 0, 0, 0.3));\n",
              "      fill: #FFFFFF;\n",
              "    }\n",
              "  </style>\n",
              "\n",
              "      <script>\n",
              "        const buttonEl =\n",
              "          document.querySelector('#df-2227c1c3-d879-4cbc-8480-8f5adfcd08c4 button.colab-df-convert');\n",
              "        buttonEl.style.display =\n",
              "          google.colab.kernel.accessAllowed ? 'block' : 'none';\n",
              "\n",
              "        async function convertToInteractive(key) {\n",
              "          const element = document.querySelector('#df-2227c1c3-d879-4cbc-8480-8f5adfcd08c4');\n",
              "          const dataTable =\n",
              "            await google.colab.kernel.invokeFunction('convertToInteractive',\n",
              "                                                     [key], {});\n",
              "          if (!dataTable) return;\n",
              "\n",
              "          const docLinkHtml = 'Like what you see? Visit the ' +\n",
              "            '<a target=\"_blank\" href=https://colab.research.google.com/notebooks/data_table.ipynb>data table notebook</a>'\n",
              "            + ' to learn more about interactive tables.';\n",
              "          element.innerHTML = '';\n",
              "          dataTable['output_type'] = 'display_data';\n",
              "          await google.colab.output.renderOutput(dataTable, element);\n",
              "          const docLink = document.createElement('div');\n",
              "          docLink.innerHTML = docLinkHtml;\n",
              "          element.appendChild(docLink);\n",
              "        }\n",
              "      </script>\n",
              "    </div>\n",
              "  </div>\n",
              "  "
            ]
          },
          "metadata": {},
          "execution_count": 110
        }
      ]
    },
    {
      "cell_type": "code",
      "source": [
        "fig, (ax1, ax2) =  plt.subplots(1, 2, sharex=True,figsize=(10,6))\n",
        "sns.distplot(df_train[(df_train['target'] == 1)]['tweet_words_count'], ax=ax1, kde=False, color='green',label='Disater texts')\n",
        "sns.distplot(df_train[(df_train['target'] == 0)]['tweet_words_count'],ax=ax2, kde=False, color='red',label='Non-Disater texts');\n",
        "fig.suptitle('tweet length distribution')\n",
        "fig.legend(loc='upper right')\n",
        "ax1.grid()\n",
        "ax2.grid()\n",
        "plt.show()"
      ],
      "metadata": {
        "colab": {
          "base_uri": "https://localhost:8080/",
          "height": 436
        },
        "id": "EY7PN8q4xzxQ",
        "outputId": "8af4eec2-e8d2-4b02-b458-b0a28c577383"
      },
      "execution_count": 111,
      "outputs": [
        {
          "output_type": "display_data",
          "data": {
            "text/plain": [
              "<Figure size 720x432 with 2 Axes>"
            ],
            "image/png": "[encoded data removed]"
          },
          "metadata": {
            "needs_background": "light"
          }
        }
      ]
    }
  ]
}